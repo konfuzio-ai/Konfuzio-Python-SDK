{
 "nbformat": 4,
 "nbformat_minor": 0,
 "metadata": {
  "colab": {
   "name": "Copy of word_count.ipynb",
   "provenance": [],
   "collapsed_sections": []
  },
  "kernelspec": {
   "display_name": "Python 3",
   "language": "python",
   "name": "python3"
  },
  "language_info": {
   "codemirror_mode": {
    "name": "ipython",
    "version": 3
   },
   "file_extension": ".py",
   "mimetype": "text/x-python",
   "name": "python",
   "nbconvert_exporter": "python",
   "pygments_lexer": "ipython3",
   "version": "3.8.8"
  }
 },
 "cells": [
  {
   "cell_type": "markdown",
   "metadata": {
    "id": "UQESFKcjS4nx"
   },
   "source": [
    "# Count Relevant Expressions in Annual Reports"
   ]
  },
  {
   "cell_type": "markdown",
   "metadata": {
    "id": "vWeyroPMyuRq"
   },
   "source": [
    "Having data in a structured and organized way enables deeper analysis and understanding of information. An example, is the analysis of specific keywords in annual reports to know the subjects in which companies focus their attention and investments along the time.\n",
    "\n",
    "The Konfuzio SDK allows to do this by posting annotations in documents of your Konfuzio project. These annotations can then be downloaded in a structured way, associating each annotation to a certain label and document.\n",
    "\n",
    "This allows different possible analysis. This tutorial guides you through how to identify and count pre-specified expressions in documents.\n",
    "\n",
    "The aim is to analyse how much sustainability plays a role in the annual reports of german companies over a certain time span, particularly in relation to the appearance of the Covid-19 pandemic."
   ]
  },
  {
   "cell_type": "markdown",
   "metadata": {
    "id": "W2tIzdx8y_yT"
   },
   "source": [
    "## 1. Install and initialize the Konfuzio SDK package"
   ]
  },
  {
   "cell_type": "markdown",
   "metadata": {
    "id": "HMm8RM1nS4nz"
   },
   "source": [
    "\n",
    "Start by installing and initializing the konfuzio sdk package.  \n",
    "\n",
    "To use the package, please also register or sign in on app.konfuzio.com. \n",
    "Find more information in the readme of the [repository](https://github.com/konfuzio-ai/document-ai-python-sdk)."
   ]
  },
  {
   "cell_type": "code",
   "metadata": {
    "id": "nKF17IqFS4n0"
   },
   "source": [
    "!pip install konfuzio-sdk"
   ],
   "execution_count": null,
   "outputs": []
  },
  {
   "cell_type": "code",
   "metadata": {
    "id": "-o_rWhbeS4n1"
   },
   "source": [
    "!konfuzio_sdk init"
   ],
   "execution_count": null,
   "outputs": []
  },
  {
   "cell_type": "markdown",
   "metadata": {
    "id": "uzkqRIedS4n2"
   },
   "source": [
    "You also need to import the required packages shown below."
   ]
  },
  {
   "cell_type": "code",
   "metadata": {
    "id": "ofpFxdhIS4n2"
   },
   "source": [
    "import glob\n",
    "import os\n",
    "import re\n",
    "import matplotlib.pyplot as plt\n",
    "import pandas as pd\n",
    "from konfuzio_sdk import SUPPORTED_FILE_TYPES\n",
    "from konfuzio_sdk.data import Project, Annotation, Document, Label\n",
    "from konfuzio_sdk.utils import get_file_type"
   ],
   "execution_count": null,
   "outputs": []
  },
  {
   "cell_type": "markdown",
   "metadata": {
    "id": "D2y_TzOxS4n3"
   },
   "source": [
    "## 2. Initiate the project "
   ]
  },
  {
   "cell_type": "markdown",
   "metadata": {
    "id": "RzFBxrV8zQJL"
   },
   "source": [
    "Initiating the project might take some time if you use huge file volumes.  \n",
    "The files will be stored locally in the folder you specified before which is \"data_[project_id]\" by default."
   ]
  },
  {
   "cell_type": "code",
   "metadata": {
    "id": "qRdVSbk-ZCB-"
   },
   "source": [
    "my_project = Project()"
   ],
   "execution_count": null,
   "outputs": []
  },
  {
   "cell_type": "markdown",
   "metadata": {
    "id": "20PuE1oKagAG"
   },
   "source": [
    "Upload your documents using the following code."
   ]
  },
  {
   "cell_type": "code",
   "metadata": {
    "id": "CJTCCN8HafQM"
   },
   "source": [
    "from google.colab import files\n",
    "uploaded = files.upload()"
   ],
   "execution_count": null,
   "outputs": []
  },
  {
   "cell_type": "code",
   "metadata": {
    "id": "sDZPsy0PaiYN"
   },
   "source": [
    "# filter the documents by the supported file types\n",
    "files_to_check = [f for f in glob.glob('*') if os.path.isfile(f) and not f.endswith('.py')]\n",
    "files_in_dir = []\n",
    "\n",
    "for file_path in files_to_check:\n",
    "    try:\n",
    "        file_type = get_file_type(file_path)\n",
    "        if file_type in SUPPORTED_FILE_TYPES:\n",
    "          files_in_dir.append(file_path)\n",
    "    except NotImplemented:\n",
    "      continue"
   ],
   "execution_count": null,
   "outputs": []
  },
  {
   "cell_type": "code",
   "metadata": {
    "id": "ua2AX8vbak7P"
   },
   "source": [
    "for doc_file in files_in_dir:\n",
    "    Document(file_path=doc_file, project=my_project).save()"
   ],
   "execution_count": null,
   "outputs": []
  },
  {
   "cell_type": "markdown",
   "metadata": {
    "id": "wnvkqqbvasXJ"
   },
   "source": [
    "Note:  \n",
    "\n",
    "If you prefer, use the example documents in the example folder with sample documents provided [here](https://drive.google.com/drive/folders/1iWPBdxHqR8j8CWUdbVHO7OzIxZsOXe-l).\n",
    "\n",
    "The documents are annual reports from companies which are part of the prime standard (full list of companies in prime standard can be found [here](https://www.deutsche-boerse-cash-market.com/dbcm-de/instrumente-statistiken/statistiken/gelistete-unternehmen)).   \n",
    "\n",
    "Alternatively, you can do this step directly on the Konfuzio Server by uploading the documents there.  \n",
    "For more details take a look [here](https://help.konfuzio.com/documents/receipt/index.html#upload-receipts)."
   ]
  },
  {
   "cell_type": "markdown",
   "metadata": {
    "id": "Kc7IBUaKbL-h"
   },
   "source": [
    "Update your project to have the information of the documents after being processed by the server."
   ]
  },
  {
   "cell_type": "code",
   "metadata": {
    "id": "-CTgMP9zS4n6"
   },
   "source": [
    "my_project.update()"
   ],
   "execution_count": null,
   "outputs": []
  },
  {
   "cell_type": "markdown",
   "metadata": {
    "id": "1UShNLVnbw1I"
   },
   "source": [
    "Get the documents from the project."
   ]
  },
  {
   "cell_type": "code",
   "metadata": {
    "id": "tamvX9d-bvO4"
   },
   "source": [
    "documents = my_project.get_documents_from_project()"
   ],
   "execution_count": null,
   "outputs": []
  },
  {
   "cell_type": "markdown",
   "metadata": {
    "id": "AyhR9aQQb4e1"
   },
   "source": [
    "Check how many documents there are."
   ]
  },
  {
   "cell_type": "code",
   "metadata": {
    "id": "tJv1s2_yb8PB"
   },
   "source": [
    "print(len(documents))"
   ],
   "execution_count": null,
   "outputs": []
  },
  {
   "cell_type": "markdown",
   "metadata": {
    "id": "nAQUs1mYzeTG"
   },
   "source": [
    "## 3. Specify the expressions you want to count"
   ]
  },
  {
   "cell_type": "markdown",
   "metadata": {
    "id": "pZeoLwkoS4n7"
   },
   "source": [
    "Our aim is to count expressions related to sustainability (here: _climate_expressions_) and expressions related to pandemics (here: _pandemic_expressions_).  \n",
    "Hence, we specify certain words and expressions related to these subjects.   These expressions will then be searched in the documents of the project to find exact matches. However, there is flexibility for lower- or uppercases. "
   ]
  },
  {
   "cell_type": "code",
   "metadata": {
    "id": "68svETvnS4n7"
   },
   "source": [
    "# List of climate expressions to match\n",
    "climate_expressions = [re.compile(\"climate change|climate crisis|climate emergency|climate breakdown\", re.I),\n",
    "                       re.compile(\"global warming|global heating\", re.I),\n",
    "                       re.compile(\"Greenhouse Gas\", re.I),\n",
    "                       re.compile(\"carbon emission\", re.I),\n",
    "                       re.compile(\"renewable energy|renewable sources\", re.I)]"
   ],
   "execution_count": null,
   "outputs": []
  },
  {
   "cell_type": "code",
   "metadata": {
    "id": "tEb8CIgdS4n8"
   },
   "source": [
    "# List of pandemic expressions to match\n",
    "pandemic_expressions = [re.compile(\"Corona\", re.I),\n",
    "                     re.compile(\"Covid\", re.I),\n",
    "                     re.compile(\"pandemic\", re.I),\n",
    "                     re.compile(\"lockdown\", re.I)]"
   ],
   "execution_count": null,
   "outputs": []
  },
  {
   "cell_type": "markdown",
   "metadata": {
    "id": "g5Bfzw_hzhLE"
   },
   "source": [
    "## 4. Define the labels in the project"
   ]
  },
  {
   "cell_type": "markdown",
   "metadata": {
    "id": "Dr3CZHZzS4n8"
   },
   "source": [
    "As we have expressions related to different subjects, we want to create a label for each one.  "
   ]
  },
  {
   "cell_type": "markdown",
   "metadata": {
    "id": "IQDu6mnCdDFa"
   },
   "source": [
    "To do this, start by setting up a template on app.konfuzio.com (_Templates -> + Add Template_). \n",
    "It is important and necessary that each new annotation gets assigned to a new section. Therefore, tick the box \"Has multiple sections\" to achieve this. "
   ]
  },
  {
   "cell_type": "markdown",
   "metadata": {
    "id": "MsTGWbfTeLgm"
   },
   "source": [
    "Update your project to get the new template."
   ]
  },
  {
   "cell_type": "code",
   "metadata": {
    "id": "nuhkgOb5eKfC"
   },
   "source": [
    "my_project.update()"
   ],
   "execution_count": null,
   "outputs": []
  },
  {
   "cell_type": "markdown",
   "metadata": {
    "id": "PWFlJTF2eRbH"
   },
   "source": [
    "Get the ID of the template."
   ]
  },
  {
   "cell_type": "code",
   "metadata": {
    "id": "MRDQ4S3fe5Ol"
   },
   "source": [
    "template = [template for template in my_project.templates if not template.is_default][0]"
   ],
   "execution_count": null,
   "outputs": []
  },
  {
   "cell_type": "markdown",
   "metadata": {
    "id": "BWxb7rLEdI_j"
   },
   "source": [
    "Now, you can add labels to your respective template.  \n",
    "These labels serve as categories or containers for your annotations. In our example, we cluster our annotations into expressions either related to pandemic or to sustainability. Therefore, we create two labels \"Pandemic\" and \"Climate\" to allocate the annotations accordingly. Down below, we define the label names of the project we want to use and match them with the existing ones in our project for the further proceeding.\n"
   ]
  },
  {
   "cell_type": "code",
   "metadata": {
    "id": "FHahG8ZAfC3J"
   },
   "source": [
    "# labels for which we want to cluster the expressions\n",
    "labels_names = ['Pandemic', 'Climate']"
   ],
   "execution_count": null,
   "outputs": []
  },
  {
   "cell_type": "code",
   "metadata": {
    "id": "JpisFRXsfRax"
   },
   "source": [
    "for label in labels_names:\n",
    "    Label(project=my_project, text=label, templates=[template]).save()"
   ],
   "execution_count": null,
   "outputs": []
  },
  {
   "cell_type": "markdown",
   "metadata": {
    "id": "qyZdPLNJffA_"
   },
   "source": [
    "To confirm that the labels exist in the project:"
   ]
  },
  {
   "cell_type": "code",
   "metadata": {
    "id": "fWSX2SeWS4n8"
   },
   "source": [
    "my_project.update()\n",
    "\n",
    "print(f\"Current labels in your project:\\n{my_project.labels}\")"
   ],
   "execution_count": null,
   "outputs": []
  },
  {
   "cell_type": "markdown",
   "metadata": {
    "id": "0BT9MtydgyqQ"
   },
   "source": [
    "Collect the defined labels and the correspondent template."
   ]
  },
  {
   "cell_type": "code",
   "metadata": {
    "id": "ptQvCT9VS4n8"
   },
   "source": [
    "# labels defined in the Konfuzio project that match the ones we want\n",
    "labels = [label for label in my_project.labels if label.name in labels_names]\n",
    "\n",
    "# correspondent templates\n",
    "templates = [my_label.templates[0] for my_label in labels]"
   ],
   "execution_count": null,
   "outputs": []
  },
  {
   "cell_type": "markdown",
   "metadata": {
    "id": "_af_mfsIzuHn"
   },
   "source": [
    "## 5. Find matches for the expressions in the documents"
   ]
  },
  {
   "cell_type": "markdown",
   "metadata": {
    "id": "hWAEXOcFS4n8"
   },
   "source": [
    "Now we find expressions in the documents which exactly match the expressions we defined above.  \n",
    "If there is a match, it will be saved as an annotation in a separate section in the documents and can be viewed on app.konfuzio.com in the SmartView (https://app.konfuzio.com/admin/server/document/) of the respective document.  \n",
    "If there are separate expressions next to each other in one document, they are counted as separate ones although they could be viewed as one single expression."
   ]
  },
  {
   "cell_type": "code",
   "metadata": {
    "id": "zyfs0sEupS5N"
   },
   "source": [
    "# find matches for each label in each document and save the annotations in the corresponding documents\n",
    "expressions = {'Climate': climate_expressions, 'Pandemic': pandemic_expressions}\n",
    "\n",
    "for document in documents:\n",
    "    for label, template in zip(labels, templates):\n",
    "    \n",
    "        for exp in expressions[label.name]:\n",
    "            matches = [(m.start(0), m.end(0)) for m in re.finditer(exp, document.text)]\n",
    "        \n",
    "            for match in matches:\n",
    "                annotation_obj = Annotation(\n",
    "                    document=document,\n",
    "                    section=None,\n",
    "                    document_id=document.id,\n",
    "                    start_offset=match[0],\n",
    "                    end_offset=match[1],\n",
    "                    label=label,\n",
    "                    template_id=template.id,\n",
    "                    accuracy=1.0,\n",
    "                    is_correct=True,\n",
    "                    revised=True,\n",
    "                )\n",
    "                \n",
    "                _ = annotation_obj.save()"
   ],
   "execution_count": null,
   "outputs": []
  },
  {
   "cell_type": "markdown",
   "metadata": {
    "id": "KUh-HrkES4n-"
   },
   "source": [
    "After the annotations have been created online, update the documents with the posted annotations. "
   ]
  },
  {
   "cell_type": "code",
   "metadata": {
    "id": "A9_AG-YTgXLP"
   },
   "source": [
    "for document in documents:\n",
    "    document.get_document_details(update=True)"
   ],
   "execution_count": null,
   "outputs": []
  },
  {
   "cell_type": "markdown",
   "metadata": {
    "id": "Zmr3pQzeghVF"
   },
   "source": [
    "Let's check how many matches were found in the first document.  \n",
    "You can find the annotations of a document using the method **annotations()**."
   ]
  },
  {
   "cell_type": "code",
   "metadata": {
    "id": "jwEdHBrAhFsj"
   },
   "source": [
    "print(len(documents[0].annotations()))"
   ],
   "execution_count": null,
   "outputs": []
  },
  {
   "cell_type": "markdown",
   "metadata": {
    "id": "J__8LeQBg39y"
   },
   "source": [
    "## 6. Data analysis"
   ]
  },
  {
   "cell_type": "markdown",
   "metadata": {
    "id": "J-bVin16hRPU"
   },
   "source": [
    "Let's have a quick look into how many matches were found."
   ]
  },
  {
   "cell_type": "markdown",
   "metadata": {
    "id": "nZiw6HcsS4n_"
   },
   "source": [
    "The following provides you with the annotations per label for each of our respective documents separately, giving you the opportunity to analyze the annotations for the individual documents. "
   ]
  },
  {
   "cell_type": "code",
   "metadata": {
    "id": "GDKBrnBrS4n_"
   },
   "source": [
    "# count of annotations per document and per label\n",
    "print(\"Annotations per document and per label:\")\n",
    "for doc in documents:\n",
    "    count_dict_doc= {}\n",
    "    print(\"\\n{}:\".format(doc))\n",
    "\n",
    "    for annotation in doc.annotations():\n",
    "        label_name = annotation.label.name\n",
    "        if label_name in labels_names:\n",
    "            if label_name in count_dict_doc.keys():\n",
    "                count_dict_doc[label_name] += 1\n",
    "            else:\n",
    "                count_dict_doc[label_name] = 1\n",
    "                \n",
    "    print(count_dict_doc)"
   ],
   "execution_count": null,
   "outputs": []
  },
  {
   "cell_type": "markdown",
   "metadata": {
    "id": "jlGi_hDthdy6"
   },
   "source": [
    "The Annotations are now also posted on app.konfuzio.com. You can view them in the Smartview there.  \n",
    "To do a more complete and extensive analysis and to get a first glance about what is possible with the results we achieved with this tutorial, you can either use the provided code down below or you can export the information from the Konfuzio server by downloading the data as a csv file.\n",
    "\n",
    "To download the csv file, please follow [these](https://help.konfuzio.com/integrations/csv/index.html) steps."
   ]
  },
  {
   "cell_type": "markdown",
   "metadata": {
    "id": "-3HCYoKJi5CN"
   },
   "source": [
    "This csv provides you with further possibilities to work with the data and draw conclusions from it.\n",
    "\n",
    "In this example we choose to analyze the relation between the occurences of sustainability and pandemic expressions, hence whether companies decreased their attention to sustainability issues with the arise of a global pandemic. In the code provided below, you can take a look at a first analysis drawn from the data we achieved with this analysis of the annual reports of the companies. "
   ]
  },
  {
   "cell_type": "markdown",
   "metadata": {
    "id": "LKJElSXA8k0C"
   },
   "source": [
    "Retrieve different information from the documents of your Konfuzio project and create a dataframe with these information for a better overview:"
   ]
  },
  {
   "cell_type": "code",
   "metadata": {
    "id": "7ZbnSIVgShvM"
   },
   "source": [
    "docs_info = []\n",
    "\n",
    "for doc in documents:\n",
    "  annot = doc.annotations()\n",
    "  doc_info = {'name': doc.name,\n",
    "              'ISIN': doc.name.split(\"_\")[0],\n",
    "              'year': doc.name.split(\"_\")[1][:4],\n",
    "              'ID': doc.id,\n",
    "              'URL': doc.file_url,\n",
    "              'status': doc.dataset_status,\n",
    "              'n_pages': doc.number_of_pages,\n",
    "              'topics_climate': len([a for a in annot if a.label.name == 'Climate']),\n",
    "              'topics_pandemic': len([a for a in annot if a.label.name == 'Pandemic'])}\n",
    "  \n",
    "  docs_info.append(doc_info)\n",
    "\n",
    "df = pd.DataFrame(data=docs_info)\n",
    "df.head()"
   ],
   "execution_count": null,
   "outputs": []
  },
  {
   "cell_type": "markdown",
   "metadata": {
    "id": "pOthXaSgC9sL"
   },
   "source": [
    "Retrieve the total number of pages of all annual reports present in the dataset as well as the total count of climate and pandemic expressions."
   ]
  },
  {
   "cell_type": "code",
   "metadata": {
    "id": "ICgHO2uNdbuE",
    "colab": {
     "base_uri": "https://localhost:8080/"
    },
    "outputId": "49777e6d-89cd-424b-baa8-501f8ee34a8a"
   },
   "source": [
    "sum_pages = df['n_pages'].sum()\n",
    "print(\"Total sum of pages in dataset: {}.\".format(sum_pages))\n",
    "sum_topics_climate = df[\"topics_climate\"].sum()\n",
    "print(\"Total sum of topics_climate: {}.\".format(sum_topics_climate))\n",
    "sum_topics_pandemic = df[\"topics_pandemic\"].sum()\n",
    "print(\"Total sum of topics_pandemic: {}.\".format(sum_topics_pandemic))"
   ],
   "execution_count": null,
   "outputs": [
    {
     "output_type": "stream",
     "text": [
      "Total sum of pages in dataset: 2096.\n",
      "Total sum of topics_climate: 61.\n",
      "Total sum of topics_pandemic: 354.\n"
     ],
     "name": "stdout"
    }
   ]
  },
  {
   "cell_type": "markdown",
   "metadata": {
    "id": "t9tC1H6u-0m4"
   },
   "source": [
    "Furthermore, group the number of climate and pandemic expressions by year to analyze the development of occurrences of each one over the timespan from 2010 to 2020:"
   ]
  },
  {
   "cell_type": "code",
   "metadata": {
    "id": "WSJh6RhXGeO0"
   },
   "source": [
    "def count_per_year(dataframe, label):\n",
    "    grouped = dataframe.groupby('year')['topics_' + label].sum()\n",
    "    grouped_df = {'count_' + label: grouped}\n",
    "    grouped_df = pd.DataFrame(data=grouped_df)\n",
    "    grouped_df.plot(kind = 'bar')\n",
    "    plt.title(f'Number of {label} expressions per year')"
   ],
   "execution_count": null,
   "outputs": []
  },
  {
   "cell_type": "code",
   "metadata": {
    "id": "7EAK8uMLAvA-"
   },
   "source": [
    "count_per_year(df, 'climate')\n",
    "count_per_year(df, 'pandemic')"
   ],
   "execution_count": null,
   "outputs": []
  },
  {
   "cell_type": "markdown",
   "metadata": {
    "id": "tpeiyaT_DZ4D"
   },
   "source": [
    "\n",
    "You will get two figures similar to the following ones:\n",
    "\n",
    "![count_words_result_climate.png](data:image/png;base64,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)\n",
    "\n",
    "![count_words_result_pandemic.png](data:image/png;base64,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)"
   ]
  },
  {
   "cell_type": "markdown",
   "metadata": {
    "id": "xgH-ib8jycY9"
   },
   "source": [
    "As we can recognize, sustainability still played an important role for companies with the issue even increasing in importance and occurence over the years. As expected, pandemic expressions strongly rose with the beginning and emergence of the Covid-19 pandemic.  \n",
    "\n",
    "For further background information and additional application possibilities, as well as specific analysises of the different sectors during the timespan analyzed, we kindly want to refer to our blogpost coming soon [here](https://konfuzio.com/)."
   ]
  }
 ]
}
