{
 "cells": [
  {
   "cell_type": "markdown",
   "metadata": {},
   "source": [
    "## Prepare Training and Testing Data\n",
    "\n",
    "---\n",
    "\n",
    "**Prerequisites:**\n",
    "- Basic knowledge about what training and testing means in the context of AI models\n",
    "- Be familiar with uploading Documents using the Konfuzio UI\n",
    "- Have access to a Konfuzio Project or have the permissions to create one\n",
    "\n",
    "**Difficulty:** Easy\n",
    "\n",
    "**Goal:** Be able to programmatically upload Documents within a Konfuzio Project.\n",
    "\n",
    "---\n",
    "\n",
    "### Introduction\n",
    "Before training an AI model, Documents for training and testing need to be uploaded within a Konfuzio Project. This can be done in two ways: using the server interface, detailed instruction to upload Documents are [here](https://help.konfuzio.com/modules/documents/index.html). Alternatively, to reduce the manual work of uploading many Documents at once the instructions described in this tutorial can be followed."
   ]
  },
  {
   "cell_type": "markdown",
   "metadata": {},
   "source": [
    "### Upload Documents"
   ]
  },
  {
   "cell_type": "markdown",
   "metadata": {},
   "source": [
    "We start by defining a path where a PDF Document exists."
   ]
  },
  {
   "cell_type": "code",
   "execution_count": null,
   "metadata": {},
   "outputs": [],
   "source": [
    "FILE_PATH_1 = 'path/to/pdf_file1.pdf'\n",
    "FILE_PATH_2 = 'path/to/pdf_file2.pdf'\n",
    "FILE_PATH_3 = 'path/to/pdf_file3.pdf'"
   ]
  },
  {
   "cell_type": "code",
   "execution_count": 10,
   "metadata": {
    "tags": [
     "remove-cell"
    ]
   },
   "outputs": [],
   "source": [
    "# This cell gets removed when the notebook is compiled as markdown\n",
    "FILE_PATH = '../../../../tests/test_data/pdf.pdf'\n",
    "\n",
    "# Use the same file for the sake of local testing\n",
    "FILE_PATH_1 = FILE_PATH_2 = FILE_PATH_3 = FILE_PATH"
   ]
  },
  {
   "cell_type": "markdown",
   "metadata": {},
   "source": [
    "We import the id of the default test Project, as well as the libraries we need:"
   ]
  },
  {
   "cell_type": "code",
   "execution_count": 12,
   "metadata": {
    "tags": [
     "remove-cell"
    ]
   },
   "outputs": [],
   "source": [
    "# This is necessary to make sure we can import from 'tests'\n",
    "import sys\n",
    "sys.path.insert(0, '../../../../')"
   ]
  },
  {
   "cell_type": "code",
   "execution_count": null,
   "metadata": {},
   "outputs": [],
   "source": [
    "from tests.variables import TEST_PROJECT_ID\n",
    "from konfuzio_sdk.data import Project, Document"
   ]
  },
  {
   "cell_type": "markdown",
   "metadata": {},
   "source": [
    "We now initialize a Konfuzio Project object and a list of paths with the PDFs of interest: "
   ]
  },
  {
   "cell_type": "code",
   "execution_count": null,
   "metadata": {
    "tags": [
     "remove-output"
    ]
   },
   "outputs": [],
   "source": [
    "project = Project(id_=TEST_PROJECT_ID)\n",
    "file_paths = [FILE_PATH_1, FILE_PATH_2, FILE_PATH_3]"
   ]
  },
  {
   "cell_type": "markdown",
   "metadata": {},
   "source": [
    "Then, create a new Document from each PDF in the list of paths `file_paths`:"
   ]
  },
  {
   "cell_type": "code",
   "execution_count": null,
   "metadata": {
    "tags": [
     "remove-cell"
    ]
   },
   "outputs": [],
   "source": [
    "# Executed for testing\n",
    "for document_path in file_paths:\n",
    "    _ = Document.from_file(document_path, project=project, sync=False)\n",
    "    _.delete(delete_online=True)"
   ]
  },
  {
   "cell_type": "code",
   "execution_count": 7,
   "metadata": {
    "tags": [
     "skip-execution"
    ]
   },
   "outputs": [],
   "source": [
    "for document_path in file_paths:\n",
    "    _ = Document.from_file(document_path, project=project, sync=False)"
   ]
  },
  {
   "cell_type": "markdown",
   "metadata": {},
   "source": [
    "The `Document.from_file` method uploads a new Document to the Konfuzio server. The [documentation](https://dev.konfuzio.com/sdk/sourcecode.html#document) provides an overview of the returned values and optional paramenters for this method."
   ]
  },
  {
   "cell_type": "markdown",
   "metadata": {
    "link": "get_started.html#modify-document",
    "tags": []
   },
   "source": [
    "### Optional: Alter Document Status\n",
    "A Document in the Konfuzio Server can be assigned a Status defining if the Document belongs to the Training or Testing data-set. Setting a Status for a Document is necessary to determine which Documents will be used for Training (status 1) and which will be used for Testing (status 2). More information can be found in the [Konfuzio Manual](https://help.konfuzio.com/modules/documents/index.html#id1), and an example can be found [here](https://dev.konfuzio.com/sdk/get_started.html#modify-document)."
   ]
  },
  {
   "cell_type": "markdown",
   "metadata": {},
   "source": [
    "### Conclusion\n",
    "In this tutorial, we have walked through the essential steps for programmatically uploading PDFs to the Konfuzio Server. Below is the full code to accomplish this task:"
   ]
  },
  {
   "cell_type": "code",
   "execution_count": null,
   "metadata": {
    "tags": [
     "skip-execution"
    ]
   },
   "outputs": [],
   "source": [
    "from tests.variables import TEST_PROJECT_ID\n",
    "from konfuzio_sdk.data import Project, Document\n",
    "\n",
    "FILE_PATH_1 = 'path/to/pdf_file1.pdf'\n",
    "FILE_PATH_2 = 'path/to/pdf_file2.pdf'\n",
    "FILE_PATH_3 = 'path/to/pdf_file3.pdf'\n",
    "\n",
    "project = Project(id_=TEST_PROJECT_ID)\n",
    "file_paths = [FILE_PATH_1, FILE_PATH_2, FILE_PATH_3]\n",
    "\n",
    "for document_path in file_paths:\n",
    "    _ = Document.from_file(document_path, project=project, sync=False)"
   ]
  }
 ],
 "metadata": {
  "kernelspec": {
   "display_name": "konfuzio",
   "language": "python",
   "name": "python3"
  },
  "language_info": {
   "codemirror_mode": {
    "name": "ipython",
    "version": 3
   },
   "file_extension": ".py",
   "mimetype": "text/x-python",
   "name": "python",
   "nbconvert_exporter": "python",
   "pygments_lexer": "ipython3",
   "version": "3.8.18"
  }
 },
 "nbformat": 4,
 "nbformat_minor": 2
}
