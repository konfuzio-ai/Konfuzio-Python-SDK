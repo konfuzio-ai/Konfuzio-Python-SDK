{
 "cells": [
  {
   "cell_type": "markdown",
   "id": "fd79206a",
   "metadata": {},
   "source": [
    "## Creating a Konfuzio project from scratch"
   ]
  },
  {
   "cell_type": "markdown",
   "id": "7b07d87f",
   "metadata": {},
   "source": [
    "## Creating a project and the prerequisites"
   ]
  },
  {
   "cell_type": "markdown",
   "id": "0d4557e0",
   "metadata": {},
   "source": [
    "This is an extract from [this](https://help.konfuzio.com/tutorials/quickstart/index.html) video tutorial. For more detailed information address it."
   ]
  },
  {
   "cell_type": "markdown",
   "id": "33a4e53c",
   "metadata": {},
   "source": [
    "To create a project, go to the main server page and press \"Create a project\". Give it a name and save it. "
   ]
  },
  {
   "cell_type": "markdown",
   "id": "d5695ad3",
   "metadata": {},
   "source": [
    "Before adding any documents, we need to create labels for future annotations. They can include any type of information that is to be extracted from the documents, i.e. \"Total\", \"Description\", \"Net sum\". \n",
    "\n",
    "To create a label, go to Home > Labels > + Add. \n",
    "\n",
    "Each label has to be named; it also has the tickbox \"Multiple\" allowing for it occuring in the document more than once. \n",
    "\n",
    "Threshold allows setting a minimal level of confidence (model's prediction accuracy – how sure the model is about the label) for putting a label — for example, 0.1 threshold means the label will only be assigned if model has 10 or more percents of confidence about this label. \n",
    "\n",
    "Data type allows to choose what type of information will be under the label, i.e. text, percentage.\n",
    "\n",
    "After filling all the necessary fields, save the label."
   ]
  },
  {
   "cell_type": "markdown",
   "id": "41bb8420",
   "metadata": {},
   "source": [
    "Labels are grouped into label sets. We need to create at least one label set because labels have to be assigned one.  \n",
    "\n",
    "To create a label set, go to Home > Label sets > + Add; you can also use an automatically made set that has a name similar to that of the project. \n",
    "\n",
    "After creating or selecting a label set, add all the necessary labels in it.\n",
    "\n",
    "If you create a new label set, you also need to assign it a category.\n",
    "\n",
    "After all changes, save the resulting set. "
   ]
  },
  {
   "cell_type": "markdown",
   "id": "27c11b76",
   "metadata": {},
   "source": [
    "##  Uploading the documents"
   ]
  },
  {
   "cell_type": "markdown",
   "id": "0b8c2f8e",
   "metadata": {},
   "source": [
    "Ideally, to build a dataset you will need at least a hundred of documents. The training and testing shares can be divided as 80%/20%. "
   ]
  },
  {
   "cell_type": "markdown",
   "id": "b4c18e0f",
   "metadata": {},
   "source": [
    "All the documents must fit a certain set of requirements:"
   ]
  },
  {
   "cell_type": "markdown",
   "id": "b134a12d",
   "metadata": {},
   "source": [
    "- each document has to contain only one unit (i.e. no multiple documents scanned as a single file);\n",
    "- if document's length is more than one page, the pages have to be sorted or at least the ground-truth first page should go first;\n",
    "- the formats supported are PNG and PDF;\n",
    "- each document has to be ascribed a certain category."
   ]
  },
  {
   "cell_type": "markdown",
   "id": "c194c015",
   "metadata": {},
   "source": [
    "Preferably, a balanced dataset would contain not only single-page documents, but also multiple-paged ones in an equal amount; category-based splitting should also be balanced."
   ]
  },
  {
   "cell_type": "markdown",
   "id": "cc3d36e6",
   "metadata": {},
   "source": [
    "To add documents, go to the Documents page and add all the necessary files. After that it is possible to open any of the documents in the smartview by clicking on the title – and there you can start labelling them."
   ]
  },
  {
   "cell_type": "markdown",
   "id": "5213dc3a",
   "metadata": {},
   "source": [
    "To assign a label to a span, click on any square selection, choose the appropriate label and label set and save it. This creates the annotation. \n",
    "\n",
    "After labelling all the documents, you need to assign each of them either to the training or to the testing set; this can be done in a dropdown menu above the document opened in the smartview that says \"Set a status\". "
   ]
  },
  {
   "cell_type": "markdown",
   "id": "9eae10ac",
   "metadata": {},
   "source": [
    "## Training Extraction AI"
   ]
  },
  {
   "cell_type": "markdown",
   "id": "fcd77239",
   "metadata": {},
   "source": [
    "When all the documents are uploaded and processed, we can start training. For that, go to Home > Extraction AIs and select Train extraction AI in the upper right corner. Select the desired category and save the instance. After that the AI will be queued for training that will start as soon as the server's capacity is available. Once the training has finished, a status will be updated to \"Training finished\"."
   ]
  },
  {
   "cell_type": "markdown",
   "id": "0718ce86",
   "metadata": {},
   "source": [
    "After reviewing the evaluation results, you may want to repeat training cycle with some new documents added in a similar manner. "
   ]
  },
  {
   "cell_type": "markdown",
   "id": "4c40a7a5",
   "metadata": {},
   "source": [
    "## Training Categorization AI"
   ]
  },
  {
   "cell_type": "markdown",
   "id": "bf32984e",
   "metadata": {},
   "source": [
    "After training all the necessary extraction AI instances, we can switch to training Categorization AI. \n",
    "\n",
    "To create categories, go to Home > Categories > +Add, give new category a name and save it.\n",
    "\n",
    "To train Categorization AI on the documents, you need to assign categories to them; this can be done in the column Category in Documents. After that, go to Home > Categorization AIs and select Train categorization AI in the upper right corner. Select the project and save the instance. After that the AI will be queued for training that will start as soon as the server's capacity is available. Once the training has finished, a status will be updated to \"Training finished\".\n",
    "\n",
    "After reviewing the evaluation results, you may want to repeat training cycle with some new documents added in a similar manner. "
   ]
  },
  {
   "cell_type": "markdown",
   "id": "1c9d81c5",
   "metadata": {},
   "source": [
    "## Alternate training options"
   ]
  },
  {
   "cell_type": "markdown",
   "id": "d19b2125",
   "metadata": {},
   "source": [
    "Before you start, make sure you have **installed** and **initialized** the konfuzio_sdk package as shown in the readme of the [repository](https://github.com/konfuzio-ai/Python-SDK)."
   ]
  },
  {
   "cell_type": "code",
   "execution_count": null,
   "id": "d40a3465",
   "metadata": {},
   "outputs": [],
   "source": [
    "!pip install konfuzio-sdk"
   ]
  },
  {
   "cell_type": "code",
   "execution_count": null,
   "id": "a7c57130",
   "metadata": {},
   "outputs": [],
   "source": [
    "!konfuzio_sdk init"
   ]
  },
  {
   "cell_type": "markdown",
   "id": "80734a86",
   "metadata": {},
   "source": [
    "Importing necessary libraries and packages:"
   ]
  },
  {
   "cell_type": "code",
   "execution_count": 1,
   "id": "53858247",
   "metadata": {},
   "outputs": [],
   "source": [
    "import os\n",
    "\n",
    "import numpy as np\n",
    "import pandas as pd\n",
    "import tensorflow as tf\n",
    "\n",
    "from collections import Counter\n",
    "from keras.models import Sequential\n",
    "from keras.layers import Dense, Dropout\n",
    "from keras.preprocessing.text import Tokenizer\n",
    "from konfuzio_sdk.data import Project, Document\n",
    "from nltk import word_tokenize\n",
    "from PIL import Image\n",
    "from tqdm import tqdm"
   ]
  },
  {
   "cell_type": "markdown",
   "id": "520a707c",
   "metadata": {},
   "source": [
    "Setting seed for reproducibility purposes:"
   ]
  },
  {
   "cell_type": "code",
   "execution_count": 2,
   "id": "d72d86d1",
   "metadata": {},
   "outputs": [],
   "source": [
    "seed_value = 42\n",
    "os.environ['PYTHONHASHSEED'] = str(seed_value)"
   ]
  },
  {
   "cell_type": "markdown",
   "id": "2636852e",
   "metadata": {},
   "source": [
    "We will use a multilayered perceptron architecture built with Keras library and a vocabulary built by using Counter."
   ]
  }
 ],
 "metadata": {
  "kernelspec": {
   "display_name": "Python 3 (ipykernel)",
   "language": "python",
   "name": "python3"
  },
  "language_info": {
   "codemirror_mode": {
    "name": "ipython",
    "version": 3
   },
   "file_extension": ".py",
   "mimetype": "text/x-python",
   "name": "python",
   "nbconvert_exporter": "python",
   "pygments_lexer": "ipython3",
   "version": "3.8.13"
  }
 },
 "nbformat": 4,
 "nbformat_minor": 5
}
