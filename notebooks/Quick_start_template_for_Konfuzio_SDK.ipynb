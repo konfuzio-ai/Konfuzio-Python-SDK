{
  "cells": [
    {
      "cell_type": "markdown",
      "metadata": {
        "id": "XQh4a3fVuVyE"
      },
      "source": [
        "# Quick start template for **Konfuzio SDK** 💫\n",
        "\n",
        "This notebook serves as template for a quick installation and usage of [**Konfuzio SDK**](https://dev.konfuzio.com/sdk/index.html#what-is-the-konfuzio-sdk).\n",
        "\n",
        "Just follow the installation and initialization section and run your custom SDK code in the notebook cells afterwards.\n",
        "\n",
        "Checkout the [Dev-Tutoials](https://dev.konfuzio.com/sdk/tutorials.html#getting-started) to get into basic and advanced concepts of Konfuzio SDK. \\\n",
        "For a more detailed introduction, checkout the \"Getting started\" notebook here. <a href=\"https://colab.research.google.com/github/konfuzio-ai/konfuzio-sdk/blob/master/notebooks/Get_started_with_the_Konfuzio_SDK.ipynb\" target=\"_parent\"><img src=\"https://colab.research.google.com/assets/colab-badge.svg\" alt=\"Open In Colab\"/></a>\n"
      ]
    },
    {
      "cell_type": "markdown",
      "metadata": {
        "id": "QI6Fyj2Ev9mr"
      },
      "source": [
        "## Installation and initialization of Konfuzio SDK"
      ]
    },
    {
      "cell_type": "code",
      "execution_count": null,
      "metadata": {
        "id": "ElHsEZFPSQvS"
      },
      "outputs": [],
      "source": [
        "# @title ### **Credentials** { display-mode: \"form\" }\n",
        "\n",
        "\n",
        "from getpass import getpass\n",
        "\n",
        "# @markdown Enter user name for Konfuzio Server\n",
        "User_Name = \"\" # @param {type:\"string\"}\n",
        "\n",
        "# @markdown Enter server host url\n",
        "Host = \"https://app.konfuzio.com\" # @param {type:\"raw\"} #dafault: \"https://app.konfuzio.com\"\n",
        "Password = getpass('Password you use to login to Konfuzio Server: ')"
      ]
    },
    {
      "cell_type": "code",
      "execution_count": null,
      "metadata": {
        "id": "HO3u9qcUrc2l"
      },
      "outputs": [],
      "source": [
        "# @title ### **Run intallation** { display-mode: \"form\" }\n",
        "\n",
        "Method = 'with AI dependencies' # @param [\"with AI dependencies\", \"without AI dependencies\"]\n",
        "\n",
        "print(f\"Installing Konfuzio SDK {Method}.\")\n",
        "\n",
        "if Method == 'without AI dependencies':\n",
        "  # without the AI-related dependencies\n",
        "  !pip install -q konfuzio_sdk\n",
        "else:\n",
        "  # with the AI-related dependencies\n",
        "  !pip install -q konfuzio_sdk[ai]\n",
        "print(f\"\\n[SUCCESS] SDK installed!\\n\")"
      ]
    },
    {
      "cell_type": "markdown",
      "metadata": {
        "id": "Idnwyja5yoBL"
      },
      "source": [
        "### **Run the initialization**"
      ]
    },
    {
      "cell_type": "code",
      "execution_count": null,
      "metadata": {
        "id": "pQPvIB_lkpMq"
      },
      "outputs": [],
      "source": [
        "! konfuzio_sdk init --user {User_Name} --password {Password} --host {Host}"
      ]
    },
    {
      "cell_type": "markdown",
      "metadata": {
        "id": "9uJ-Vi4pysqa"
      },
      "source": [
        "\n",
        "### **Check installation and initialization**"
      ]
    },
    {
      "cell_type": "code",
      "execution_count": null,
      "metadata": {
        "id": "_28WTSzOix-C"
      },
      "outputs": [],
      "source": [
        "from IPython.display import Markdown, display\n",
        "try:\n",
        "  from konfuzio_sdk import KONFUZIO_HOST, KONFUZIO_USER\n",
        "  display(Markdown(\"**[SUCCESS]** ✅\"))\n",
        "  print(f\"You are connected with {KONFUZIO_USER} to {KONFUZIO_HOST}.\")\n",
        "except:\n",
        "  display(Markdown(\"**[FAILURE]** ⚠️\"))\n",
        "  display(Markdown(\"You need to **restart 🔄** the Google **Colab Session**.\"))\n",
        "  display(Markdown(\"Go to: **Runtime -> Restart session**. Then run this cell again and continue.\\n\"))"
      ]
    },
    {
      "cell_type": "markdown",
      "metadata": {
        "id": "CzDM6uyzB4-r"
      },
      "source": [
        "## Your custom code using Konfuzio SDK\n",
        "\n",
        "Write custom code or use this Colab to follow one of the [Konfuzio SKD tutorials](https://dev.konfuzio.com/sdk/tutorials.html). 🚀"
      ]
    },
    {
      "cell_type": "code",
      "execution_count": null,
      "metadata": {
        "id": "apKdw1J5CA9l"
      },
      "outputs": [],
      "source": [
        "from konfuzio_sdk.data import Project\n",
        "\n",
        "YOUR_PROJECT_ID = 123456\n",
        "\n",
        "my_project = Project(id_=YOUR_PROJECT_ID)\n",
        "my_documents = my_project.documents"
      ]
    },
    {
      "cell_type": "code",
      "execution_count": null,
      "metadata": {
        "id": "W7LLwXxoQ1d1"
      },
      "outputs": [],
      "source": [
        "# more custom code"
      ]
    }
  ],
  "metadata": {
    "colab": {
      "provenance": []
    },
    "kernelspec": {
      "display_name": "Python 3",
      "name": "python3"
    },
    "language_info": {
      "name": "python"
    }
  },
  "nbformat": 4,
  "nbformat_minor": 0
}
