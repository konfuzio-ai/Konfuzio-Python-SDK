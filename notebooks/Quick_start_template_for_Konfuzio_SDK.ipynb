{
  "nbformat": 4,
  "nbformat_minor": 0,
  "metadata": {
    "colab": {
      "provenance": []
    },
    "kernelspec": {
      "name": "python3",
      "display_name": "Python 3"
    },
    "language_info": {
      "name": "python"
    }
  },
  "cells": [
    {
      "cell_type": "markdown",
      "source": [
        "# Quick start template for **Konfuzio SDK** 💫\n",
        "\n",
        "This notebook serves as template for a quick installation and usage of [**Konfuzio SDK**](https://dev.konfuzio.com/sdk/index.html#what-is-the-konfuzio-sdk).\n",
        "\n",
        "Just follow the installation and initialization section and run your custom SDK code in the notebook cells afterwards.\n",
        "\n",
        "Checkout the [Dev-Tutoials](https://dev.konfuzio.com/sdk/tutorials.html#getting-started) to get into basic and advanced concepts of Konfuzio SDK. \\\n",
        "For a more detailed introduction, checkout the \"Getting started\" notebook here. <a href=\"https://colab.research.google.com/github/konfuzio-ai/konfuzio-sdk/blob/master/notebooks/Get_started_with_the_Konfuzio_SDK.ipynb\" target=\"_parent\"><img src=\"https://colab.research.google.com/assets/colab-badge.svg\" alt=\"Open In Colab\"/></a>\n"
      ],
      "metadata": {
        "id": "XQh4a3fVuVyE"
      }
    },
    {
      "cell_type": "markdown",
      "source": [
        "## Installation and initialization of Konfuzio SDK"
      ],
      "metadata": {
        "id": "QI6Fyj2Ev9mr"
      }
    },
    {
      "cell_type": "code",
      "source": [
        "# @title ### **Credentials** { display-mode: \"form\" }\n",
        "\n",
        "\n",
        "from getpass import getpass\n",
        "\n",
        "# @markdown Enter user name for Konfuzio Server\n",
        "User_Name = \"\" # @param {type:\"string\"}\n",
        "\n",
        "# @markdown Enter server host url\n",
        "Host = \"https://app.konfuzio.com\" # @param {type:\"raw\"} #dafault: \"https://app.konfuzio.com\"\n",
        "Password = getpass('Password you use to login to Konfuzio Server: ')"
      ],
      "metadata": {
        "id": "ElHsEZFPSQvS"
      },
      "execution_count": null,
      "outputs": []
    },
    {
      "cell_type": "code",
      "source": [
        "# @title ### **Run intallation** { display-mode: \"form\" }\n",
        "\n",
        "Method = 'with AI dependencies' # @param [\"with AI dependencies\", \"without AI dependencies\"]\n",
        "\n",
        "print(f\"Installing Konfuzio SDK {Method}.\")\n",
        "\n",
        "if Method == 'without AI dependencies':\n",
        "  # without the AI-related dependencies\n",
        "  #!pip install -q konfuzio_sdk\n",
        "  !pip install -q git+https://github.com/konfuzio-ai/konfuzio-sdk@12302-hosted-notebook\n",
        "else:\n",
        "  # with the AI-related dependencies\n",
        "  #!pip install -q konfuzio_sdk[ai]\n",
        "  !pip install -q git+https://github.com/konfuzio-ai/konfuzio-sdk@12302-hosted-notebook #[ai]\n",
        "print(f\"\\n[SUCCESS] SDK installed!\\n\")"
      ],
      "metadata": {
        "id": "HO3u9qcUrc2l"
      },
      "execution_count": null,
      "outputs": []
    },
    {
      "cell_type": "markdown",
      "source": [
        "### **Run the initialization**"
      ],
      "metadata": {
        "id": "Idnwyja5yoBL"
      }
    },
    {
      "cell_type": "code",
      "source": [
        "! konfuzio_sdk init --user {User_Name} --password {Password} --host {Host}"
      ],
      "metadata": {
        "id": "pQPvIB_lkpMq"
      },
      "execution_count": null,
      "outputs": []
    },
    {
      "cell_type": "markdown",
      "source": [
        "\n",
        "### **Check installation and initialization**"
      ],
      "metadata": {
        "id": "9uJ-Vi4pysqa"
      }
    },
    {
      "cell_type": "code",
      "source": [
        "from IPython.display import Markdown, display\n",
        "try:\n",
        "  from konfuzio_sdk import KONFUZIO_HOST, KONFUZIO_USER\n",
        "  display(Markdown(\"**[SUCCESS]** ✅\"))\n",
        "  print(f\"You are connected with {KONFUZIO_USER} to {KONFUZIO_HOST}.\")\n",
        "except:\n",
        "  display(Markdown(\"**[FAILURE]** ⚠️\"))\n",
        "  display(Markdown(\"You need to **restart 🔄** the Google **Colab Session**.\"))\n",
        "  display(Markdown(\"Go to: **Runtime -> Restart session**. Then run this cell again and continue.\\n\"))"
      ],
      "metadata": {
        "id": "_28WTSzOix-C"
      },
      "execution_count": null,
      "outputs": []
    },
    {
      "cell_type": "markdown",
      "source": [
        "## Your custom code using Konfuzio SDK"
      ],
      "metadata": {
        "id": "CzDM6uyzB4-r"
      }
    },
    {
      "cell_type": "code",
      "source": [
        "from konfuzio_sdk.data import Project\n",
        "\n",
        "YOUR_PROJECT_ID = 123456\n",
        "\n",
        "my_project = Project(id_=YOUR_PROJECT_ID)\n",
        "my_documents = my_project.documents"
      ],
      "metadata": {
        "id": "apKdw1J5CA9l"
      },
      "execution_count": null,
      "outputs": []
    },
    {
      "cell_type": "code",
      "source": [
        "# more custom code"
      ],
      "metadata": {
        "id": "W7LLwXxoQ1d1"
      },
      "execution_count": null,
      "outputs": []
    }
  ]
}