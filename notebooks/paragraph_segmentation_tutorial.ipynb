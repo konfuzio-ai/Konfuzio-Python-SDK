{
 "cells": [
  {
   "cell_type": "markdown",
   "id": "28803ea1",
   "metadata": {},
   "source": [
    "# Getting Paragraph predictions as Annotations in the smartview"
   ]
  },
  {
   "cell_type": "markdown",
   "id": "f82f96f8",
   "metadata": {},
   "source": [
    "This notebook provides a tutorial for using automatic paragraph prediction and enabling the predictions in smartview mode."
   ]
  },
  {
   "cell_type": "markdown",
   "id": "3d6c3915",
   "metadata": {},
   "source": [
    "Importing necessary dependencies:"
   ]
  },
  {
   "cell_type": "code",
   "execution_count": 1,
   "id": "d15da7c7",
   "metadata": {},
   "outputs": [],
   "source": [
    "import requests\n",
    "\n",
    "from konfuzio_sdk import KONFUZIO_TOKEN\n",
    "from konfuzio_sdk.data import Project, Annotation, Span, Document\n",
    "from tqdm import tqdm\n",
    "from typing import List, Dict"
   ]
  },
  {
   "cell_type": "markdown",
   "id": "f5f40232",
   "metadata": {},
   "source": [
    "Next, we need to specify project ID and load its documents' IDs for further usage:"
   ]
  },
  {
   "cell_type": "code",
   "execution_count": 2,
   "id": "bb211d1a",
   "metadata": {},
   "outputs": [],
   "source": [
    "PROJECT_ID = 1641"
   ]
  },
  {
   "cell_type": "code",
   "execution_count": 3,
   "id": "1689139e",
   "metadata": {},
   "outputs": [
    {
     "name": "stderr",
     "output_type": "stream",
     "text": [
      "2022-09-23 22:38:44,565 [konfuzio_sdk.data   ] [MainThread] [INFO    ] [init_or_update_docum][2489] Document 1 Lorem ipsum.pdf (338280) was updated, we will download it again as soon you use it.\n"
     ]
    }
   ],
   "source": [
    "my_project = Project(id_=PROJECT_ID, update=True)"
   ]
  },
  {
   "cell_type": "markdown",
   "id": "d51f92b7",
   "metadata": {},
   "source": [
    "Before sending requests to the API we need to specify the credentials and include them into headers used in the request:"
   ]
  },
  {
   "cell_type": "code",
   "execution_count": 4,
   "id": "db549b36",
   "metadata": {},
   "outputs": [],
   "source": [
    "headers = {\n",
    "    \"Authorization\": \"Token {}\".format(KONFUZIO_TOKEN)\n",
    "}"
   ]
  },
  {
   "cell_type": "markdown",
   "id": "df551f81",
   "metadata": {},
   "source": [
    "For each document, we send a GET request to Konfuzio's API and receive a JSON with coordinates of paragraphs. These coordinates need to be transformed with accordance to the image rescaling because sizes of actual \n",
    "document images and resulting pages are different; let's define a function that does so:"
   ]
  },
  {
   "cell_type": "code",
   "execution_count": 5,
   "id": "4a0ff575",
   "metadata": {},
   "outputs": [],
   "source": [
    "def convert_bbox_segmentation_to_konfuzio(bbox_pages: List[List[Dict]], doc: Document) -> List[List[Dict]]:\n",
    "    pages_factors = {}\n",
    "    new_bbox_pages = []\n",
    "    \n",
    "    for page in doc.pages():\n",
    "        img = page.get_image(update=True)\n",
    "        factor_x = page.width / img.width # determines difference between sizes of page and actual document images\n",
    "        factor_y = page.height / img.height\n",
    "        pages_factors[int(page.number)] = [factor_x, factor_y]\n",
    "    \n",
    "    for i, bboxes in enumerate(bbox_pages):\n",
    "        new_bboxes = []\n",
    "        \n",
    "        for bbox in bboxes:\n",
    "            new_bbox = {\n",
    "                'x0': pages_factors[i+1][0] * bbox['x0'], # rescaling the obtained coordinates \n",
    "                'x1': pages_factors[i+1][0] * bbox['x1'],\n",
    "                'y0': pages_factors[i+1][1] * (img.height - bbox['y1']),\n",
    "                'y1': pages_factors[i+1][1] * (img.height - bbox['y0']),\n",
    "                'label': bbox['label']\n",
    "            }\n",
    "            new_bboxes.append(new_bbox)\n",
    "        new_bbox_pages.append(new_bboxes)\n",
    "    return new_bbox_pages"
   ]
  },
  {
   "cell_type": "code",
   "execution_count": 6,
   "id": "b4b0f068",
   "metadata": {},
   "outputs": [
    {
     "name": "stderr",
     "output_type": "stream",
     "text": [
      "100%|█████████████████████████████████████████████| 6/6 [00:17<00:00,  2.88s/it]\n"
     ]
    }
   ],
   "source": [
    "paragraph_coords = {}\n",
    "\n",
    "for doc in tqdm(my_project._documents):\n",
    "    r = requests.get('https://app.konfuzio.com/api/projects/{}/docs/{}/segmentation/'.format(PROJECT_ID,\n",
    "                                                                                            doc.id_),\n",
    "                     headers=headers\n",
    "                    )\n",
    "    \n",
    "    paragraph_coords[doc.id_] = convert_bbox_segmentation_to_konfuzio(r.json(), doc)"
   ]
  },
  {
   "cell_type": "markdown",
   "id": "e6ff354b",
   "metadata": {},
   "source": [
    "Let's run an exemplary annotation for one of the documents from the test set:"
   ]
  },
  {
   "cell_type": "code",
   "execution_count": 7,
   "id": "417954f7",
   "metadata": {},
   "outputs": [],
   "source": [
    "EXAMPLE_DOC_ID = 338280\n",
    "example_doc = my_project.get_document_by_id(EXAMPLE_DOC_ID)"
   ]
  },
  {
   "cell_type": "markdown",
   "id": "3549bc9f",
   "metadata": {},
   "source": [
    "Gathering all bounding boxes from all pages to iterate over the resulting list later:"
   ]
  },
  {
   "cell_type": "code",
   "execution_count": 8,
   "id": "aac8facf",
   "metadata": {},
   "outputs": [],
   "source": [
    "detections = []\n",
    "\n",
    "for i, page in enumerate(paragraph_coords[EXAMPLE_DOC_ID]):\n",
    "    for j, bbox in enumerate(page):\n",
    "        detections.append((i,j))"
   ]
  },
  {
   "cell_type": "markdown",
   "id": "5deb4143",
   "metadata": {},
   "source": [
    "Filtering over the character-level bounding boxes to determine those falling into different segments:"
   ]
  },
  {
   "cell_type": "code",
   "execution_count": 10,
   "id": "316ed446",
   "metadata": {},
   "outputs": [],
   "source": [
    "def is_intersection(x0, x1, y0, y1, x2, x3, y2, y3):\n",
    "    x4 = max(x0, x2)\n",
    "    y4 = max(y0, y2)\n",
    "    x5 = min(x1, x3)\n",
    "    y5 = min(y1, y3)\n",
    "    \n",
    "    if not (x4 > x5 or y4 > y5):\n",
    "        result = {'x0': x4,\n",
    "                  'x1': x5,\n",
    "                  'y0': y4,\n",
    "                  'y1': y5\n",
    "                 }\n",
    "        return result\n",
    "    else:\n",
    "        pass"
   ]
  },
  {
   "cell_type": "code",
   "execution_count": 11,
   "id": "3160cadd",
   "metadata": {},
   "outputs": [
    {
     "name": "stderr",
     "output_type": "stream",
     "text": [
      "2022-09-23 22:39:02,063 [konfuzio_sdk.data   ] [MainThread] [WARNING ] [__init__            ][1142] Annotation (None) title  in Document 1 Lorem ipsum.pdf (338280) created but without Annotation Set information.\n",
      "2022-09-23 22:39:02,302 [konfuzio_sdk.data   ] [MainThread] [WARNING ] [start_offset        ][1251] You use start_offset on Annotation Level which is legacy.\n",
      "2022-09-23 22:39:02,303 [konfuzio_sdk.data   ] [MainThread] [WARNING ] [end_offset          ][1257] You use end_offset on Annotation Level which is legacy.\n",
      "2022-09-23 22:39:02,897 [konfuzio_sdk.data   ] [MainThread] [WARNING ] [get_bbox            ][1967] Start downloading bbox files of 9634 characters for Document 1 Lorem ipsum.pdf (338280).\n",
      "2022-09-23 22:39:04,386 [konfuzio_sdk.data   ] [MainThread] [WARNING ] [__init__            ][1142] Annotation (None) text  in Document 1 Lorem ipsum.pdf (338280) created but without Annotation Set information.\n",
      "2022-09-23 22:39:04,387 [konfuzio_sdk.data   ] [MainThread] [WARNING ] [start_offset        ][1251] You use start_offset on Annotation Level which is legacy.\n",
      "2022-09-23 22:39:04,388 [konfuzio_sdk.data   ] [MainThread] [WARNING ] [end_offset          ][1257] You use end_offset on Annotation Level which is legacy.\n",
      "2022-09-23 22:39:04,773 [konfuzio_sdk.data   ] [MainThread] [WARNING ] [__init__            ][1142] Annotation (None) title  in Document 1 Lorem ipsum.pdf (338280) created but without Annotation Set information.\n",
      "2022-09-23 22:39:04,775 [konfuzio_sdk.data   ] [MainThread] [WARNING ] [start_offset        ][1251] You use start_offset on Annotation Level which is legacy.\n",
      "2022-09-23 22:39:04,776 [konfuzio_sdk.data   ] [MainThread] [WARNING ] [end_offset          ][1257] You use end_offset on Annotation Level which is legacy.\n",
      "2022-09-23 22:39:05,012 [konfuzio_sdk.data   ] [MainThread] [WARNING ] [__init__            ][1142] Annotation (None) text  in Document 1 Lorem ipsum.pdf (338280) created but without Annotation Set information.\n",
      "2022-09-23 22:39:05,014 [konfuzio_sdk.data   ] [MainThread] [WARNING ] [start_offset        ][1251] You use start_offset on Annotation Level which is legacy.\n",
      "2022-09-23 22:39:05,015 [konfuzio_sdk.data   ] [MainThread] [WARNING ] [end_offset          ][1257] You use end_offset on Annotation Level which is legacy.\n",
      "2022-09-23 22:39:05,625 [konfuzio_sdk.data   ] [MainThread] [WARNING ] [__init__            ][1142] Annotation (None) title  in Document 1 Lorem ipsum.pdf (338280) created but without Annotation Set information.\n",
      "2022-09-23 22:39:05,627 [konfuzio_sdk.data   ] [MainThread] [WARNING ] [start_offset        ][1251] You use start_offset on Annotation Level which is legacy.\n",
      "2022-09-23 22:39:05,631 [konfuzio_sdk.data   ] [MainThread] [WARNING ] [end_offset          ][1257] You use end_offset on Annotation Level which is legacy.\n",
      "2022-09-23 22:39:05,859 [konfuzio_sdk.data   ] [MainThread] [WARNING ] [__init__            ][1142] Annotation (None) text  in Document 1 Lorem ipsum.pdf (338280) created but without Annotation Set information.\n",
      "2022-09-23 22:39:05,860 [konfuzio_sdk.data   ] [MainThread] [WARNING ] [start_offset        ][1251] You use start_offset on Annotation Level which is legacy.\n",
      "2022-09-23 22:39:05,860 [konfuzio_sdk.data   ] [MainThread] [WARNING ] [end_offset          ][1257] You use end_offset on Annotation Level which is legacy.\n",
      "2022-09-23 22:39:06,109 [konfuzio_sdk.data   ] [MainThread] [WARNING ] [__init__            ][1142] Annotation (None) text  in Document 1 Lorem ipsum.pdf (338280) created but without Annotation Set information.\n",
      "2022-09-23 22:39:06,110 [konfuzio_sdk.data   ] [MainThread] [WARNING ] [start_offset        ][1251] You use start_offset on Annotation Level which is legacy.\n",
      "2022-09-23 22:39:06,111 [konfuzio_sdk.data   ] [MainThread] [WARNING ] [end_offset          ][1257] You use end_offset on Annotation Level which is legacy.\n",
      "2022-09-23 22:39:06,481 [konfuzio_sdk.data   ] [MainThread] [WARNING ] [__init__            ][1142] Annotation (None) text  in Document 1 Lorem ipsum.pdf (338280) created but without Annotation Set information.\n",
      "2022-09-23 22:39:06,482 [konfuzio_sdk.data   ] [MainThread] [WARNING ] [start_offset        ][1251] You use start_offset on Annotation Level which is legacy.\n",
      "2022-09-23 22:39:06,483 [konfuzio_sdk.data   ] [MainThread] [WARNING ] [end_offset          ][1257] You use end_offset on Annotation Level which is legacy.\n",
      "2022-09-23 22:39:06,815 [konfuzio_sdk.data   ] [MainThread] [WARNING ] [__init__            ][1142] Annotation (None) title  in Document 1 Lorem ipsum.pdf (338280) created but without Annotation Set information.\n",
      "2022-09-23 22:39:06,815 [konfuzio_sdk.data   ] [MainThread] [WARNING ] [start_offset        ][1251] You use start_offset on Annotation Level which is legacy.\n",
      "2022-09-23 22:39:06,816 [konfuzio_sdk.data   ] [MainThread] [WARNING ] [end_offset          ][1257] You use end_offset on Annotation Level which is legacy.\n",
      "2022-09-23 22:39:07,117 [konfuzio_sdk.data   ] [MainThread] [WARNING ] [__init__            ][1142] Annotation (None) list  in Document 1 Lorem ipsum.pdf (338280) created but without Annotation Set information.\n",
      "2022-09-23 22:39:07,118 [konfuzio_sdk.data   ] [MainThread] [WARNING ] [start_offset        ][1251] You use start_offset on Annotation Level which is legacy.\n",
      "2022-09-23 22:39:07,119 [konfuzio_sdk.data   ] [MainThread] [WARNING ] [end_offset          ][1257] You use end_offset on Annotation Level which is legacy.\n",
      "2022-09-23 22:39:07,425 [konfuzio_sdk.data   ] [MainThread] [WARNING ] [__init__            ][1142] Annotation (None) title  in Document 1 Lorem ipsum.pdf (338280) created but without Annotation Set information.\n",
      "2022-09-23 22:39:07,426 [konfuzio_sdk.data   ] [MainThread] [WARNING ] [start_offset        ][1251] You use start_offset on Annotation Level which is legacy.\n",
      "2022-09-23 22:39:07,427 [konfuzio_sdk.data   ] [MainThread] [WARNING ] [end_offset          ][1257] You use end_offset on Annotation Level which is legacy.\n",
      "2022-09-23 22:39:07,662 [konfuzio_sdk.data   ] [MainThread] [WARNING ] [__init__            ][1142] Annotation (None) title  in Document 1 Lorem ipsum.pdf (338280) created but without Annotation Set information.\n",
      "2022-09-23 22:39:07,663 [konfuzio_sdk.data   ] [MainThread] [WARNING ] [start_offset        ][1251] You use start_offset on Annotation Level which is legacy.\n",
      "2022-09-23 22:39:07,664 [konfuzio_sdk.data   ] [MainThread] [WARNING ] [end_offset          ][1257] You use end_offset on Annotation Level which is legacy.\n",
      "2022-09-23 22:39:07,895 [konfuzio_sdk.data   ] [MainThread] [WARNING ] [__init__            ][1142] Annotation (None) text  in Document 1 Lorem ipsum.pdf (338280) created but without Annotation Set information.\n",
      "2022-09-23 22:39:07,895 [konfuzio_sdk.data   ] [MainThread] [WARNING ] [start_offset        ][1251] You use start_offset on Annotation Level which is legacy.\n",
      "2022-09-23 22:39:07,896 [konfuzio_sdk.data   ] [MainThread] [WARNING ] [end_offset          ][1257] You use end_offset on Annotation Level which is legacy.\n",
      "2022-09-23 22:39:08,131 [konfuzio_sdk.data   ] [MainThread] [WARNING ] [__init__            ][1142] Annotation (None) text  in Document 1 Lorem ipsum.pdf (338280) created but without Annotation Set information.\n",
      "2022-09-23 22:39:08,133 [konfuzio_sdk.data   ] [MainThread] [WARNING ] [start_offset        ][1251] You use start_offset on Annotation Level which is legacy.\n",
      "2022-09-23 22:39:08,135 [konfuzio_sdk.data   ] [MainThread] [WARNING ] [end_offset          ][1257] You use end_offset on Annotation Level which is legacy.\n",
      "2022-09-23 22:39:08,381 [konfuzio_sdk.data   ] [MainThread] [WARNING ] [__init__            ][1142] Annotation (None) text  in Document 1 Lorem ipsum.pdf (338280) created but without Annotation Set information.\n",
      "2022-09-23 22:39:08,382 [konfuzio_sdk.data   ] [MainThread] [WARNING ] [start_offset        ][1251] You use start_offset on Annotation Level which is legacy.\n",
      "2022-09-23 22:39:08,384 [konfuzio_sdk.data   ] [MainThread] [WARNING ] [end_offset          ][1257] You use end_offset on Annotation Level which is legacy.\n",
      "2022-09-23 22:39:08,627 [konfuzio_sdk.data   ] [MainThread] [WARNING ] [__init__            ][1142] Annotation (None) text  in Document 1 Lorem ipsum.pdf (338280) created but without Annotation Set information.\n"
     ]
    },
    {
     "name": "stderr",
     "output_type": "stream",
     "text": [
      "2022-09-23 22:39:08,628 [konfuzio_sdk.data   ] [MainThread] [WARNING ] [start_offset        ][1251] You use start_offset on Annotation Level which is legacy.\n",
      "2022-09-23 22:39:08,629 [konfuzio_sdk.data   ] [MainThread] [WARNING ] [end_offset          ][1257] You use end_offset on Annotation Level which is legacy.\n",
      "2022-09-23 22:39:08,882 [konfuzio_sdk.data   ] [MainThread] [WARNING ] [__init__            ][1142] Annotation (None) title  in Document 1 Lorem ipsum.pdf (338280) created but without Annotation Set information.\n",
      "2022-09-23 22:39:08,883 [konfuzio_sdk.data   ] [MainThread] [WARNING ] [start_offset        ][1251] You use start_offset on Annotation Level which is legacy.\n",
      "2022-09-23 22:39:08,884 [konfuzio_sdk.data   ] [MainThread] [WARNING ] [end_offset          ][1257] You use end_offset on Annotation Level which is legacy.\n",
      "2022-09-23 22:39:09,227 [konfuzio_sdk.data   ] [MainThread] [WARNING ] [__init__            ][1142] Annotation (None) text  in Document 1 Lorem ipsum.pdf (338280) created but without Annotation Set information.\n",
      "2022-09-23 22:39:09,229 [konfuzio_sdk.data   ] [MainThread] [WARNING ] [start_offset        ][1251] You use start_offset on Annotation Level which is legacy.\n",
      "2022-09-23 22:39:09,230 [konfuzio_sdk.data   ] [MainThread] [WARNING ] [end_offset          ][1257] You use end_offset on Annotation Level which is legacy.\n",
      "2022-09-23 22:39:09,477 [konfuzio_sdk.data   ] [MainThread] [WARNING ] [__init__            ][1142] Annotation (None) title  in Document 1 Lorem ipsum.pdf (338280) created but without Annotation Set information.\n",
      "2022-09-23 22:39:09,478 [konfuzio_sdk.data   ] [MainThread] [WARNING ] [start_offset        ][1251] You use start_offset on Annotation Level which is legacy.\n",
      "2022-09-23 22:39:09,479 [konfuzio_sdk.data   ] [MainThread] [WARNING ] [end_offset          ][1257] You use end_offset on Annotation Level which is legacy.\n",
      "2022-09-23 22:39:09,777 [konfuzio_sdk.data   ] [MainThread] [WARNING ] [__init__            ][1142] Annotation (None) title  in Document 1 Lorem ipsum.pdf (338280) created but without Annotation Set information.\n",
      "2022-09-23 22:39:09,778 [konfuzio_sdk.data   ] [MainThread] [WARNING ] [start_offset        ][1251] You use start_offset on Annotation Level which is legacy.\n",
      "2022-09-23 22:39:09,779 [konfuzio_sdk.data   ] [MainThread] [WARNING ] [end_offset          ][1257] You use end_offset on Annotation Level which is legacy.\n",
      "2022-09-23 22:39:10,033 [konfuzio_sdk.data   ] [MainThread] [WARNING ] [__init__            ][1142] Annotation (None) title  in Document 1 Lorem ipsum.pdf (338280) created but without Annotation Set information.\n",
      "2022-09-23 22:39:10,034 [konfuzio_sdk.data   ] [MainThread] [WARNING ] [start_offset        ][1251] You use start_offset on Annotation Level which is legacy.\n",
      "2022-09-23 22:39:10,035 [konfuzio_sdk.data   ] [MainThread] [WARNING ] [end_offset          ][1257] You use end_offset on Annotation Level which is legacy.\n",
      "2022-09-23 22:39:10,280 [konfuzio_sdk.data   ] [MainThread] [WARNING ] [__init__            ][1142] Annotation (None) list  in Document 1 Lorem ipsum.pdf (338280) created but without Annotation Set information.\n",
      "2022-09-23 22:39:10,281 [konfuzio_sdk.data   ] [MainThread] [WARNING ] [start_offset        ][1251] You use start_offset on Annotation Level which is legacy.\n",
      "2022-09-23 22:39:10,282 [konfuzio_sdk.data   ] [MainThread] [WARNING ] [end_offset          ][1257] You use end_offset on Annotation Level which is legacy.\n",
      "2022-09-23 22:39:10,544 [konfuzio_sdk.data   ] [MainThread] [WARNING ] [__init__            ][1142] Annotation (None) text  in Document 1 Lorem ipsum.pdf (338280) created but without Annotation Set information.\n",
      "2022-09-23 22:39:10,545 [konfuzio_sdk.data   ] [MainThread] [WARNING ] [start_offset        ][1251] You use start_offset on Annotation Level which is legacy.\n",
      "2022-09-23 22:39:10,546 [konfuzio_sdk.data   ] [MainThread] [WARNING ] [end_offset          ][1257] You use end_offset on Annotation Level which is legacy.\n",
      "2022-09-23 22:39:10,798 [konfuzio_sdk.data   ] [MainThread] [WARNING ] [__init__            ][1142] Annotation (None) text  in Document 1 Lorem ipsum.pdf (338280) created but without Annotation Set information.\n",
      "2022-09-23 22:39:10,799 [konfuzio_sdk.data   ] [MainThread] [WARNING ] [start_offset        ][1251] You use start_offset on Annotation Level which is legacy.\n",
      "2022-09-23 22:39:10,800 [konfuzio_sdk.data   ] [MainThread] [WARNING ] [end_offset          ][1257] You use end_offset on Annotation Level which is legacy.\n",
      "2022-09-23 22:39:11,055 [konfuzio_sdk.data   ] [MainThread] [WARNING ] [__init__            ][1142] Annotation (None) text  in Document 1 Lorem ipsum.pdf (338280) created but without Annotation Set information.\n",
      "2022-09-23 22:39:11,056 [konfuzio_sdk.data   ] [MainThread] [WARNING ] [start_offset        ][1251] You use start_offset on Annotation Level which is legacy.\n",
      "2022-09-23 22:39:11,057 [konfuzio_sdk.data   ] [MainThread] [WARNING ] [end_offset          ][1257] You use end_offset on Annotation Level which is legacy.\n",
      "2022-09-23 22:39:11,303 [konfuzio_sdk.data   ] [MainThread] [WARNING ] [__init__            ][1142] Annotation (None) text  in Document 1 Lorem ipsum.pdf (338280) created but without Annotation Set information.\n",
      "2022-09-23 22:39:11,304 [konfuzio_sdk.data   ] [MainThread] [WARNING ] [start_offset        ][1251] You use start_offset on Annotation Level which is legacy.\n",
      "2022-09-23 22:39:11,305 [konfuzio_sdk.data   ] [MainThread] [WARNING ] [end_offset          ][1257] You use end_offset on Annotation Level which is legacy.\n"
     ]
    }
   ],
   "source": [
    "for page_i, bbox_i in detections:\n",
    "    bboxes_within_paragraph = {}\n",
    "    \n",
    "    bboxes = example_doc.pages()[page_i].get_bbox().items()\n",
    "    \n",
    "    for k, b in bboxes:\n",
    "        if is_intersection(paragraph_coords[EXAMPLE_DOC_ID][page_i][bbox_i]['x0'],\n",
    "                           paragraph_coords[EXAMPLE_DOC_ID][page_i][bbox_i]['x1'],\n",
    "                           paragraph_coords[EXAMPLE_DOC_ID][page_i][bbox_i]['y0'],\n",
    "                           paragraph_coords[EXAMPLE_DOC_ID][page_i][bbox_i]['y1'],\n",
    "                           b['x0'], b['x1'], b['y0'], b['y1']\n",
    "                          ):\n",
    "            bboxes_within_paragraph[int(k)] = b\n",
    "    \n",
    "    # creating a new Annotation for each segment defined\n",
    "    \n",
    "    label = my_project.get_label_by_name(paragraph_coords[EXAMPLE_DOC_ID][page_i][bbox_i]['label'])\n",
    "    new_ann = Annotation(\n",
    "        document=example_doc,\n",
    "        spans=[Span(start_offset=min(bboxes_within_paragraph.keys()), end_offset=max(bboxes_within_paragraph.keys())+1)],\n",
    "        label=label,\n",
    "        label_set=label.label_sets[0],\n",
    "        accuracy=1.0,\n",
    "        is_correct=True\n",
    "    )\n",
    "    \n",
    "    # saving the annotation online\n",
    "    \n",
    "    new_ann.save()"
   ]
  },
  {
   "cell_type": "code",
   "execution_count": 36,
   "id": "a20888b0",
   "metadata": {},
   "outputs": [
    {
     "name": "stderr",
     "output_type": "stream",
     "text": [
      "2022-09-23 17:55:12,164 [konfuzio_sdk.data   ] [MainThread] [WARNING ] [__init__            ][1142] Annotation (None) title  in Document 1 Lorem ipsum.pdf (338280) created but without Annotation Set information.\n",
      "2022-09-23 17:55:12,937 [konfuzio_sdk.data   ] [MainThread] [WARNING ] [start_offset        ][1251] You use start_offset on Annotation Level which is legacy.\n",
      "2022-09-23 17:55:12,939 [konfuzio_sdk.data   ] [MainThread] [WARNING ] [end_offset          ][1257] You use end_offset on Annotation Level which is legacy.\n",
      "2022-09-23 17:55:13,470 [konfuzio_sdk.data   ] [MainThread] [WARNING ] [get_bbox            ][1967] Start downloading bbox files of 9634 characters for Document 1 Lorem ipsum.pdf (338280).\n",
      "2022-09-23 17:55:14,516 [konfuzio_sdk.data   ] [MainThread] [WARNING ] [__init__            ][1142] Annotation (None) text  in Document 1 Lorem ipsum.pdf (338280) created but without Annotation Set information.\n",
      "2022-09-23 17:55:14,517 [konfuzio_sdk.data   ] [MainThread] [WARNING ] [start_offset        ][1251] You use start_offset on Annotation Level which is legacy.\n",
      "2022-09-23 17:55:14,517 [konfuzio_sdk.data   ] [MainThread] [WARNING ] [end_offset          ][1257] You use end_offset on Annotation Level which is legacy.\n",
      "2022-09-23 17:55:14,813 [konfuzio_sdk.data   ] [MainThread] [WARNING ] [__init__            ][1142] Annotation (None) title  in Document 1 Lorem ipsum.pdf (338280) created but without Annotation Set information.\n",
      "2022-09-23 17:55:14,814 [konfuzio_sdk.data   ] [MainThread] [WARNING ] [start_offset        ][1251] You use start_offset on Annotation Level which is legacy.\n",
      "2022-09-23 17:55:14,814 [konfuzio_sdk.data   ] [MainThread] [WARNING ] [end_offset          ][1257] You use end_offset on Annotation Level which is legacy.\n",
      "2022-09-23 17:55:15,061 [konfuzio_sdk.data   ] [MainThread] [WARNING ] [__init__            ][1142] Annotation (None) text  in Document 1 Lorem ipsum.pdf (338280) created but without Annotation Set information.\n",
      "2022-09-23 17:55:15,062 [konfuzio_sdk.data   ] [MainThread] [WARNING ] [start_offset        ][1251] You use start_offset on Annotation Level which is legacy.\n",
      "2022-09-23 17:55:15,062 [konfuzio_sdk.data   ] [MainThread] [WARNING ] [end_offset          ][1257] You use end_offset on Annotation Level which is legacy.\n",
      "2022-09-23 17:55:15,594 [konfuzio_sdk.data   ] [MainThread] [WARNING ] [__init__            ][1142] Annotation (None) title  in Document 1 Lorem ipsum.pdf (338280) created but without Annotation Set information.\n",
      "2022-09-23 17:55:15,595 [konfuzio_sdk.data   ] [MainThread] [WARNING ] [start_offset        ][1251] You use start_offset on Annotation Level which is legacy.\n",
      "2022-09-23 17:55:15,596 [konfuzio_sdk.data   ] [MainThread] [WARNING ] [end_offset          ][1257] You use end_offset on Annotation Level which is legacy.\n",
      "2022-09-23 17:55:15,839 [konfuzio_sdk.data   ] [MainThread] [WARNING ] [__init__            ][1142] Annotation (None) text  in Document 1 Lorem ipsum.pdf (338280) created but without Annotation Set information.\n",
      "2022-09-23 17:55:15,842 [konfuzio_sdk.data   ] [MainThread] [WARNING ] [start_offset        ][1251] You use start_offset on Annotation Level which is legacy.\n",
      "2022-09-23 17:55:15,843 [konfuzio_sdk.data   ] [MainThread] [WARNING ] [end_offset          ][1257] You use end_offset on Annotation Level which is legacy.\n",
      "2022-09-23 17:55:16,095 [konfuzio_sdk.data   ] [MainThread] [WARNING ] [__init__            ][1142] Annotation (None) text  in Document 1 Lorem ipsum.pdf (338280) created but without Annotation Set information.\n",
      "2022-09-23 17:55:16,096 [konfuzio_sdk.data   ] [MainThread] [WARNING ] [start_offset        ][1251] You use start_offset on Annotation Level which is legacy.\n",
      "2022-09-23 17:55:16,097 [konfuzio_sdk.data   ] [MainThread] [WARNING ] [end_offset          ][1257] You use end_offset on Annotation Level which is legacy.\n",
      "2022-09-23 17:55:16,458 [konfuzio_sdk.data   ] [MainThread] [WARNING ] [__init__            ][1142] Annotation (None) text  in Document 1 Lorem ipsum.pdf (338280) created but without Annotation Set information.\n",
      "2022-09-23 17:55:16,459 [konfuzio_sdk.data   ] [MainThread] [WARNING ] [start_offset        ][1251] You use start_offset on Annotation Level which is legacy.\n",
      "2022-09-23 17:55:16,460 [konfuzio_sdk.data   ] [MainThread] [WARNING ] [end_offset          ][1257] You use end_offset on Annotation Level which is legacy.\n",
      "2022-09-23 17:55:16,697 [konfuzio_sdk.data   ] [MainThread] [WARNING ] [__init__            ][1142] Annotation (None) title  in Document 1 Lorem ipsum.pdf (338280) created but without Annotation Set information.\n",
      "2022-09-23 17:55:16,698 [konfuzio_sdk.data   ] [MainThread] [WARNING ] [start_offset        ][1251] You use start_offset on Annotation Level which is legacy.\n",
      "2022-09-23 17:55:16,698 [konfuzio_sdk.data   ] [MainThread] [WARNING ] [end_offset          ][1257] You use end_offset on Annotation Level which is legacy.\n",
      "2022-09-23 17:55:17,134 [konfuzio_sdk.data   ] [MainThread] [WARNING ] [__init__            ][1142] Annotation (None) list  in Document 1 Lorem ipsum.pdf (338280) created but without Annotation Set information.\n",
      "2022-09-23 17:55:17,134 [konfuzio_sdk.data   ] [MainThread] [WARNING ] [start_offset        ][1251] You use start_offset on Annotation Level which is legacy.\n",
      "2022-09-23 17:55:17,135 [konfuzio_sdk.data   ] [MainThread] [WARNING ] [end_offset          ][1257] You use end_offset on Annotation Level which is legacy.\n",
      "2022-09-23 17:55:17,484 [konfuzio_sdk.data   ] [MainThread] [WARNING ] [__init__            ][1142] Annotation (None) title  in Document 1 Lorem ipsum.pdf (338280) created but without Annotation Set information.\n",
      "2022-09-23 17:55:17,485 [konfuzio_sdk.data   ] [MainThread] [WARNING ] [start_offset        ][1251] You use start_offset on Annotation Level which is legacy.\n",
      "2022-09-23 17:55:17,486 [konfuzio_sdk.data   ] [MainThread] [WARNING ] [end_offset          ][1257] You use end_offset on Annotation Level which is legacy.\n",
      "2022-09-23 17:55:17,736 [konfuzio_sdk.data   ] [MainThread] [WARNING ] [__init__            ][1142] Annotation (None) title  in Document 1 Lorem ipsum.pdf (338280) created but without Annotation Set information.\n",
      "2022-09-23 17:55:17,737 [konfuzio_sdk.data   ] [MainThread] [WARNING ] [start_offset        ][1251] You use start_offset on Annotation Level which is legacy.\n",
      "2022-09-23 17:55:17,738 [konfuzio_sdk.data   ] [MainThread] [WARNING ] [end_offset          ][1257] You use end_offset on Annotation Level which is legacy.\n",
      "2022-09-23 17:55:18,417 [konfuzio_sdk.data   ] [MainThread] [WARNING ] [__init__            ][1142] Annotation (None) text  in Document 1 Lorem ipsum.pdf (338280) created but without Annotation Set information.\n",
      "2022-09-23 17:55:18,418 [konfuzio_sdk.data   ] [MainThread] [WARNING ] [start_offset        ][1251] You use start_offset on Annotation Level which is legacy.\n",
      "2022-09-23 17:55:18,419 [konfuzio_sdk.data   ] [MainThread] [WARNING ] [end_offset          ][1257] You use end_offset on Annotation Level which is legacy.\n",
      "2022-09-23 17:55:18,770 [konfuzio_sdk.data   ] [MainThread] [WARNING ] [__init__            ][1142] Annotation (None) text  in Document 1 Lorem ipsum.pdf (338280) created but without Annotation Set information.\n",
      "2022-09-23 17:55:18,771 [konfuzio_sdk.data   ] [MainThread] [WARNING ] [start_offset        ][1251] You use start_offset on Annotation Level which is legacy.\n",
      "2022-09-23 17:55:18,771 [konfuzio_sdk.data   ] [MainThread] [WARNING ] [end_offset          ][1257] You use end_offset on Annotation Level which is legacy.\n",
      "2022-09-23 17:55:19,083 [konfuzio_sdk.data   ] [MainThread] [WARNING ] [__init__            ][1142] Annotation (None) text  in Document 1 Lorem ipsum.pdf (338280) created but without Annotation Set information.\n",
      "2022-09-23 17:55:19,084 [konfuzio_sdk.data   ] [MainThread] [WARNING ] [start_offset        ][1251] You use start_offset on Annotation Level which is legacy.\n",
      "2022-09-23 17:55:19,085 [konfuzio_sdk.data   ] [MainThread] [WARNING ] [end_offset          ][1257] You use end_offset on Annotation Level which is legacy.\n",
      "2022-09-23 17:55:19,325 [konfuzio_sdk.data   ] [MainThread] [WARNING ] [__init__            ][1142] Annotation (None) text  in Document 1 Lorem ipsum.pdf (338280) created but without Annotation Set information.\n"
     ]
    },
    {
     "name": "stderr",
     "output_type": "stream",
     "text": [
      "2022-09-23 17:55:19,326 [konfuzio_sdk.data   ] [MainThread] [WARNING ] [start_offset        ][1251] You use start_offset on Annotation Level which is legacy.\n",
      "2022-09-23 17:55:19,327 [konfuzio_sdk.data   ] [MainThread] [WARNING ] [end_offset          ][1257] You use end_offset on Annotation Level which is legacy.\n",
      "2022-09-23 17:55:19,566 [konfuzio_sdk.data   ] [MainThread] [WARNING ] [__init__            ][1142] Annotation (None) title  in Document 1 Lorem ipsum.pdf (338280) created but without Annotation Set information.\n",
      "2022-09-23 17:55:19,567 [konfuzio_sdk.data   ] [MainThread] [WARNING ] [start_offset        ][1251] You use start_offset on Annotation Level which is legacy.\n",
      "2022-09-23 17:55:19,567 [konfuzio_sdk.data   ] [MainThread] [WARNING ] [end_offset          ][1257] You use end_offset on Annotation Level which is legacy.\n",
      "2022-09-23 17:55:19,810 [konfuzio_sdk.data   ] [MainThread] [WARNING ] [__init__            ][1142] Annotation (None) text  in Document 1 Lorem ipsum.pdf (338280) created but without Annotation Set information.\n",
      "2022-09-23 17:55:19,810 [konfuzio_sdk.data   ] [MainThread] [WARNING ] [start_offset        ][1251] You use start_offset on Annotation Level which is legacy.\n",
      "2022-09-23 17:55:19,811 [konfuzio_sdk.data   ] [MainThread] [WARNING ] [end_offset          ][1257] You use end_offset on Annotation Level which is legacy.\n",
      "2022-09-23 17:55:20,160 [konfuzio_sdk.data   ] [MainThread] [WARNING ] [__init__            ][1142] Annotation (None) title  in Document 1 Lorem ipsum.pdf (338280) created but without Annotation Set information.\n",
      "2022-09-23 17:55:20,160 [konfuzio_sdk.data   ] [MainThread] [WARNING ] [start_offset        ][1251] You use start_offset on Annotation Level which is legacy.\n",
      "2022-09-23 17:55:20,161 [konfuzio_sdk.data   ] [MainThread] [WARNING ] [end_offset          ][1257] You use end_offset on Annotation Level which is legacy.\n",
      "2022-09-23 17:55:20,409 [konfuzio_sdk.data   ] [MainThread] [WARNING ] [__init__            ][1142] Annotation (None) title  in Document 1 Lorem ipsum.pdf (338280) created but without Annotation Set information.\n",
      "2022-09-23 17:55:20,410 [konfuzio_sdk.data   ] [MainThread] [WARNING ] [start_offset        ][1251] You use start_offset on Annotation Level which is legacy.\n",
      "2022-09-23 17:55:20,411 [konfuzio_sdk.data   ] [MainThread] [WARNING ] [end_offset          ][1257] You use end_offset on Annotation Level which is legacy.\n",
      "2022-09-23 17:55:20,644 [konfuzio_sdk.data   ] [MainThread] [WARNING ] [__init__            ][1142] Annotation (None) title  in Document 1 Lorem ipsum.pdf (338280) created but without Annotation Set information.\n",
      "2022-09-23 17:55:20,645 [konfuzio_sdk.data   ] [MainThread] [WARNING ] [start_offset        ][1251] You use start_offset on Annotation Level which is legacy.\n",
      "2022-09-23 17:55:20,646 [konfuzio_sdk.data   ] [MainThread] [WARNING ] [end_offset          ][1257] You use end_offset on Annotation Level which is legacy.\n",
      "2022-09-23 17:55:21,129 [konfuzio_sdk.data   ] [MainThread] [WARNING ] [__init__            ][1142] Annotation (None) list  in Document 1 Lorem ipsum.pdf (338280) created but without Annotation Set information.\n",
      "2022-09-23 17:55:21,130 [konfuzio_sdk.data   ] [MainThread] [WARNING ] [start_offset        ][1251] You use start_offset on Annotation Level which is legacy.\n",
      "2022-09-23 17:55:21,130 [konfuzio_sdk.data   ] [MainThread] [WARNING ] [end_offset          ][1257] You use end_offset on Annotation Level which is legacy.\n",
      "2022-09-23 17:55:21,375 [konfuzio_sdk.data   ] [MainThread] [WARNING ] [__init__            ][1142] Annotation (None) text  in Document 1 Lorem ipsum.pdf (338280) created but without Annotation Set information.\n",
      "2022-09-23 17:55:21,376 [konfuzio_sdk.data   ] [MainThread] [WARNING ] [start_offset        ][1251] You use start_offset on Annotation Level which is legacy.\n",
      "2022-09-23 17:55:21,376 [konfuzio_sdk.data   ] [MainThread] [WARNING ] [end_offset          ][1257] You use end_offset on Annotation Level which is legacy.\n",
      "2022-09-23 17:55:21,620 [konfuzio_sdk.data   ] [MainThread] [WARNING ] [__init__            ][1142] Annotation (None) text  in Document 1 Lorem ipsum.pdf (338280) created but without Annotation Set information.\n",
      "2022-09-23 17:55:21,622 [konfuzio_sdk.data   ] [MainThread] [WARNING ] [start_offset        ][1251] You use start_offset on Annotation Level which is legacy.\n",
      "2022-09-23 17:55:21,623 [konfuzio_sdk.data   ] [MainThread] [WARNING ] [end_offset          ][1257] You use end_offset on Annotation Level which is legacy.\n",
      "2022-09-23 17:55:21,945 [konfuzio_sdk.data   ] [MainThread] [WARNING ] [__init__            ][1142] Annotation (None) text  in Document 1 Lorem ipsum.pdf (338280) created but without Annotation Set information.\n",
      "2022-09-23 17:55:21,946 [konfuzio_sdk.data   ] [MainThread] [WARNING ] [start_offset        ][1251] You use start_offset on Annotation Level which is legacy.\n",
      "2022-09-23 17:55:21,946 [konfuzio_sdk.data   ] [MainThread] [WARNING ] [end_offset          ][1257] You use end_offset on Annotation Level which is legacy.\n",
      "2022-09-23 17:55:22,658 [konfuzio_sdk.data   ] [MainThread] [WARNING ] [__init__            ][1142] Annotation (None) text  in Document 1 Lorem ipsum.pdf (338280) created but without Annotation Set information.\n",
      "2022-09-23 17:55:22,659 [konfuzio_sdk.data   ] [MainThread] [WARNING ] [start_offset        ][1251] You use start_offset on Annotation Level which is legacy.\n",
      "2022-09-23 17:55:22,660 [konfuzio_sdk.data   ] [MainThread] [WARNING ] [end_offset          ][1257] You use end_offset on Annotation Level which is legacy.\n"
     ]
    }
   ],
   "source": [
    "for page_i, bbox_i in detections:\n",
    "    bboxes_within_paragraph = {\n",
    "        int(k): b for k, b in example_doc.pages()[page_i].get_bbox().items() if\n",
    "        (\n",
    "            (b['x0'] > paragraph_coords[EXAMPLE_DOC_ID][page_i][bbox_i]['x0']) and\n",
    "            (b['x1'] < paragraph_coords[EXAMPLE_DOC_ID][page_i][bbox_i]['x1']) and\n",
    "            (b['y0'] > paragraph_coords[EXAMPLE_DOC_ID][page_i][bbox_i]['y0']) and\n",
    "            (b['y1'] < paragraph_coords[EXAMPLE_DOC_ID][page_i][bbox_i]['y1'])\n",
    "        )\n",
    "    }\n",
    "    \n",
    "    # creating a new Annotation for each segment defined\n",
    "    \n",
    "    label = my_project.get_label_by_name(paragraph_coords[EXAMPLE_DOC_ID][page_i][bbox_i]['label'])\n",
    "    new_ann = Annotation(\n",
    "        document=example_doc,\n",
    "        spans=[Span(start_offset=min(bboxes_within_paragraph.keys()), end_offset=max(bboxes_within_paragraph.keys())+1)],\n",
    "        label=label,\n",
    "        label_set=label.label_sets[0],\n",
    "        accuracy=1.0,\n",
    "        is_correct=True\n",
    "    )\n",
    "    \n",
    "    # saving the annotation online\n",
    "    \n",
    "    new_ann.save()\n",
    "    \n",
    "    # refresh https://app.konfuzio.com/projects/1641/docs/338280/bbox-annotations/ to see it"
   ]
  }
 ],
 "metadata": {
  "kernelspec": {
   "display_name": "Python 3 (ipykernel)",
   "language": "python",
   "name": "python3"
  },
  "language_info": {
   "codemirror_mode": {
    "name": "ipython",
    "version": 3
   },
   "file_extension": ".py",
   "mimetype": "text/x-python",
   "name": "python",
   "nbconvert_exporter": "python",
   "pygments_lexer": "ipython3",
   "version": "3.8.13"
  }
 },
 "nbformat": 4,
 "nbformat_minor": 5
}
