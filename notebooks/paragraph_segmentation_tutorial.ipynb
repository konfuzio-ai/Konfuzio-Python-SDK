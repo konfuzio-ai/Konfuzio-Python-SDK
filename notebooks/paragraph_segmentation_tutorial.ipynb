{
 "cells": [
  {
   "cell_type": "markdown",
   "id": "28803ea1",
   "metadata": {},
   "source": [
    "# Getting Paragraph predictions as Annotations in the smartview"
   ]
  },
  {
   "cell_type": "markdown",
   "id": "f82f96f8",
   "metadata": {},
   "source": [
    "This notebook provides a tutorial for using automatic paragraph prediction and enabling the predictions in smartview mode."
   ]
  },
  {
   "cell_type": "markdown",
   "id": "3d6c3915",
   "metadata": {},
   "source": [
    "Importing necessary dependencies:"
   ]
  },
  {
   "cell_type": "code",
   "execution_count": 1,
   "id": "d15da7c7",
   "metadata": {},
   "outputs": [],
   "source": [
    "import requests\n",
    "\n",
    "from konfuzio_sdk import KONFUZIO_TOKEN\n",
    "from konfuzio_sdk.data import Project, Annotation, Span, Document\n",
    "from tqdm import tqdm\n",
    "from typing import List, Dict"
   ]
  },
  {
   "cell_type": "markdown",
   "id": "f5f40232",
   "metadata": {},
   "source": [
    "Next, we need to specify project ID and load its documents' IDs for further usage:"
   ]
  },
  {
   "cell_type": "code",
   "execution_count": 2,
   "id": "bb211d1a",
   "metadata": {},
   "outputs": [],
   "source": [
    "PROJECT_ID = 1641"
   ]
  },
  {
   "cell_type": "code",
   "execution_count": 3,
   "id": "1689139e",
   "metadata": {},
   "outputs": [
    {
     "name": "stderr",
     "output_type": "stream",
     "text": [
      "2022-09-16 13:26:59,393 [konfuzio_sdk.data   ] [MainThread] [INFO    ] [init_or_update_docum][2489] Document 1 Lorem ipsum.pdf (338280) was updated, we will download it again as soon you use it.\n"
     ]
    }
   ],
   "source": [
    "my_project = Project(id_=PROJECT_ID, update=True)"
   ]
  },
  {
   "cell_type": "markdown",
   "id": "d51f92b7",
   "metadata": {},
   "source": [
    "Before sending requests to the API we need to specify the credentials and include them into headers used in the request:"
   ]
  },
  {
   "cell_type": "code",
   "execution_count": 4,
   "id": "db549b36",
   "metadata": {},
   "outputs": [],
   "source": [
    "headers = {\n",
    "    \"Authorization\": \"Token {}\".format(KONFUZIO_TOKEN)\n",
    "}"
   ]
  },
  {
   "cell_type": "markdown",
   "id": "df551f81",
   "metadata": {},
   "source": [
    "For each document, we send a GET request to Konfuzio's API and receive a JSON with coordinates of paragraphs. These coordinates need to be transformed with accordance to the image rescaling because sizes of actual document images and resulting pages are different; let's define a function that does so:"
   ]
  },
  {
   "cell_type": "code",
   "execution_count": 5,
   "id": "4a0ff575",
   "metadata": {},
   "outputs": [],
   "source": [
    "def convert_bbox_segmentation_to_konfuzio(bbox_pages: List[List[Dict]], doc: Document) -> List[List[Dict]]:\n",
    "    page = doc.pages()[0]\n",
    "    img = page.get_image(update=True)\n",
    "    factor_x = page.width / img.width # determines difference between sizes of page and actual document images\n",
    "    factor_y = page.height / img.height\n",
    "    new_bbox_pages = []\n",
    "    for bboxes in bbox_pages:\n",
    "        new_bboxes = []\n",
    "        for bbox in bboxes:\n",
    "            new_bbox = {\n",
    "                'x0': factor_x * bbox['x0'], # rescaling the obtained coordinates \n",
    "                'x1': factor_x * bbox['x1'],\n",
    "                'y0': factor_y * (img.height - bbox['y1']),\n",
    "                'y1': factor_y * (img.height - bbox['y0']),\n",
    "                'label': bbox['label']\n",
    "            }\n",
    "            new_bboxes.append(new_bbox)\n",
    "        new_bbox_pages.append(new_bboxes)\n",
    "    return new_bbox_pages"
   ]
  },
  {
   "cell_type": "code",
   "execution_count": 6,
   "id": "b4b0f068",
   "metadata": {},
   "outputs": [
    {
     "name": "stderr",
     "output_type": "stream",
     "text": [
      "100%|███████████████████████████████████████████████████████████████████████████████████████████████████████████████████████████████████████████████████████████████████████████████████████████████████████████████████████████████████████████| 6/6 [00:09<00:00,  1.56s/it]\n"
     ]
    }
   ],
   "source": [
    "paragraph_coords = {}\n",
    "\n",
    "for doc in tqdm(my_project._documents):\n",
    "    r = requests.get('https://app.konfuzio.com/api/projects/{}/docs/{}/segmentation/'.format(PROJECT_ID,\n",
    "                                                                                            doc.id_),\n",
    "                     headers=headers\n",
    "                    )\n",
    "    \n",
    "    paragraph_coords[doc.id_] = convert_bbox_segmentation_to_konfuzio(r.json(), doc)"
   ]
  },
  {
   "cell_type": "markdown",
   "id": "e6ff354b",
   "metadata": {},
   "source": [
    "Let's run an exemplary annotation for one of the documents from the test set:"
   ]
  },
  {
   "cell_type": "code",
   "execution_count": 7,
   "id": "417954f7",
   "metadata": {},
   "outputs": [],
   "source": [
    "EXAMPLE_DOC_ID = 338280\n",
    "example_doc = my_project.get_document_by_id(EXAMPLE_DOC_ID)"
   ]
  },
  {
   "cell_type": "markdown",
   "id": "3549bc9f",
   "metadata": {},
   "source": [
    "Gathering all bounding boxes from all pages to iterate over the resulting list later:"
   ]
  },
  {
   "cell_type": "code",
   "execution_count": 8,
   "id": "aac8facf",
   "metadata": {},
   "outputs": [],
   "source": [
    "detections = []\n",
    "\n",
    "for i, page in enumerate(paragraph_coords[EXAMPLE_DOC_ID]):\n",
    "    for j, bbox in enumerate(page):\n",
    "        detections.append((i,j))"
   ]
  },
  {
   "cell_type": "markdown",
   "id": "5deb4143",
   "metadata": {},
   "source": [
    "Filtering over the character-level bounding boxes to determine those falling into different segments:"
   ]
  },
  {
   "cell_type": "code",
   "execution_count": null,
   "id": "a20888b0",
   "metadata": {},
   "outputs": [],
   "source": [
    "for page_i, bbox_i in detections:\n",
    "    bboxes_within_paragraph = {\n",
    "        int(k): b for k, b in example_doc.pages()[page_i].get_bbox().items() if\n",
    "        (\n",
    "            (b['x0'] > paragraph_coords[EXAMPLE_DOC_ID][page_i][bbox_i]['x0']) and\n",
    "            (b['x1'] < paragraph_coords[EXAMPLE_DOC_ID][page_i][bbox_i]['x1']) and\n",
    "            (b['y0'] > paragraph_coords[EXAMPLE_DOC_ID][page_i][bbox_i]['y0']) and\n",
    "            (b['y1'] < paragraph_coords[EXAMPLE_DOC_ID][page_i][bbox_i]['y1'])\n",
    "        )\n",
    "    }\n",
    "    \n",
    "    # creating a new Annotation for each segment defined\n",
    "    \n",
    "    label = my_project.get_label_by_name(paragraph_coords[EXAMPLE_DOC_ID][page_i][bbox_i]['label'])\n",
    "    new_ann = Annotation(\n",
    "        document=example_doc,\n",
    "        spans=[Span(start_offset=min(bboxes_within_paragraph.keys()), end_offset=max(bboxes_within_paragraph.keys())+1)],\n",
    "        label=label,\n",
    "        label_set=label.label_sets[0],\n",
    "        accuracy=1.0,\n",
    "        is_correct=True\n",
    "    )\n",
    "    \n",
    "    # saving the annotation online\n",
    "    \n",
    "    new_ann.save()\n",
    "    \n",
    "    # refresh https://app.konfuzio.com/projects/1641/docs/338280/bbox-annotations/ to see it"
   ]
  }
 ],
 "metadata": {
  "kernelspec": {
   "display_name": "Python 3 (ipykernel)",
   "language": "python",
   "name": "python3"
  },
  "language_info": {
   "codemirror_mode": {
    "name": "ipython",
    "version": 3
   },
   "file_extension": ".py",
   "mimetype": "text/x-python",
   "name": "python",
   "nbconvert_exporter": "python",
   "pygments_lexer": "ipython3",
   "version": "3.8.13"
  }
 },
 "nbformat": 4,
 "nbformat_minor": 5
}
