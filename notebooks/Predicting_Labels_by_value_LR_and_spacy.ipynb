{
 "cells": [
  {
   "cell_type": "code",
   "execution_count": 1,
   "id": "8a4b25dc",
   "metadata": {},
   "outputs": [],
   "source": [
    "import math\n",
    "\n",
    "import pandas as pd\n",
    "\n",
    "from konfuzio_sdk.data import Project, Document\n",
    "from sklearn.linear_model import LinearRegression\n",
    "from sklearn.metrics import mean_squared_error, mean_absolute_error"
   ]
  },
  {
   "cell_type": "markdown",
   "id": "8714d047",
   "metadata": {},
   "source": [
    "## An attempt into LR"
   ]
  },
  {
   "cell_type": "code",
   "execution_count": 2,
   "id": "ddbbee58",
   "metadata": {},
   "outputs": [],
   "source": [
    "my_project = Project(id_=1435)"
   ]
  },
  {
   "cell_type": "code",
   "execution_count": 7,
   "id": "5d4aaf87",
   "metadata": {},
   "outputs": [],
   "source": [
    "ids = my_project.documents"
   ]
  },
  {
   "cell_type": "code",
   "execution_count": 8,
   "id": "868bfca8",
   "metadata": {},
   "outputs": [
    {
     "data": {
      "text/plain": [
       "[Document Gehalt.pdf (282290),\n",
       " Document Festlohn.pdf (282291),\n",
       " Document vermögenswirksame Leistungen.pdf (282292),\n",
       " Document betriebliche Altersvorsorge AG finanziert.pdf (282293),\n",
       " Document Weihnachtsgeld.pdf (282294),\n",
       " Document Stundenlohn.pdf (282295),\n",
       " Document Fahrtkostenzuschuss pauschal versteuert.pdf (282296),\n",
       " Document Betirebliche Altersvorsorge Mischfinanzierung.pdf (282297),\n",
       " Document Darlehen.pdf (282298),\n",
       " Document Dienstwagen mit Gehaltsverzicht.pdf (282299),\n",
       " Document Auswertungspaket - unterschiedliche B_N-Auswertungen.pdf_1.pdf (282300),\n",
       " Document Auswertungspaket - unterschiedliche B_N-Auswertungen.pdf_2.pdf (282301),\n",
       " Document Auswertungspaket - unterschiedliche B_N-Auswertungen.pdf_4.pdf (282302),\n",
       " Document Auswertungspaket - unterschiedliche B_N-Auswertungen.pdf_3.pdf (282303),\n",
       " Document Auswertungspaket - unterschiedliche B_N-Auswertungen.pdf_5.pdf (282304),\n",
       " Document Auswertungspaket - unterschiedliche B_N-Auswertungen.pdf_6.pdf (282305),\n",
       " Document Auswertungspaket - unterschiedliche B_N-Auswertungen.pdf_7.pdf (282306),\n",
       " Document Auswertungspaket - unterschiedliche B_N-Auswertungen.pdf_8.pdf (282307),\n",
       " Document Auswertungspaket - unterschiedliche B_N-Auswertungen.pdf_9.pdf (282309),\n",
       " Document Auswertungspaket - unterschiedliche B_N-Auswertungen.pdf_10.pdf (282310),\n",
       " Document Auswertungspaket - unterschiedliche B_N-Auswertungen.pdf_12.pdf (282311),\n",
       " Document 2022-01-30 07:22:29.106312 (282312),\n",
       " Document 2022-01-30 07:12:04.725599 (282313),\n",
       " Document 2022-02-07 11:17:51.957252 (282314),\n",
       " Document 2022-01-30 06:57:53.988011 (282315),\n",
       " Document 2022-02-13 16:19:30.684745 (282316)]"
      ]
     },
     "execution_count": 8,
     "metadata": {},
     "output_type": "execute_result"
    }
   ],
   "source": [
    "ids"
   ]
  },
  {
   "cell_type": "code",
   "execution_count": 10,
   "id": "58efdd86",
   "metadata": {},
   "outputs": [],
   "source": [
    "meaningful = ['Label: Gesamt-Brutto', 'Label: Steuerrechtliche Abzüge', 'Label: Netto-Verdienst']"
   ]
  },
  {
   "cell_type": "code",
   "execution_count": 12,
   "id": "ec44b2d9",
   "metadata": {},
   "outputs": [],
   "source": [
    "data = []\n",
    "targets = []\n",
    "\n",
    "for t in ids:\n",
    "    try:\n",
    "        annots = t.annotations()\n",
    "        cur_data = []\n",
    "\n",
    "        for annot in annots:\n",
    "            if str(annot.label) in meaningful:\n",
    "                if annot.normalized is not None:\n",
    "                    cur_data.append([annot.label, annot.normalized])\n",
    "            if str(annot.label) == 'Label: Auszahlungsbetrag':\n",
    "                targets.append(annot.normalized)\n",
    "        data.append(cur_data)\n",
    "    except ValueError:\n",
    "        pass"
   ]
  },
  {
   "cell_type": "code",
   "execution_count": 13,
   "id": "454b932c",
   "metadata": {},
   "outputs": [],
   "source": [
    "data[5][1][1] = 513.31"
   ]
  },
  {
   "cell_type": "code",
   "execution_count": 14,
   "id": "397e6dbf",
   "metadata": {},
   "outputs": [],
   "source": [
    "data = [[[x[0], float(str(x[1]).replace(',', '.'))] for x in y] for y in data]"
   ]
  },
  {
   "cell_type": "code",
   "execution_count": 15,
   "id": "8d4e535b",
   "metadata": {},
   "outputs": [],
   "source": [
    "data[4] = [['Label: Gesamt-Brutto', 4591.0],\n",
    " ['Label: Steuerrechtliche Abzüge', 1466.03],\n",
    " ['Label: Netto-Verdienst', 2182.68]]"
   ]
  },
  {
   "cell_type": "code",
   "execution_count": 16,
   "id": "38433715",
   "metadata": {},
   "outputs": [],
   "source": [
    "data_clean = [[x[1] for x in y] for y in data]"
   ]
  },
  {
   "cell_type": "code",
   "execution_count": 17,
   "id": "0b22d91f",
   "metadata": {},
   "outputs": [],
   "source": [
    "df_x = pd.DataFrame(data_clean, dtype=float)"
   ]
  },
  {
   "cell_type": "code",
   "execution_count": 18,
   "id": "b768df07",
   "metadata": {},
   "outputs": [
    {
     "data": {
      "text/html": [
       "<div>\n",
       "<style scoped>\n",
       "    .dataframe tbody tr th:only-of-type {\n",
       "        vertical-align: middle;\n",
       "    }\n",
       "\n",
       "    .dataframe tbody tr th {\n",
       "        vertical-align: top;\n",
       "    }\n",
       "\n",
       "    .dataframe thead th {\n",
       "        text-align: right;\n",
       "    }\n",
       "</style>\n",
       "<table border=\"1\" class=\"dataframe\">\n",
       "  <thead>\n",
       "    <tr style=\"text-align: right;\">\n",
       "      <th></th>\n",
       "      <th>0</th>\n",
       "      <th>1</th>\n",
       "      <th>2</th>\n",
       "    </tr>\n",
       "  </thead>\n",
       "  <tbody>\n",
       "    <tr>\n",
       "      <th>0</th>\n",
       "      <td>3120.00</td>\n",
       "      <td>292.11</td>\n",
       "      <td>2189.07</td>\n",
       "    </tr>\n",
       "    <tr>\n",
       "      <th>1</th>\n",
       "      <td>3000.00</td>\n",
       "      <td>207.99</td>\n",
       "      <td>2177.76</td>\n",
       "    </tr>\n",
       "    <tr>\n",
       "      <th>2</th>\n",
       "      <td>2759.19</td>\n",
       "      <td>400.72</td>\n",
       "      <td>1793.53</td>\n",
       "    </tr>\n",
       "    <tr>\n",
       "      <th>3</th>\n",
       "      <td>540.00</td>\n",
       "      <td>0.00</td>\n",
       "      <td>423.81</td>\n",
       "    </tr>\n",
       "    <tr>\n",
       "      <th>4</th>\n",
       "      <td>4591.00</td>\n",
       "      <td>1466.03</td>\n",
       "      <td>2182.68</td>\n",
       "    </tr>\n",
       "  </tbody>\n",
       "</table>\n",
       "</div>"
      ],
      "text/plain": [
       "         0        1        2\n",
       "0  3120.00   292.11  2189.07\n",
       "1  3000.00   207.99  2177.76\n",
       "2  2759.19   400.72  1793.53\n",
       "3   540.00     0.00   423.81\n",
       "4  4591.00  1466.03  2182.68"
      ]
     },
     "execution_count": 18,
     "metadata": {},
     "output_type": "execute_result"
    }
   ],
   "source": [
    "df_x.head()"
   ]
  },
  {
   "cell_type": "code",
   "execution_count": 19,
   "id": "6661df87",
   "metadata": {},
   "outputs": [],
   "source": [
    "df_y = pd.DataFrame(targets, dtype=float)"
   ]
  },
  {
   "cell_type": "code",
   "execution_count": 20,
   "id": "e30092d1",
   "metadata": {},
   "outputs": [
    {
     "data": {
      "text/html": [
       "<style>#sk-container-id-1 {color: black;background-color: white;}#sk-container-id-1 pre{padding: 0;}#sk-container-id-1 div.sk-toggleable {background-color: white;}#sk-container-id-1 label.sk-toggleable__label {cursor: pointer;display: block;width: 100%;margin-bottom: 0;padding: 0.3em;box-sizing: border-box;text-align: center;}#sk-container-id-1 label.sk-toggleable__label-arrow:before {content: \"▸\";float: left;margin-right: 0.25em;color: #696969;}#sk-container-id-1 label.sk-toggleable__label-arrow:hover:before {color: black;}#sk-container-id-1 div.sk-estimator:hover label.sk-toggleable__label-arrow:before {color: black;}#sk-container-id-1 div.sk-toggleable__content {max-height: 0;max-width: 0;overflow: hidden;text-align: left;background-color: #f0f8ff;}#sk-container-id-1 div.sk-toggleable__content pre {margin: 0.2em;color: black;border-radius: 0.25em;background-color: #f0f8ff;}#sk-container-id-1 input.sk-toggleable__control:checked~div.sk-toggleable__content {max-height: 200px;max-width: 100%;overflow: auto;}#sk-container-id-1 input.sk-toggleable__control:checked~label.sk-toggleable__label-arrow:before {content: \"▾\";}#sk-container-id-1 div.sk-estimator input.sk-toggleable__control:checked~label.sk-toggleable__label {background-color: #d4ebff;}#sk-container-id-1 div.sk-label input.sk-toggleable__control:checked~label.sk-toggleable__label {background-color: #d4ebff;}#sk-container-id-1 input.sk-hidden--visually {border: 0;clip: rect(1px 1px 1px 1px);clip: rect(1px, 1px, 1px, 1px);height: 1px;margin: -1px;overflow: hidden;padding: 0;position: absolute;width: 1px;}#sk-container-id-1 div.sk-estimator {font-family: monospace;background-color: #f0f8ff;border: 1px dotted black;border-radius: 0.25em;box-sizing: border-box;margin-bottom: 0.5em;}#sk-container-id-1 div.sk-estimator:hover {background-color: #d4ebff;}#sk-container-id-1 div.sk-parallel-item::after {content: \"\";width: 100%;border-bottom: 1px solid gray;flex-grow: 1;}#sk-container-id-1 div.sk-label:hover label.sk-toggleable__label {background-color: #d4ebff;}#sk-container-id-1 div.sk-serial::before {content: \"\";position: absolute;border-left: 1px solid gray;box-sizing: border-box;top: 0;bottom: 0;left: 50%;z-index: 0;}#sk-container-id-1 div.sk-serial {display: flex;flex-direction: column;align-items: center;background-color: white;padding-right: 0.2em;padding-left: 0.2em;position: relative;}#sk-container-id-1 div.sk-item {position: relative;z-index: 1;}#sk-container-id-1 div.sk-parallel {display: flex;align-items: stretch;justify-content: center;background-color: white;position: relative;}#sk-container-id-1 div.sk-item::before, #sk-container-id-1 div.sk-parallel-item::before {content: \"\";position: absolute;border-left: 1px solid gray;box-sizing: border-box;top: 0;bottom: 0;left: 50%;z-index: -1;}#sk-container-id-1 div.sk-parallel-item {display: flex;flex-direction: column;z-index: 1;position: relative;background-color: white;}#sk-container-id-1 div.sk-parallel-item:first-child::after {align-self: flex-end;width: 50%;}#sk-container-id-1 div.sk-parallel-item:last-child::after {align-self: flex-start;width: 50%;}#sk-container-id-1 div.sk-parallel-item:only-child::after {width: 0;}#sk-container-id-1 div.sk-dashed-wrapped {border: 1px dashed gray;margin: 0 0.4em 0.5em 0.4em;box-sizing: border-box;padding-bottom: 0.4em;background-color: white;}#sk-container-id-1 div.sk-label label {font-family: monospace;font-weight: bold;display: inline-block;line-height: 1.2em;}#sk-container-id-1 div.sk-label-container {text-align: center;}#sk-container-id-1 div.sk-container {/* jupyter's `normalize.less` sets `[hidden] { display: none; }` but bootstrap.min.css set `[hidden] { display: none !important; }` so we also need the `!important` here to be able to override the default hidden behavior on the sphinx rendered scikit-learn.org. See: https://github.com/scikit-learn/scikit-learn/issues/21755 */display: inline-block !important;position: relative;}#sk-container-id-1 div.sk-text-repr-fallback {display: none;}</style><div id=\"sk-container-id-1\" class=\"sk-top-container\"><div class=\"sk-text-repr-fallback\"><pre>LinearRegression()</pre><b>In a Jupyter environment, please rerun this cell to show the HTML representation or trust the notebook. <br />On GitHub, the HTML representation is unable to render, please try loading this page with nbviewer.org.</b></div><div class=\"sk-container\" hidden><div class=\"sk-item\"><div class=\"sk-estimator sk-toggleable\"><input class=\"sk-toggleable__control sk-hidden--visually\" id=\"sk-estimator-id-1\" type=\"checkbox\" checked><label for=\"sk-estimator-id-1\" class=\"sk-toggleable__label sk-toggleable__label-arrow\">LinearRegression</label><div class=\"sk-toggleable__content\"><pre>LinearRegression()</pre></div></div></div></div></div>"
      ],
      "text/plain": [
       "LinearRegression()"
      ]
     },
     "execution_count": 20,
     "metadata": {},
     "output_type": "execute_result"
    }
   ],
   "source": [
    "X = df_x\n",
    "y = df_y\n",
    "\n",
    "clf = LinearRegression()\n",
    "clf.fit(X, y)"
   ]
  },
  {
   "cell_type": "code",
   "execution_count": 21,
   "id": "b476ee30",
   "metadata": {},
   "outputs": [],
   "source": [
    "scores = clf.score(X, y)"
   ]
  },
  {
   "cell_type": "code",
   "execution_count": 22,
   "id": "692fdb6a",
   "metadata": {},
   "outputs": [
    {
     "data": {
      "text/plain": [
       "0.9375595440745054"
      ]
     },
     "execution_count": 22,
     "metadata": {},
     "output_type": "execute_result"
    }
   ],
   "source": [
    "scores"
   ]
  },
  {
   "cell_type": "code",
   "execution_count": 25,
   "id": "adfc9e76",
   "metadata": {},
   "outputs": [],
   "source": [
    "test = my_project.test_documents"
   ]
  },
  {
   "cell_type": "code",
   "execution_count": 26,
   "id": "fb706bff",
   "metadata": {},
   "outputs": [],
   "source": [
    "test_data = []\n",
    "test_targets = []\n",
    "\n",
    "for t in test:\n",
    "    annots = t.annotations()\n",
    "    cur_data = []\n",
    "    \n",
    "    for annot in annots:\n",
    "        if str(annot.label) in meaningful:\n",
    "            if annot.normalized is not None:\n",
    "                cur_data.append([annot.label, annot.normalized])\n",
    "        if str(annot.label) == 'Label: Auszahlungsbetrag':\n",
    "            test_targets.append(annot.normalized)\n",
    "    test_data.append(cur_data)"
   ]
  },
  {
   "cell_type": "code",
   "execution_count": 27,
   "id": "8eb83363",
   "metadata": {},
   "outputs": [],
   "source": [
    "test_data = [[[x[0], float(str(x[1]).replace(',', '.'))] for x in y] for y in test_data]"
   ]
  },
  {
   "cell_type": "code",
   "execution_count": 28,
   "id": "58a266c1",
   "metadata": {},
   "outputs": [],
   "source": [
    "test_data_clean = [[x[1] for x in y] for y in test_data]"
   ]
  },
  {
   "cell_type": "code",
   "execution_count": 29,
   "id": "f9364892",
   "metadata": {},
   "outputs": [
    {
     "data": {
      "text/plain": [
       "[[4355.4, 565.49, 3319.53],\n",
       " [4638.6, 589.73, 3569.5],\n",
       " [4675.78, 600.63, 3591.76]]"
      ]
     },
     "execution_count": 29,
     "metadata": {},
     "output_type": "execute_result"
    }
   ],
   "source": [
    "test_data_clean"
   ]
  },
  {
   "cell_type": "code",
   "execution_count": 30,
   "id": "5f13f5ac",
   "metadata": {},
   "outputs": [],
   "source": [
    "df_test = pd.DataFrame(test_data_clean, dtype=float)"
   ]
  },
  {
   "cell_type": "code",
   "execution_count": 31,
   "id": "0c0c31c9",
   "metadata": {},
   "outputs": [],
   "source": [
    "pred = clf.predict(df_test)"
   ]
  },
  {
   "cell_type": "code",
   "execution_count": 32,
   "id": "fa9ca8d0",
   "metadata": {},
   "outputs": [
    {
     "data": {
      "text/plain": [
       "array([[2913.37823797],\n",
       "       [3117.92172298],\n",
       "       [3136.86300305]])"
      ]
     },
     "execution_count": 32,
     "metadata": {},
     "output_type": "execute_result"
    }
   ],
   "source": [
    "pred"
   ]
  },
  {
   "cell_type": "code",
   "execution_count": 33,
   "id": "b9c65ed5",
   "metadata": {},
   "outputs": [],
   "source": [
    "df_golden_standard = [[3482.08], [3462.82], [3576.53]]"
   ]
  },
  {
   "cell_type": "code",
   "execution_count": 34,
   "id": "773ebf43",
   "metadata": {},
   "outputs": [
    {
     "name": "stdout",
     "output_type": "stream",
     "text": [
      "211894.5279449306\n",
      "460.32002774692586\n",
      "451.0890119998359\n"
     ]
    }
   ],
   "source": [
    "print(mean_squared_error(df_golden_standard, pred))\n",
    "print(math.sqrt(mean_squared_error(df_golden_standard, pred)))\n",
    "print(mean_absolute_error(df_golden_standard, pred))"
   ]
  },
  {
   "cell_type": "markdown",
   "id": "5075da85",
   "metadata": {},
   "source": [
    "## An attempt into NER"
   ]
  },
  {
   "cell_type": "code",
   "execution_count": 3,
   "id": "686043e6",
   "metadata": {},
   "outputs": [
    {
     "name": "stderr",
     "output_type": "stream",
     "text": [
      "2022-07-25 13:08:04.323089: W tensorflow/stream_executor/platform/default/dso_loader.cc:64] Could not load dynamic library 'libcudart.so.11.0'; dlerror: libcudart.so.11.0: cannot open shared object file: No such file or directory\n",
      "2022-07-25 13:08:04.323111: I tensorflow/stream_executor/cuda/cudart_stub.cc:29] Ignore above cudart dlerror if you do not have a GPU set up on your machine.\n"
     ]
    }
   ],
   "source": [
    "import spacy\n",
    "from spacy.tokens import DocBin"
   ]
  },
  {
   "cell_type": "markdown",
   "id": "43d2e070",
   "metadata": {},
   "source": [
    "### Training data preparation"
   ]
  },
  {
   "cell_type": "code",
   "execution_count": 98,
   "id": "35cad0b6",
   "metadata": {},
   "outputs": [
    {
     "data": {
      "text/plain": [
       "282290"
      ]
     },
     "execution_count": 98,
     "metadata": {},
     "output_type": "execute_result"
    }
   ],
   "source": [
    "ids[0].id_"
   ]
  },
  {
   "cell_type": "code",
   "execution_count": 99,
   "id": "095e5d78",
   "metadata": {},
   "outputs": [],
   "source": [
    "def prepare_data(text):\n",
    "    text_id = text.id_\n",
    "    \n",
    "    with open('data_1435/documents/{}/document.txt'.format(text_id), 'r') as f:\n",
    "        raw = f.read()\n",
    "    \n",
    "    result = []\n",
    "    \n",
    "    for annot in text.annotations():\n",
    "        label = str(annot.label)[7:]\n",
    "        if annot.bboxes.__len__ == 1:\n",
    "            result.append((annot.bboxes[0].start_offset, annot.bboxes[0].end_offset, label))\n",
    "        else:\n",
    "            for el in annot.bboxes:\n",
    "                result.append((el['start_offset'], el['end_offset'], label))\n",
    "    \n",
    "    return (raw, result)"
   ]
  },
  {
   "cell_type": "code",
   "execution_count": 101,
   "id": "1acf5c6e",
   "metadata": {},
   "outputs": [],
   "source": [
    "training_data = []\n",
    "\n",
    "for ix in ids:\n",
    "    try:\n",
    "        training_data.append(prepare_data(ix))\n",
    "    except FileNotFoundError:\n",
    "        pass"
   ]
  },
  {
   "cell_type": "code",
   "execution_count": 102,
   "id": "fa63d0f0",
   "metadata": {},
   "outputs": [
    {
     "data": {
      "text/plain": [
       "25"
      ]
     },
     "execution_count": 102,
     "metadata": {},
     "output_type": "execute_result"
    }
   ],
   "source": [
    "len(training_data)"
   ]
  },
  {
   "cell_type": "code",
   "execution_count": 103,
   "id": "43ccb081",
   "metadata": {},
   "outputs": [],
   "source": [
    "nlp = spacy.blank(\"de\")\n",
    "\n",
    "db = DocBin()\n",
    "for text, annotations in training_data:\n",
    "    doc = nlp(text)\n",
    "    ents = []\n",
    "    for start, end, label in annotations:\n",
    "        span = doc.char_span(start, end, label=label)\n",
    "        ents.append(span)\n",
    "    doc.ents = ents\n",
    "    db.add(doc)\n",
    "db.to_disk(\"./train.spacy\")"
   ]
  },
  {
   "cell_type": "code",
   "execution_count": 4,
   "id": "d3f3515e",
   "metadata": {},
   "outputs": [],
   "source": [
    "nlp = spacy.load('output/model-best')"
   ]
  },
  {
   "cell_type": "code",
   "execution_count": 5,
   "id": "7c93d245",
   "metadata": {},
   "outputs": [],
   "source": [
    "test_docs = my_project.test_documents"
   ]
  },
  {
   "cell_type": "code",
   "execution_count": 6,
   "id": "dfa8a851",
   "metadata": {},
   "outputs": [
    {
     "data": {
      "text/plain": [
       "[Document Auswertungspaket - unterschiedliche B_N-Auswertungen.pdf_18.pdf (282317),\n",
       " Document Auswertungspaket - unterschiedliche B_N-Auswertungen.pdf_17.pdf (282318),\n",
       " Document Auswertungspaket - unterschiedliche B_N-Auswertungen.pdf_19.pdf (282319)]"
      ]
     },
     "execution_count": 6,
     "metadata": {},
     "output_type": "execute_result"
    }
   ],
   "source": [
    "test_docs"
   ]
  },
  {
   "cell_type": "code",
   "execution_count": 47,
   "id": "d4bb2ea4",
   "metadata": {},
   "outputs": [],
   "source": [
    "def process_tests(text):\n",
    "    text_id = text.id_\n",
    "    \n",
    "    with open('data_1435/documents/{}/document.txt'.format(text_id), 'r') as f:\n",
    "        raw = f.read()\n",
    "    \n",
    "    test_line = raw.split('\\n')[-9]\n",
    "    \n",
    "    doc = nlp(test_line)\n",
    "    \n",
    "    ents_in_line = []\n",
    "    \n",
    "    for ent in doc.ents:\n",
    "        ents_in_line.append((ent.text, ent.label_))\n",
    "    \n",
    "    doc = nlp(raw)\n",
    "    \n",
    "    ents_in_text = []\n",
    "    \n",
    "    for ent in doc.ents:\n",
    "        ents_in_text.append((ent.text, ent.label_))\n",
    "    \n",
    "    return ents_in_line, ents_in_text"
   ]
  },
  {
   "cell_type": "code",
   "execution_count": 48,
   "id": "2bb8dce8",
   "metadata": {},
   "outputs": [],
   "source": [
    "test_1_ents_line, test_1_ents_text = process_tests(test_docs[0])\n",
    "test_2_ents_line, test_2_ents_text = process_tests(test_docs[1])\n",
    "test_3_ents_line, test_3_ents_text = process_tests(test_docs[2])"
   ]
  },
  {
   "cell_type": "code",
   "execution_count": 49,
   "id": "839cc332",
   "metadata": {},
   "outputs": [
    {
     "data": {
      "text/plain": [
       "[('DE33 7607 0024 0012 3456 78', 'Bank inkl. IBAN'),\n",
       " ('3.576,53', 'Auszahlungsbetrag')]"
      ]
     },
     "execution_count": 49,
     "metadata": {},
     "output_type": "execute_result"
    }
   ],
   "source": [
    "test_1_ents_line"
   ]
  },
  {
   "cell_type": "code",
   "execution_count": 50,
   "id": "a69dedf8",
   "metadata": {},
   "outputs": [
    {
     "data": {
      "text/plain": [
       "[('21.12.2017', 'Austellungsdatum'),\n",
       " ('01111', 'Personalausweis'),\n",
       " ('3', 'Steuerklasse'),\n",
       " ('Karla-Muster', 'Vorname'),\n",
       " ('Klar', 'Nachname'),\n",
       " ('1200', 'Lohnart'),\n",
       " ('Überstundenzuschlag, 25%', 'Bezeichnung'),\n",
       " ('2,80', 'Menge'),\n",
       " ('24,40', 'Faktor'),\n",
       " ('17,08', 'Betrag'),\n",
       " ('1300', 'Lohnart'),\n",
       " ('Überstd.grundverg.+ FLA (25%)', 'Bezeichnung'),\n",
       " ('2,80', 'Menge'),\n",
       " ('24,40', 'Faktor'),\n",
       " ('68,32', 'Betrag'),\n",
       " ('2000', 'Lohnart'),\n",
       " ('Gehalt', 'Bezeichnung'),\n",
       " ('4.230,00', 'Betrag'),\n",
       " ('3100', 'Lohnart'),\n",
       " ('AG-Anteil VWL,1fd', 'Bezeichnung'),\n",
       " ('40,00', 'Betrag'),\n",
       " ('4.355,40', 'Gesamt-Brutto'),\n",
       " ('4.35540', 'Sozialversicherung'),\n",
       " ('51800', 'Sozialversicherung'),\n",
       " ('2814', 'Sozialversicherung'),\n",
       " ('1935', 'Sozialversicherung'),\n",
       " ('565,49', 'Steuerrechtliche Abzüge'),\n",
       " ('3.319,53', 'Netto-Verdienst'),\n",
       " ('57.83558', 'Steuer-Brutto'),\n",
       " ('9840', 'Lohnart'),\n",
       " ('9852', 'Lohnart'),\n",
       " ('9858', 'Lohnart'),\n",
       " ('Deutsche Bank PGK  Nürnbe', 'Bank inkl. IBAN'),\n",
       " ('DE33 7607 0024 0012 3456 78', 'Bank inkl. IBAN'),\n",
       " ('3.576,53', 'Auszahlungsbetrag')]"
      ]
     },
     "execution_count": 50,
     "metadata": {},
     "output_type": "execute_result"
    }
   ],
   "source": [
    "test_1_ents_text"
   ]
  },
  {
   "cell_type": "code",
   "execution_count": 10,
   "id": "eb31b694",
   "metadata": {},
   "outputs": [],
   "source": [
    "with open('test_whole_text_1.txt', 'r') as f:\n",
    "    test_data = f.read()"
   ]
  },
  {
   "cell_type": "code",
   "execution_count": 12,
   "id": "4262263b",
   "metadata": {},
   "outputs": [
    {
     "name": "stdout",
     "output_type": "stream",
     "text": [
      "('21.12.2017', 'Austellungsdatum')\n",
      "('01111', 'Personalausweis')\n",
      "('3', 'Steuerklasse')\n",
      "('Karla-Muster', 'Vorname')\n",
      "('Klar', 'Nachname')\n",
      "('DE33 7607 0024 0012 3456 78', 'Bank inkl. IBAN')\n",
      "('3.576,53', 'Auszahlungsbetrag')\n",
      "('1200', 'Lohnart')\n",
      "('Überstundenzuschlag, 25%', 'Bezeichnung')\n",
      "('2,80', 'Menge')\n",
      "('24,40', 'Faktor')\n",
      "('17,08', 'Betrag')\n",
      "('1300', 'Lohnart')\n",
      "('Überstd.grundverg.+ FLA (25%)', 'Bezeichnung')\n",
      "('2,80', 'Menge')\n",
      "('24,40', 'Faktor')\n",
      "('68,32', 'Betrag')\n",
      "('2000', 'Lohnart')\n",
      "('Gehalt', 'Bezeichnung')\n",
      "('4.230,00', 'Betrag')\n",
      "('3100', 'Lohnart')\n",
      "('AG-Anteil VWL,1fd', 'Bezeichnung')\n",
      "('40,00', 'Betrag')\n",
      "('4.355,40', 'Gesamt-Brutto')\n",
      "('4.35540', 'Sozialversicherung')\n",
      "('51800', 'Sozialversicherung')\n",
      "('2814', 'Sozialversicherung')\n",
      "('1935', 'Sozialversicherung')\n",
      "('565,49', 'Steuerrechtliche Abzüge')\n",
      "('3.319,53', 'Netto-Verdienst')\n",
      "('57.83558', 'Steuer-Brutto')\n",
      "('9840', 'Lohnart')\n",
      "('9852', 'Lohnart')\n",
      "('9858', 'Lohnart')\n",
      "('Deutsche Bank PGK  Nürnbe', 'Bank inkl. IBAN')\n"
     ]
    }
   ],
   "source": [
    "doc = nlp(test_data)\n",
    "\n",
    "for ent in doc.ents:\n",
    "    print((ent.text, ent.label_))"
   ]
  },
  {
   "cell_type": "code",
   "execution_count": 13,
   "id": "55daeb86",
   "metadata": {},
   "outputs": [],
   "source": [
    "with open('test_whole_text_2.txt', 'r') as f:\n",
    "    test_data = f.read()"
   ]
  },
  {
   "cell_type": "code",
   "execution_count": 14,
   "id": "6b66fdd2",
   "metadata": {},
   "outputs": [
    {
     "name": "stdout",
     "output_type": "stream",
     "text": [
      "('21.12.2017', 'Austellungsdatum')\n",
      "('01111', 'Personalausweis')\n",
      "('3', 'Steuerklasse')\n",
      "('Karla-Muster', 'Vorname')\n",
      "('Klar', 'Nachname')\n",
      "('Deutsche Bank PGK  Nürnbe', 'Bank inkl. IBAN')\n",
      "('DE33 7607 0024 0012 3456 78', 'Bank inkl. IBAN')\n",
      "('3.576,53', 'Auszahlungsbetrag')\n",
      "('1200', 'Lohnart')\n",
      "('Überstundenzuschlag, 25%', 'Bezeichnung')\n",
      "('2,80', 'Menge')\n",
      "('24,40', 'Faktor')\n",
      "('17,08', 'Betrag')\n",
      "('1300', 'Lohnart')\n",
      "('Überstd.grundverg.+ FLA (25%)', 'Bezeichnung')\n",
      "('2,80', 'Menge')\n",
      "('24,40', 'Faktor')\n",
      "('68,32', 'Betrag')\n",
      "('2000', 'Lohnart')\n",
      "('Gehalt', 'Bezeichnung')\n",
      "('4.230,00', 'Betrag')\n",
      "('3100', 'Lohnart')\n",
      "('AG-Anteil VWL,1fd', 'Bezeichnung')\n",
      "('40,00', 'Betrag')\n",
      "('4.355,40', 'Gesamt-Brutto')\n",
      "('4.35540', 'Sozialversicherung')\n",
      "('51800', 'Sozialversicherung')\n",
      "('2814', 'Sozialversicherung')\n",
      "('1935', 'Sozialversicherung')\n",
      "('565,49', 'Steuerrechtliche Abzüge')\n",
      "('3.319,53', 'Netto-Verdienst')\n",
      "('57.83558', 'Steuer-Brutto')\n",
      "('9840', 'Lohnart')\n",
      "('9852', 'Lohnart')\n",
      "('9858', 'Lohnart')\n"
     ]
    }
   ],
   "source": [
    "doc = nlp(test_data)\n",
    "\n",
    "for ent in doc.ents:\n",
    "    print((ent.text, ent.label_))"
   ]
  },
  {
   "cell_type": "code",
   "execution_count": 17,
   "id": "eccf137c",
   "metadata": {},
   "outputs": [],
   "source": [
    "with open('test_float_change_1.txt', 'r') as f:\n",
    "    test_data = f.read()"
   ]
  },
  {
   "cell_type": "code",
   "execution_count": 18,
   "id": "ab00bfaf",
   "metadata": {},
   "outputs": [
    {
     "name": "stdout",
     "output_type": "stream",
     "text": [
      "('21.12.2017', 'Austellungsdatum')\n",
      "('01111', 'Personalausweis')\n",
      "('3', 'Steuerklasse')\n",
      "('Karla-Muster', 'Vorname')\n",
      "('Klar', 'Nachname')\n",
      "('1200', 'Lohnart')\n",
      "('Überstundenzuschlag, 25%', 'Bezeichnung')\n",
      "('2,80', 'Menge')\n",
      "('24,40', 'Faktor')\n",
      "('17,08', 'Betrag')\n",
      "('1300', 'Lohnart')\n",
      "('Überstd.grundverg.+ FLA (25%)', 'Bezeichnung')\n",
      "('2,80', 'Menge')\n",
      "('24,40', 'Faktor')\n",
      "('68,32', 'Betrag')\n",
      "('2000', 'Lohnart')\n",
      "('Gehalt', 'Bezeichnung')\n",
      "('4.230,00', 'Betrag')\n",
      "('3100', 'Lohnart')\n",
      "('AG-Anteil VWL,1fd', 'Bezeichnung')\n",
      "('40,00', 'Betrag')\n",
      "('4.355,40', 'Gesamt-Brutto')\n",
      "('4.35540', 'Sozialversicherung')\n",
      "('51800', 'Sozialversicherung')\n",
      "('2814', 'Sozialversicherung')\n",
      "('1935', 'Sozialversicherung')\n",
      "('565,49', 'Steuerrechtliche Abzüge')\n",
      "('3.319,53', 'Netto-Verdienst')\n",
      "('57.83558', 'Steuer-Brutto')\n",
      "('9840', 'Lohnart')\n",
      "('9852', 'Lohnart')\n",
      "('9858', 'Lohnart')\n",
      "('Deutsche Bank PGK  Nürnbe', 'Bank inkl. IBAN')\n",
      "('DE33 7607 0024 0012 3456 78', 'Bank inkl. IBAN')\n",
      "('4.576,53', 'Auszahlungsbetrag')\n"
     ]
    }
   ],
   "source": [
    "doc = nlp(test_data)\n",
    "\n",
    "for ent in doc.ents:\n",
    "    print((ent.text, ent.label_))"
   ]
  }
 ],
 "metadata": {
  "kernelspec": {
   "display_name": "Python 3 (ipykernel)",
   "language": "python",
   "name": "python3"
  },
  "language_info": {
   "codemirror_mode": {
    "name": "ipython",
    "version": 3
   },
   "file_extension": ".py",
   "mimetype": "text/x-python",
   "name": "python",
   "nbconvert_exporter": "python",
   "pygments_lexer": "ipython3",
   "version": "3.8.13"
  }
 },
 "nbformat": 4,
 "nbformat_minor": 5
}
