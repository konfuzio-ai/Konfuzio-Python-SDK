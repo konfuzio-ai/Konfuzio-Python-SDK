{
 "cells": [
  {
   "cell_type": "code",
   "execution_count": 41,
   "metadata": {
    "collapsed": true
   },
   "outputs": [],
   "source": [
    "from konfuzio_sdk.data import Document\n",
    "from konfuzio_sdk.regex import suggest_regex_for_string"
   ]
  },
  {
   "cell_type": "markdown",
   "metadata": {},
   "source": [
    "# Simple approach to validate user input\n",
    "\n",
    "## Validate E-Mails\n",
    "Assume you have a list of valid and invalid emails and want to create a logic to validate this email."
   ]
  },
  {
   "cell_type": "code",
   "execution_count": 42,
   "metadata": {
    "pycharm": {
     "name": "#%%\n"
    }
   },
   "outputs": [],
   "source": [
    "valid_emails = ['abc-d@mail.com', 'abc.def@mail.com', 'abc@mail.com', 'abc_def@mail.com', 'abc.def@mail.cc',\n",
    "                'abc.def@mail-archive.com', 'abc.def@mail.org', 'abc.def@mail.com']\n",
    "invalid_emails = ['abc-@mail.com', 'abc..def@mail.com', '.abc@mail.com', 'abc#def@mail.com', 'abc.def@mail.c',\n",
    "                  'abc.def@mail#archive.com', 'abc.def@mail', 'abc.def@mail..com', 'mailto:name@mail.com']\n",
    "# as seen on https://help.xmatters.com/ondemand/trial/valid_email_format.htm"
   ]
  },
  {
   "cell_type": "code",
   "execution_count": 43,
   "metadata": {
    "pycharm": {
     "name": "#%%\n"
    }
   },
   "outputs": [
    {
     "data": {
      "text/plain": [
       "'[a-zäöüß]+\\\\@[a-zäöüß]+\\\\.[a-zäöüß]'"
      ]
     },
     "execution_count": 43,
     "metadata": {},
     "output_type": "execute_result"
    }
   ],
   "source": [
    "email = \"hello@konfuzio.c\"\n",
    "suggest_regex_for_string(email, replace_characters=True)"
   ]
  },
  {
   "cell_type": "markdown",
   "metadata": {
    "pycharm": {
     "name": "#%% md\n"
    }
   },
   "source": [
    "This return type is not what we are looking for. So let's replace also the characters."
   ]
  },
  {
   "cell_type": "code",
   "execution_count": 44,
   "metadata": {
    "pycharm": {
     "name": "#%%\n"
    }
   },
   "outputs": [
    {
     "data": {
      "text/plain": [
       "['[a-zäöüß]+[-][a-zäöüß]\\\\@[a-zäöüß]+\\\\.[a-zäöüß]+',\n",
       " '[a-zäöüß]+\\\\.[a-zäöüß]+\\\\@[a-zäöüß]+\\\\.[a-zäöüß]+',\n",
       " '[a-zäöüß]+\\\\@[a-zäöüß]+\\\\.[a-zäöüß]+',\n",
       " '[a-zäöüß]+_[a-zäöüß]+\\\\@[a-zäöüß]+\\\\.[a-zäöüß]+',\n",
       " '[a-zäöüß]+\\\\.[a-zäöüß]+\\\\@[a-zäöüß]+\\\\.[a-zäöüß]+',\n",
       " '[a-zäöüß]+\\\\.[a-zäöüß]+\\\\@[a-zäöüß]+[-][a-zäöüß]+\\\\.[a-zäöüß]+',\n",
       " '[a-zäöüß]+\\\\.[a-zäöüß]+\\\\@[a-zäöüß]+\\\\.[a-zäöüß]+',\n",
       " '[a-zäöüß]+\\\\.[a-zäöüß]+\\\\@[a-zäöüß]+\\\\.[a-zäöüß]+']"
      ]
     },
     "execution_count": 44,
     "metadata": {},
     "output_type": "execute_result"
    }
   ],
   "source": [
    "valid = [suggest_regex_for_string(email, replace_characters=True) for email in valid_emails]\n",
    "valid"
   ]
  },
  {
   "cell_type": "code",
   "execution_count": 45,
   "metadata": {
    "pycharm": {
     "name": "#%%\n"
    }
   },
   "outputs": [
    {
     "data": {
      "text/plain": [
       "['[a-zäöüß]+[-]\\\\@[a-zäöüß]+\\\\.[a-zäöüß]+',\n",
       " '[a-zäöüß]+\\\\.\\\\.[a-zäöüß]+\\\\@[a-zäöüß]+\\\\.[a-zäöüß]+',\n",
       " '\\\\.[a-zäöüß]+\\\\@[a-zäöüß]+\\\\.[a-zäöüß]+',\n",
       " '[a-zäöüß]+\\\\#[a-zäöüß]+\\\\@[a-zäöüß]+\\\\.[a-zäöüß]+',\n",
       " '[a-zäöüß]+\\\\.[a-zäöüß]+\\\\@[a-zäöüß]+\\\\.[a-zäöüß]',\n",
       " '[a-zäöüß]+\\\\.[a-zäöüß]+\\\\@[a-zäöüß]+\\\\#[a-zäöüß]+\\\\.[a-zäöüß]+',\n",
       " '[a-zäöüß]+\\\\.[a-zäöüß]+\\\\@[a-zäöüß]+',\n",
       " '[a-zäöüß]+\\\\.[a-zäöüß]+\\\\@[a-zäöüß]+\\\\.\\\\.[a-zäöüß]+',\n",
       " '[a-zäöüß]+:[a-zäöüß]+\\\\@[a-zäöüß]+\\\\.[a-zäöüß]+']"
      ]
     },
     "execution_count": 45,
     "metadata": {},
     "output_type": "execute_result"
    }
   ],
   "source": [
    "invalid = [suggest_regex_for_string(email, replace_characters=True) for email in invalid_emails]\n",
    "invalid"
   ]
  },
  {
   "cell_type": "markdown",
   "metadata": {
    "pycharm": {
     "name": "#%% md\n"
    }
   },
   "source": [
    "To make sure the validation provides no contradiction we check the list intersection."
   ]
  },
  {
   "cell_type": "code",
   "execution_count": 46,
   "metadata": {
    "pycharm": {
     "name": "#%%\n"
    }
   },
   "outputs": [
    {
     "data": {
      "text/plain": [
       "set()"
      ]
     },
     "execution_count": 46,
     "metadata": {},
     "output_type": "execute_result"
    }
   ],
   "source": [
    "set(invalid) & set(valid)"
   ]
  },
  {
   "cell_type": "markdown",
   "metadata": {
    "pycharm": {
     "name": "#%% md\n"
    }
   },
   "source": [
    "## Combine Regex and read detect all potential matches"
   ]
  },
  {
   "cell_type": "code",
   "execution_count": 47,
   "metadata": {
    "pycharm": {
     "name": "#%%\n"
    }
   },
   "outputs": [
    {
     "data": {
      "text/plain": [
       "[{'regex_used': \"'(?:[a-zäöüß]+\\\\\\\\.[a-zäöüß]+\\\\\\\\@[a-zäöüß]+[-][a-zäöüß]+\\\\\\\\.[a-zäöüß]+|[a-zäöüß]+[-][a-zäöüß]\\\\\\\\@[a-zäöüß]+\\\\\\\\.[a-zäöüß]+|[a-zäöüß]+\\\\\\\\.[a-zäöüß]+\\\\\\\\@[a-zäöüß]+\\\\\\\\.[a-zäöüß]+|[a-zäöüß]+\\\\\\\\.[a-zäöüß]+\\\\\\\\@[a-zäöüß]+\\\\\\\\.[a-zäöüß]+|[a-zäöüß]+\\\\\\\\.[a-zäöüß]+\\\\\\\\@[a-zäöüß]+\\\\\\\\.[a-zäöüß]+|[a-zäöüß]+\\\\\\\\.[a-zäöüß]+\\\\\\\\@[a-zäöüß]+\\\\\\\\.[a-zäöüß]+|[a-zäöüß]+_[a-zäöüß]+\\\\\\\\@[a-zäöüß]+\\\\\\\\.[a-zäöüß]+|[a-zäöüß]+\\\\\\\\@[a-zäöüß]+\\\\\\\\.[a-zäöüß]+)'\",\n",
       "  'regex_group': '0',\n",
       "  'value': 'info@konfuzio.com',\n",
       "  'start_offset': 29,\n",
       "  'end_offset': 46,\n",
       "  'start_text': 0},\n",
       " {'regex_used': \"'(?:[a-zäöüß]+\\\\\\\\.[a-zäöüß]+\\\\\\\\@[a-zäöüß]+[-][a-zäöüß]+\\\\\\\\.[a-zäöüß]+|[a-zäöüß]+[-][a-zäöüß]\\\\\\\\@[a-zäöüß]+\\\\\\\\.[a-zäöüß]+|[a-zäöüß]+\\\\\\\\.[a-zäöüß]+\\\\\\\\@[a-zäöüß]+\\\\\\\\.[a-zäöüß]+|[a-zäöüß]+\\\\\\\\.[a-zäöüß]+\\\\\\\\@[a-zäöüß]+\\\\\\\\.[a-zäöüß]+|[a-zäöüß]+\\\\\\\\.[a-zäöüß]+\\\\\\\\@[a-zäöüß]+\\\\\\\\.[a-zäöüß]+|[a-zäöüß]+\\\\\\\\.[a-zäöüß]+\\\\\\\\@[a-zäöüß]+\\\\\\\\.[a-zäöüß]+|[a-zäöüß]+_[a-zäöüß]+\\\\\\\\@[a-zäöüß]+\\\\\\\\.[a-zäöüß]+|[a-zäöüß]+\\\\\\\\@[a-zäöüß]+\\\\\\\\.[a-zäöüß]+)'\",\n",
       "  'regex_group': '0',\n",
       "  'value': 'nfo@konfuzio.com',\n",
       "  'start_offset': 30,\n",
       "  'end_offset': 46,\n",
       "  'start_text': 0},\n",
       " {'regex_used': \"'(?:[a-zäöüß]+\\\\\\\\.[a-zäöüß]+\\\\\\\\@[a-zäöüß]+[-][a-zäöüß]+\\\\\\\\.[a-zäöüß]+|[a-zäöüß]+[-][a-zäöüß]\\\\\\\\@[a-zäöüß]+\\\\\\\\.[a-zäöüß]+|[a-zäöüß]+\\\\\\\\.[a-zäöüß]+\\\\\\\\@[a-zäöüß]+\\\\\\\\.[a-zäöüß]+|[a-zäöüß]+\\\\\\\\.[a-zäöüß]+\\\\\\\\@[a-zäöüß]+\\\\\\\\.[a-zäöüß]+|[a-zäöüß]+\\\\\\\\.[a-zäöüß]+\\\\\\\\@[a-zäöüß]+\\\\\\\\.[a-zäöüß]+|[a-zäöüß]+\\\\\\\\.[a-zäöüß]+\\\\\\\\@[a-zäöüß]+\\\\\\\\.[a-zäöüß]+|[a-zäöüß]+_[a-zäöüß]+\\\\\\\\@[a-zäöüß]+\\\\\\\\.[a-zäöüß]+|[a-zäöüß]+\\\\\\\\@[a-zäöüß]+\\\\\\\\.[a-zäöüß]+)'\",\n",
       "  'regex_group': '0',\n",
       "  'value': 'fo@konfuzio.com',\n",
       "  'start_offset': 31,\n",
       "  'end_offset': 46,\n",
       "  'start_text': 0},\n",
       " {'regex_used': \"'(?:[a-zäöüß]+\\\\\\\\.[a-zäöüß]+\\\\\\\\@[a-zäöüß]+[-][a-zäöüß]+\\\\\\\\.[a-zäöüß]+|[a-zäöüß]+[-][a-zäöüß]\\\\\\\\@[a-zäöüß]+\\\\\\\\.[a-zäöüß]+|[a-zäöüß]+\\\\\\\\.[a-zäöüß]+\\\\\\\\@[a-zäöüß]+\\\\\\\\.[a-zäöüß]+|[a-zäöüß]+\\\\\\\\.[a-zäöüß]+\\\\\\\\@[a-zäöüß]+\\\\\\\\.[a-zäöüß]+|[a-zäöüß]+\\\\\\\\.[a-zäöüß]+\\\\\\\\@[a-zäöüß]+\\\\\\\\.[a-zäöüß]+|[a-zäöüß]+\\\\\\\\.[a-zäöüß]+\\\\\\\\@[a-zäöüß]+\\\\\\\\.[a-zäöüß]+|[a-zäöüß]+_[a-zäöüß]+\\\\\\\\@[a-zäöüß]+\\\\\\\\.[a-zäöüß]+|[a-zäöüß]+\\\\\\\\@[a-zäöüß]+\\\\\\\\.[a-zäöüß]+)'\",\n",
       "  'regex_group': '0',\n",
       "  'value': 'o@konfuzio.com',\n",
       "  'start_offset': 32,\n",
       "  'end_offset': 46,\n",
       "  'start_text': 0}]"
      ]
     },
     "execution_count": 47,
     "metadata": {},
     "output_type": "execute_result"
    }
   ],
   "source": [
    "from konfuzio_sdk.regex import merge_regex, regex_matches\n",
    "## Combine Regex\n",
    "combined = merge_regex(valid)\n",
    "## Evaluate Regex\n",
    "regex_matches(\"Please contact us via mailto:info@konfuzio.com.\", combined, overlapped=True)"
   ]
  },
  {
   "cell_type": "code",
   "execution_count": 48,
   "metadata": {
    "pycharm": {
     "name": "#%%\n"
    }
   },
   "outputs": [
    {
     "data": {
      "text/plain": [
       "[{'regex_used': \"'(?:[a-zäöüß]+\\\\\\\\.[a-zäöüß]+\\\\\\\\@[a-zäöüß]+\\\\\\\\#[a-zäöüß]+\\\\\\\\.[a-zäöüß]+|[a-zäöüß]+\\\\\\\\.\\\\\\\\.[a-zäöüß]+\\\\\\\\@[a-zäöüß]+\\\\\\\\.[a-zäöüß]+|[a-zäöüß]+\\\\\\\\.[a-zäöüß]+\\\\\\\\@[a-zäöüß]+\\\\\\\\.\\\\\\\\.[a-zäöüß]+|[a-zäöüß]+\\\\\\\\#[a-zäöüß]+\\\\\\\\@[a-zäöüß]+\\\\\\\\.[a-zäöüß]+|[a-zäöüß]+\\\\\\\\.[a-zäöüß]+\\\\\\\\@[a-zäöüß]+\\\\\\\\.[a-zäöüß]|[a-zäöüß]+:[a-zäöüß]+\\\\\\\\@[a-zäöüß]+\\\\\\\\.[a-zäöüß]+|[a-zäöüß]+[-]\\\\\\\\@[a-zäöüß]+\\\\\\\\.[a-zäöüß]+|\\\\\\\\.[a-zäöüß]+\\\\\\\\@[a-zäöüß]+\\\\\\\\.[a-zäöüß]+|[a-zäöüß]+\\\\\\\\.[a-zäöüß]+\\\\\\\\@[a-zäöüß]+)'\",\n",
       "  'regex_group': '0',\n",
       "  'value': 'mailto:info@konfuzio.com',\n",
       "  'start_offset': 22,\n",
       "  'end_offset': 46,\n",
       "  'start_text': 0},\n",
       " {'regex_used': \"'(?:[a-zäöüß]+\\\\\\\\.[a-zäöüß]+\\\\\\\\@[a-zäöüß]+\\\\\\\\#[a-zäöüß]+\\\\\\\\.[a-zäöüß]+|[a-zäöüß]+\\\\\\\\.\\\\\\\\.[a-zäöüß]+\\\\\\\\@[a-zäöüß]+\\\\\\\\.[a-zäöüß]+|[a-zäöüß]+\\\\\\\\.[a-zäöüß]+\\\\\\\\@[a-zäöüß]+\\\\\\\\.\\\\\\\\.[a-zäöüß]+|[a-zäöüß]+\\\\\\\\#[a-zäöüß]+\\\\\\\\@[a-zäöüß]+\\\\\\\\.[a-zäöüß]+|[a-zäöüß]+\\\\\\\\.[a-zäöüß]+\\\\\\\\@[a-zäöüß]+\\\\\\\\.[a-zäöüß]|[a-zäöüß]+:[a-zäöüß]+\\\\\\\\@[a-zäöüß]+\\\\\\\\.[a-zäöüß]+|[a-zäöüß]+[-]\\\\\\\\@[a-zäöüß]+\\\\\\\\.[a-zäöüß]+|\\\\\\\\.[a-zäöüß]+\\\\\\\\@[a-zäöüß]+\\\\\\\\.[a-zäöüß]+|[a-zäöüß]+\\\\\\\\.[a-zäöüß]+\\\\\\\\@[a-zäöüß]+)'\",\n",
       "  'regex_group': '0',\n",
       "  'value': 'ailto:info@konfuzio.com',\n",
       "  'start_offset': 23,\n",
       "  'end_offset': 46,\n",
       "  'start_text': 0},\n",
       " {'regex_used': \"'(?:[a-zäöüß]+\\\\\\\\.[a-zäöüß]+\\\\\\\\@[a-zäöüß]+\\\\\\\\#[a-zäöüß]+\\\\\\\\.[a-zäöüß]+|[a-zäöüß]+\\\\\\\\.\\\\\\\\.[a-zäöüß]+\\\\\\\\@[a-zäöüß]+\\\\\\\\.[a-zäöüß]+|[a-zäöüß]+\\\\\\\\.[a-zäöüß]+\\\\\\\\@[a-zäöüß]+\\\\\\\\.\\\\\\\\.[a-zäöüß]+|[a-zäöüß]+\\\\\\\\#[a-zäöüß]+\\\\\\\\@[a-zäöüß]+\\\\\\\\.[a-zäöüß]+|[a-zäöüß]+\\\\\\\\.[a-zäöüß]+\\\\\\\\@[a-zäöüß]+\\\\\\\\.[a-zäöüß]|[a-zäöüß]+:[a-zäöüß]+\\\\\\\\@[a-zäöüß]+\\\\\\\\.[a-zäöüß]+|[a-zäöüß]+[-]\\\\\\\\@[a-zäöüß]+\\\\\\\\.[a-zäöüß]+|\\\\\\\\.[a-zäöüß]+\\\\\\\\@[a-zäöüß]+\\\\\\\\.[a-zäöüß]+|[a-zäöüß]+\\\\\\\\.[a-zäöüß]+\\\\\\\\@[a-zäöüß]+)'\",\n",
       "  'regex_group': '0',\n",
       "  'value': 'ilto:info@konfuzio.com',\n",
       "  'start_offset': 24,\n",
       "  'end_offset': 46,\n",
       "  'start_text': 0},\n",
       " {'regex_used': \"'(?:[a-zäöüß]+\\\\\\\\.[a-zäöüß]+\\\\\\\\@[a-zäöüß]+\\\\\\\\#[a-zäöüß]+\\\\\\\\.[a-zäöüß]+|[a-zäöüß]+\\\\\\\\.\\\\\\\\.[a-zäöüß]+\\\\\\\\@[a-zäöüß]+\\\\\\\\.[a-zäöüß]+|[a-zäöüß]+\\\\\\\\.[a-zäöüß]+\\\\\\\\@[a-zäöüß]+\\\\\\\\.\\\\\\\\.[a-zäöüß]+|[a-zäöüß]+\\\\\\\\#[a-zäöüß]+\\\\\\\\@[a-zäöüß]+\\\\\\\\.[a-zäöüß]+|[a-zäöüß]+\\\\\\\\.[a-zäöüß]+\\\\\\\\@[a-zäöüß]+\\\\\\\\.[a-zäöüß]|[a-zäöüß]+:[a-zäöüß]+\\\\\\\\@[a-zäöüß]+\\\\\\\\.[a-zäöüß]+|[a-zäöüß]+[-]\\\\\\\\@[a-zäöüß]+\\\\\\\\.[a-zäöüß]+|\\\\\\\\.[a-zäöüß]+\\\\\\\\@[a-zäöüß]+\\\\\\\\.[a-zäöüß]+|[a-zäöüß]+\\\\\\\\.[a-zäöüß]+\\\\\\\\@[a-zäöüß]+)'\",\n",
       "  'regex_group': '0',\n",
       "  'value': 'lto:info@konfuzio.com',\n",
       "  'start_offset': 25,\n",
       "  'end_offset': 46,\n",
       "  'start_text': 0},\n",
       " {'regex_used': \"'(?:[a-zäöüß]+\\\\\\\\.[a-zäöüß]+\\\\\\\\@[a-zäöüß]+\\\\\\\\#[a-zäöüß]+\\\\\\\\.[a-zäöüß]+|[a-zäöüß]+\\\\\\\\.\\\\\\\\.[a-zäöüß]+\\\\\\\\@[a-zäöüß]+\\\\\\\\.[a-zäöüß]+|[a-zäöüß]+\\\\\\\\.[a-zäöüß]+\\\\\\\\@[a-zäöüß]+\\\\\\\\.\\\\\\\\.[a-zäöüß]+|[a-zäöüß]+\\\\\\\\#[a-zäöüß]+\\\\\\\\@[a-zäöüß]+\\\\\\\\.[a-zäöüß]+|[a-zäöüß]+\\\\\\\\.[a-zäöüß]+\\\\\\\\@[a-zäöüß]+\\\\\\\\.[a-zäöüß]|[a-zäöüß]+:[a-zäöüß]+\\\\\\\\@[a-zäöüß]+\\\\\\\\.[a-zäöüß]+|[a-zäöüß]+[-]\\\\\\\\@[a-zäöüß]+\\\\\\\\.[a-zäöüß]+|\\\\\\\\.[a-zäöüß]+\\\\\\\\@[a-zäöüß]+\\\\\\\\.[a-zäöüß]+|[a-zäöüß]+\\\\\\\\.[a-zäöüß]+\\\\\\\\@[a-zäöüß]+)'\",\n",
       "  'regex_group': '0',\n",
       "  'value': 'to:info@konfuzio.com',\n",
       "  'start_offset': 26,\n",
       "  'end_offset': 46,\n",
       "  'start_text': 0},\n",
       " {'regex_used': \"'(?:[a-zäöüß]+\\\\\\\\.[a-zäöüß]+\\\\\\\\@[a-zäöüß]+\\\\\\\\#[a-zäöüß]+\\\\\\\\.[a-zäöüß]+|[a-zäöüß]+\\\\\\\\.\\\\\\\\.[a-zäöüß]+\\\\\\\\@[a-zäöüß]+\\\\\\\\.[a-zäöüß]+|[a-zäöüß]+\\\\\\\\.[a-zäöüß]+\\\\\\\\@[a-zäöüß]+\\\\\\\\.\\\\\\\\.[a-zäöüß]+|[a-zäöüß]+\\\\\\\\#[a-zäöüß]+\\\\\\\\@[a-zäöüß]+\\\\\\\\.[a-zäöüß]+|[a-zäöüß]+\\\\\\\\.[a-zäöüß]+\\\\\\\\@[a-zäöüß]+\\\\\\\\.[a-zäöüß]|[a-zäöüß]+:[a-zäöüß]+\\\\\\\\@[a-zäöüß]+\\\\\\\\.[a-zäöüß]+|[a-zäöüß]+[-]\\\\\\\\@[a-zäöüß]+\\\\\\\\.[a-zäöüß]+|\\\\\\\\.[a-zäöüß]+\\\\\\\\@[a-zäöüß]+\\\\\\\\.[a-zäöüß]+|[a-zäöüß]+\\\\\\\\.[a-zäöüß]+\\\\\\\\@[a-zäöüß]+)'\",\n",
       "  'regex_group': '0',\n",
       "  'value': 'o:info@konfuzio.com',\n",
       "  'start_offset': 27,\n",
       "  'end_offset': 46,\n",
       "  'start_text': 0}]"
      ]
     },
     "execution_count": 48,
     "metadata": {},
     "output_type": "execute_result"
    }
   ],
   "source": [
    "from konfuzio_sdk.regex import merge_regex, regex_matches\n",
    "## Combine Regex\n",
    "combined = merge_regex(invalid)\n",
    "## Evaluate Regex\n",
    "regex_matches(\"Please contact us via mailto:info@konfuzio.com.\", combined, overlapped=True)\n",
    "\n",
    "\n"
   ]
  }
 ],
 "metadata": {
  "kernelspec": {
   "display_name": "Python 3",
   "language": "python",
   "name": "python3"
  },
  "language_info": {
   "codemirror_mode": {
    "name": "ipython",
    "version": 3
   },
   "file_extension": ".py",
   "mimetype": "text/x-python",
   "name": "python",
   "nbconvert_exporter": "python",
   "pygments_lexer": "ipython3",
   "version": "3.8.10"
  }
 },
 "nbformat": 4,
 "nbformat_minor": 1
}
