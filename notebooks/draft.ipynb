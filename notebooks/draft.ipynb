{
 "cells": [
  {
   "cell_type": "code",
   "execution_count": 1,
   "id": "18079c05",
   "metadata": {},
   "outputs": [],
   "source": [
    "from konfuzio_sdk.data import Project, Annotation, Span, Data, Document, Page\n",
    "import os\n",
    "from konfuzio_sdk.api import delete_document_annotation\n",
    "import json\n",
    "from typing import Dict, Union, Optional, List\n",
    "from keras.models import load_model\n",
    "from tqdm import tqdm\n",
    "from keras.preprocessing.text import Tokenizer\n",
    "from konfuzio_sdk.trainer import file_splitting"
   ]
  },
  {
   "cell_type": "code",
   "execution_count": 4,
   "id": "9db51e45",
   "metadata": {},
   "outputs": [
    {
     "name": "stderr",
     "output_type": "stream",
     "text": [
      "2022-10-18 18:07:12.755800: I tensorflow/core/platform/cpu_feature_guard.cc:193] This TensorFlow binary is optimized with oneAPI Deep Neural Network Library (oneDNN) to use the following CPU instructions in performance-critical operations:  AVX2 FMA\n",
      "To enable them in other operations, rebuild TensorFlow with the appropriate compiler flags.\n"
     ]
    }
   ],
   "source": [
    "file_splitter = file_splitting.PageSplitting('testing_class/testing_class.pickle')"
   ]
  },
  {
   "cell_type": "code",
   "execution_count": 4,
   "id": "68267814",
   "metadata": {},
   "outputs": [],
   "source": [
    "file_splitter = file_splitting.FusionPageSplittingModel(project_id=46)"
   ]
  },
  {
   "cell_type": "code",
   "execution_count": 5,
   "id": "98e6c4f3",
   "metadata": {},
   "outputs": [
    {
     "name": "stdout",
     "output_type": "stream",
     "text": [
      "Found 13 images belonging to 2 classes.\n"
     ]
    }
   ],
   "source": [
    "train_data_generator = file_splitter._preprocess_data_vgg16(file_splitter.train_docs)"
   ]
  },
  {
   "cell_type": "code",
   "execution_count": 6,
   "id": "986977ff",
   "metadata": {},
   "outputs": [],
   "source": [
    "vgg16 = file_splitter._init_vgg16()"
   ]
  },
  {
   "cell_type": "code",
   "execution_count": 7,
   "id": "7336a16d",
   "metadata": {},
   "outputs": [
    {
     "name": "stderr",
     "output_type": "stream",
     "text": [
      "2022-10-18 18:13:52,773 [tensorflow          ] [MainThread] [WARNING ] [__init__            ][1322] `period` argument is deprecated. Please use `save_freq` to specify the frequency in number of batches seen.\n",
      "/Users/macbookpro/konfuzio-sdk/konfuzio_sdk/trainer/file_splitting.py:117: UserWarning: `Model.fit_generator` is deprecated and will be removed in a future version. Please use `Model.fit`, which supports generators.\n",
      "  model.fit_generator(steps_per_epoch=100, generator=train_data_generator,\n"
     ]
    },
    {
     "name": "stdout",
     "output_type": "stream",
     "text": [
      "Epoch 1/100\n",
      "  1/100 [..............................] - ETA: 32:28 - loss: 0.6328 - accuracy: 1.0000"
     ]
    },
    {
     "name": "stderr",
     "output_type": "stream",
     "text": [
      "2022-10-18 18:14:13,820 [tensorflow          ] [MainThread] [WARNING ] [catch_stop_iteration][1232] Your input ran out of data; interrupting training. Make sure that your dataset or generator can generate at least `steps_per_epoch * epochs` batches (in this case, 10000 batches). You may need to use the repeat() function when building your dataset.\n",
      "2022-10-18 18:14:13,822 [tensorflow          ] [MainThread] [WARNING ] [_save_model         ][1430] Can save best model only with val_accuracy available, skipping.\n",
      "2022-10-18 18:14:13,823 [tensorflow          ] [MainThread] [WARNING ] [get_monitor_value   ][1887] Early stopping conditioned on metric `val_accuracy` which is not available. Available metrics are: loss,accuracy\n"
     ]
    },
    {
     "name": "stdout",
     "output_type": "stream",
     "text": [
      "\b\b\b\b\b\b\b\b\b\b\b\b\b\b\b\b\b\b\b\b\b\b\b\b\b\b\b\b\b\b\b\b\b\b\b\b\b\b\b\b\b\b\b\b\b\b\b\b\b\b\b\b\b\b\b\b\b\b\b\b\b\b\b\b\b\b\b\b\b\b\b\b\b\b\b\b\b\b\b\b\b\b\b\b\b\b\b\r",
      "100/100 [==============================] - 21s 11ms/step - loss: 0.6328 - accuracy: 1.0000\n"
     ]
    }
   ],
   "source": [
    "vgg16 = file_splitter._train_vgg16(vgg16, train_data_generator)"
   ]
  },
  {
   "cell_type": "code",
   "execution_count": 8,
   "id": "78c8287c",
   "metadata": {},
   "outputs": [
    {
     "name": "stderr",
     "output_type": "stream",
     "text": [
      "Some weights of the model checkpoint at nlpaueb/legal-bert-base-uncased were not used when initializing BertForSequenceClassification: ['cls.seq_relationship.bias', 'cls.predictions.transform.dense.weight', 'cls.predictions.decoder.bias', 'cls.predictions.bias', 'cls.predictions.transform.dense.bias', 'cls.predictions.transform.LayerNorm.bias', 'cls.seq_relationship.weight', 'cls.predictions.decoder.weight', 'cls.predictions.transform.LayerNorm.weight']\n",
      "- This IS expected if you are initializing BertForSequenceClassification from the checkpoint of a model trained on another task or with another architecture (e.g. initializing a BertForSequenceClassification model from a BertForPreTraining model).\n",
      "- This IS NOT expected if you are initializing BertForSequenceClassification from the checkpoint of a model that you expect to be exactly identical (initializing a BertForSequenceClassification model from a BertForSequenceClassification model).\n",
      "Some weights of BertForSequenceClassification were not initialized from the model checkpoint at nlpaueb/legal-bert-base-uncased and are newly initialized: ['classifier.bias', 'classifier.weight']\n",
      "You should probably TRAIN this model on a down-stream task to be able to use it for predictions and inference.\n"
     ]
    }
   ],
   "source": [
    "bert_model, bert_tokenizer = file_splitter._init_legalbert()"
   ]
  },
  {
   "cell_type": "code",
   "execution_count": 10,
   "id": "5d235875",
   "metadata": {},
   "outputs": [
    {
     "name": "stderr",
     "output_type": "stream",
     "text": [
      "2022-10-18 23:23:39,433 [tensorflow          ] [MainThread] [WARNING ] [_conform_to_referenc][0672] Model was constructed with shape (None, 224, 224, 3) for input KerasTensor(type_spec=TensorSpec(shape=(None, 224, 224, 3), dtype=tf.float32, name='conv2d_input'), name='conv2d_input', description=\"created by layer 'conv2d_input'\"), but it was called on an input with incompatible shape (None, 224, 224).\n"
     ]
    },
    {
     "ename": "ValueError",
     "evalue": "in user code:\n\n    File \"/opt/anaconda3/envs/konfuzio/lib/python3.8/site-packages/keras/engine/training.py\", line 1845, in predict_function  *\n        return step_function(self, iterator)\n    File \"/opt/anaconda3/envs/konfuzio/lib/python3.8/site-packages/keras/engine/training.py\", line 1834, in step_function  **\n        outputs = model.distribute_strategy.run(run_step, args=(data,))\n    File \"/opt/anaconda3/envs/konfuzio/lib/python3.8/site-packages/keras/engine/training.py\", line 1823, in run_step  **\n        outputs = model.predict_step(data)\n    File \"/opt/anaconda3/envs/konfuzio/lib/python3.8/site-packages/keras/engine/training.py\", line 1791, in predict_step\n        return self(x, training=False)\n    File \"/opt/anaconda3/envs/konfuzio/lib/python3.8/site-packages/keras/utils/traceback_utils.py\", line 67, in error_handler\n        raise e.with_traceback(filtered_tb) from None\n    File \"/opt/anaconda3/envs/konfuzio/lib/python3.8/site-packages/keras/engine/input_spec.py\", line 228, in assert_input_compatibility\n        raise ValueError(f'Input {input_index} of layer \"{layer_name}\" '\n\n    ValueError: Exception encountered when calling layer \"sequential\" (type Sequential).\n    \n    Input 0 of layer \"conv2d\" is incompatible with the layer: expected min_ndim=4, found ndim=3. Full shape received: (None, 224, 224)\n    \n    Call arguments received by layer \"sequential\" (type Sequential):\n      • inputs=tf.Tensor(shape=(None, 224, 224), dtype=uint8)\n      • training=False\n      • mask=None\n",
     "output_type": "error",
     "traceback": [
      "\u001b[0;31m---------------------------------------------------------------------------\u001b[0m",
      "\u001b[0;31mValueError\u001b[0m                                Traceback (most recent call last)",
      "Input \u001b[0;32mIn [10]\u001b[0m, in \u001b[0;36m<cell line: 1>\u001b[0;34m()\u001b[0m\n\u001b[0;32m----> 1\u001b[0m Xtrain, Xtest, ytrain, ytest, input_shape \u001b[38;5;241m=\u001b[39m \u001b[43mfile_splitter\u001b[49m\u001b[38;5;241;43m.\u001b[39;49m\u001b[43m_preprocess_data_fusion_model\u001b[49m\u001b[43m(\u001b[49m\u001b[43mfile_splitter\u001b[49m\u001b[38;5;241;43m.\u001b[39;49m\u001b[43mtrain_docs\u001b[49m\u001b[43m,\u001b[49m\u001b[43m \u001b[49m\u001b[43mfile_splitter\u001b[49m\u001b[38;5;241;43m.\u001b[39;49m\u001b[43mtest_docs\u001b[49m\u001b[43m,\u001b[49m\n\u001b[1;32m      2\u001b[0m \u001b[43m                                                                                       \u001b[49m\u001b[43mvgg16\u001b[49m\u001b[43m,\u001b[49m\u001b[43m \u001b[49m\u001b[43mbert_model\u001b[49m\u001b[43m,\u001b[49m\u001b[43m \u001b[49m\u001b[43mbert_tokenizer\u001b[49m\u001b[43m)\u001b[49m\n",
      "File \u001b[0;32m~/konfuzio-sdk/konfuzio_sdk/trainer/file_splitting.py:168\u001b[0m, in \u001b[0;36mFusionPageSplittingModel._preprocess_data_fusion_model\u001b[0;34m(self, train_data, test_data, vgg16, bert_model, bert_tokenizer)\u001b[0m\n\u001b[1;32m    166\u001b[0m train_pages_2, train_texts_2, train_labels_2 \u001b[38;5;241m=\u001b[39m \u001b[38;5;28mself\u001b[39m\u001b[38;5;241m.\u001b[39m_process_image_and_text(train_data[\u001b[38;5;28mself\u001b[39m\u001b[38;5;241m.\u001b[39msplit_point:], \u001b[38;5;124m'\u001b[39m\u001b[38;5;124mvgg_train_2\u001b[39m\u001b[38;5;124m'\u001b[39m)\n\u001b[1;32m    167\u001b[0m test_pages, test_texts, test_labels \u001b[38;5;241m=\u001b[39m \u001b[38;5;28mself\u001b[39m\u001b[38;5;241m.\u001b[39m_process_image_and_text(test_data, \u001b[38;5;124m'\u001b[39m\u001b[38;5;124mvgg_test_1\u001b[39m\u001b[38;5;124m'\u001b[39m)\n\u001b[0;32m--> 168\u001b[0m vgg_train_logits \u001b[38;5;241m=\u001b[39m \u001b[38;5;28;43mself\u001b[39;49m\u001b[38;5;241;43m.\u001b[39;49m\u001b[43m_get_logits_vgg16\u001b[49m\u001b[43m(\u001b[49m\u001b[43mtrain_pages_2\u001b[49m\u001b[43m,\u001b[49m\u001b[43m \u001b[49m\u001b[43mtrain_labels_2\u001b[49m\u001b[43m,\u001b[49m\u001b[43m \u001b[49m\u001b[43mvgg16\u001b[49m\u001b[43m)\u001b[49m\n\u001b[1;32m    169\u001b[0m vgg_test_logits \u001b[38;5;241m=\u001b[39m \u001b[38;5;28mself\u001b[39m\u001b[38;5;241m.\u001b[39m_get_logits_vgg16(test_pages, test_labels, vgg16)\n\u001b[1;32m    170\u001b[0m bert_train_logits \u001b[38;5;241m=\u001b[39m \u001b[38;5;28mself\u001b[39m\u001b[38;5;241m.\u001b[39m_get_logits_bert(train_texts_2, train_labels_2, bert_model, bert_tokenizer)\n",
      "File \u001b[0;32m~/konfuzio-sdk/konfuzio_sdk/trainer/file_splitting.py:138\u001b[0m, in \u001b[0;36mFusionPageSplittingModel._get_logits_vgg16\u001b[0;34m(self, pages, labels, model)\u001b[0m\n\u001b[1;32m    136\u001b[0m     cur_image \u001b[38;5;241m=\u001b[39m np\u001b[38;5;241m.\u001b[39masarray(cur_image)\n\u001b[1;32m    137\u001b[0m     cur_image \u001b[38;5;241m=\u001b[39m np\u001b[38;5;241m.\u001b[39mexpand_dims(cur_image, axis\u001b[38;5;241m=\u001b[39m\u001b[38;5;241m0\u001b[39m)\n\u001b[0;32m--> 138\u001b[0m     output \u001b[38;5;241m=\u001b[39m \u001b[43mmodel\u001b[49m\u001b[38;5;241;43m.\u001b[39;49m\u001b[43mpredict\u001b[49m\u001b[43m(\u001b[49m\u001b[43mcur_image\u001b[49m\u001b[43m)\u001b[49m\n\u001b[1;32m    139\u001b[0m     logits\u001b[38;5;241m.\u001b[39mappend(output)\n\u001b[1;32m    140\u001b[0m \u001b[38;5;28;01mreturn\u001b[39;00m logits\n",
      "File \u001b[0;32m/opt/anaconda3/envs/konfuzio/lib/python3.8/site-packages/keras/utils/traceback_utils.py:67\u001b[0m, in \u001b[0;36mfilter_traceback.<locals>.error_handler\u001b[0;34m(*args, **kwargs)\u001b[0m\n\u001b[1;32m     65\u001b[0m \u001b[38;5;28;01mexcept\u001b[39;00m \u001b[38;5;167;01mException\u001b[39;00m \u001b[38;5;28;01mas\u001b[39;00m e:  \u001b[38;5;66;03m# pylint: disable=broad-except\u001b[39;00m\n\u001b[1;32m     66\u001b[0m   filtered_tb \u001b[38;5;241m=\u001b[39m _process_traceback_frames(e\u001b[38;5;241m.\u001b[39m__traceback__)\n\u001b[0;32m---> 67\u001b[0m   \u001b[38;5;28;01mraise\u001b[39;00m e\u001b[38;5;241m.\u001b[39mwith_traceback(filtered_tb) \u001b[38;5;28;01mfrom\u001b[39;00m \u001b[38;5;28mNone\u001b[39m\n\u001b[1;32m     68\u001b[0m \u001b[38;5;28;01mfinally\u001b[39;00m:\n\u001b[1;32m     69\u001b[0m   \u001b[38;5;28;01mdel\u001b[39;00m filtered_tb\n",
      "File \u001b[0;32m/var/folders/sk/8kx56fn95dv0dm61kjzhwpnc0000gn/T/__autograph_generated_file5td_j3k1.py:15\u001b[0m, in \u001b[0;36mouter_factory.<locals>.inner_factory.<locals>.tf__predict_function\u001b[0;34m(iterator)\u001b[0m\n\u001b[1;32m     13\u001b[0m \u001b[38;5;28;01mtry\u001b[39;00m:\n\u001b[1;32m     14\u001b[0m     do_return \u001b[38;5;241m=\u001b[39m \u001b[38;5;28;01mTrue\u001b[39;00m\n\u001b[0;32m---> 15\u001b[0m     retval_ \u001b[38;5;241m=\u001b[39m ag__\u001b[38;5;241m.\u001b[39mconverted_call(ag__\u001b[38;5;241m.\u001b[39mld(step_function), (ag__\u001b[38;5;241m.\u001b[39mld(\u001b[38;5;28mself\u001b[39m), ag__\u001b[38;5;241m.\u001b[39mld(iterator)), \u001b[38;5;28;01mNone\u001b[39;00m, fscope)\n\u001b[1;32m     16\u001b[0m \u001b[38;5;28;01mexcept\u001b[39;00m:\n\u001b[1;32m     17\u001b[0m     do_return \u001b[38;5;241m=\u001b[39m \u001b[38;5;28;01mFalse\u001b[39;00m\n",
      "\u001b[0;31mValueError\u001b[0m: in user code:\n\n    File \"/opt/anaconda3/envs/konfuzio/lib/python3.8/site-packages/keras/engine/training.py\", line 1845, in predict_function  *\n        return step_function(self, iterator)\n    File \"/opt/anaconda3/envs/konfuzio/lib/python3.8/site-packages/keras/engine/training.py\", line 1834, in step_function  **\n        outputs = model.distribute_strategy.run(run_step, args=(data,))\n    File \"/opt/anaconda3/envs/konfuzio/lib/python3.8/site-packages/keras/engine/training.py\", line 1823, in run_step  **\n        outputs = model.predict_step(data)\n    File \"/opt/anaconda3/envs/konfuzio/lib/python3.8/site-packages/keras/engine/training.py\", line 1791, in predict_step\n        return self(x, training=False)\n    File \"/opt/anaconda3/envs/konfuzio/lib/python3.8/site-packages/keras/utils/traceback_utils.py\", line 67, in error_handler\n        raise e.with_traceback(filtered_tb) from None\n    File \"/opt/anaconda3/envs/konfuzio/lib/python3.8/site-packages/keras/engine/input_spec.py\", line 228, in assert_input_compatibility\n        raise ValueError(f'Input {input_index} of layer \"{layer_name}\" '\n\n    ValueError: Exception encountered when calling layer \"sequential\" (type Sequential).\n    \n    Input 0 of layer \"conv2d\" is incompatible with the layer: expected min_ndim=4, found ndim=3. Full shape received: (None, 224, 224)\n    \n    Call arguments received by layer \"sequential\" (type Sequential):\n      • inputs=tf.Tensor(shape=(None, 224, 224), dtype=uint8)\n      • training=False\n      • mask=None\n"
     ]
    }
   ],
   "source": [
    "Xtrain, Xtest, ytrain, ytest, input_shape = file_splitter._preprocess_data_fusion_model(file_splitter.train_docs, file_splitter.test_docs,\n",
    "                                                                                       vgg16, bert_model, bert_tokenizer)"
   ]
  },
  {
   "cell_type": "code",
   "execution_count": null,
   "id": "c47a6d4f",
   "metadata": {},
   "outputs": [],
   "source": []
  }
 ],
 "metadata": {
  "kernelspec": {
   "display_name": "Python 3 (ipykernel)",
   "language": "python",
   "name": "python3"
  },
  "language_info": {
   "codemirror_mode": {
    "name": "ipython",
    "version": 3
   },
   "file_extension": ".py",
   "mimetype": "text/x-python",
   "name": "python",
   "nbconvert_exporter": "python",
   "pygments_lexer": "ipython3",
   "version": "3.8.13"
  }
 },
 "nbformat": 4,
 "nbformat_minor": 5
}
