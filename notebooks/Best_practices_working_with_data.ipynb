{
 "cells": [
  {
   "cell_type": "markdown",
   "metadata": {
    "pycharm": {
     "name": "#%% md\n"
    }
   },
   "source": [
    "# Best practices to work with your data\n",
    "\n",
    "## Filter for documents that belong to one category\n",
    "\n",
    "In Project 46 you want to get all documents that belong to category with ID 63."
   ]
  },
  {
   "cell_type": "code",
   "execution_count": 1,
   "metadata": {
    "collapsed": true
   },
   "outputs": [],
   "source": [
    "import re\n",
    "from itertools import chain\n",
    "\n",
    "from konfuzio_sdk.data import Project\n",
    "from konfuzio_sdk.regex import regex_matches, suggest_regex_for_string, merge_regex\n",
    "from konfuzio_sdk.utils import iter_before_and_after"
   ]
  },
  {
   "cell_type": "code",
   "execution_count": 2,
   "metadata": {
    "pycharm": {
     "name": "#%%\n"
    }
   },
   "outputs": [
    {
     "data": {
      "text/plain": [
       "[Gehalt.pdf: 44823,\n",
       " Festlohn.pdf: 44834,\n",
       " vermögenswirksame Leistungen.pdf: 44839,\n",
       " betriebliche Altersvorsorge AG finanziert.pdf: 44840,\n",
       " Weihnachtsgeld.pdf: 44841,\n",
       " Stundenlohn.pdf: 44842,\n",
       " Fahrtkostenzuschuss pauschal versteuert.pdf: 44843,\n",
       " Betirebliche Altersvorsorge Mischfinanzierung.pdf: 44845,\n",
       " Darlehen.pdf: 44846,\n",
       " Dienstwagen mit Gehaltsverzicht.pdf: 44847,\n",
       " Auswertungspaket - unterschiedliche B_N-Auswertungen.pdf_1.pdf: 44848,\n",
       " Auswertungspaket - unterschiedliche B_N-Auswertungen.pdf_2.pdf: 44850,\n",
       " Auswertungspaket - unterschiedliche B_N-Auswertungen.pdf_4.pdf: 44851,\n",
       " Auswertungspaket - unterschiedliche B_N-Auswertungen.pdf_3.pdf: 44852,\n",
       " Auswertungspaket - unterschiedliche B_N-Auswertungen.pdf_5.pdf: 44853,\n",
       " Auswertungspaket - unterschiedliche B_N-Auswertungen.pdf_6.pdf: 44854,\n",
       " Auswertungspaket - unterschiedliche B_N-Auswertungen.pdf_7.pdf: 44855,\n",
       " Auswertungspaket - unterschiedliche B_N-Auswertungen.pdf_8.pdf: 44856,\n",
       " Auswertungspaket - unterschiedliche B_N-Auswertungen.pdf_9.pdf: 44857,\n",
       " Auswertungspaket - unterschiedliche B_N-Auswertungen.pdf_10.pdf: 44858,\n",
       " Auswertungspaket - unterschiedliche B_N-Auswertungen.pdf_12.pdf: 44859,\n",
       " 2022-01-30 07:22:29.106312: 44860,\n",
       " 2022-01-30 07:12:04.725599: 44861,\n",
       " 2022-02-07 11:17:51.957252: 44862,\n",
       " 2022-01-30 06:57:53.988011: 44863]"
      ]
     },
     "execution_count": 2,
     "metadata": {},
     "output_type": "execute_result"
    }
   ],
   "source": [
    "\n",
    "prj = Project(id_=46)\n",
    "category = prj.get_category_by_id(63)\n",
    "\n",
    "category.documents()\n"
   ]
  },
  {
   "cell_type": "markdown",
   "metadata": {
    "pycharm": {
     "name": "#%% md\n"
    }
   },
   "source": [
    "## Edit an Annotation that is online"
   ]
  },
  {
   "cell_type": "code",
   "execution_count": 3,
   "metadata": {
    "pycharm": {
     "name": "#%%\n"
    }
   },
   "outputs": [
    {
     "data": {
      "text/plain": [
       "[Annotation Austellungsdatum (66, 78), (159, 169)]"
      ]
     },
     "execution_count": 3,
     "metadata": {},
     "output_type": "execute_result"
    }
   ],
   "source": [
    "doc = prj.get_document_by_id(44823)\n",
    "annotations = doc.annotations(start_offset=10, end_offset=200)\n",
    "annotations\n"
   ]
  },
  {
   "cell_type": "code",
   "execution_count": 5,
   "metadata": {
    "pycharm": {
     "name": "#%%\n"
    }
   },
   "outputs": [
    {
     "data": {
      "text/plain": [
       "{'id_local': 23579,\n",
       " 'id_': 44823,\n",
       " 'file_path': None,\n",
       " '_annotations': [Annotation Austellungsdatum (66, 78), (159, 169),\n",
       "  Annotation Betrag (86, 88),\n",
       "  Annotation Auszahlungsbetrag (236, 237),\n",
       "  Annotation Personalausweis (352, 357),\n",
       "  Annotation Steuerklasse (365, 366),\n",
       "  Annotation Personalausweis (1194, 1199),\n",
       "  Annotation Gesamt-Brutto (1498, 1504), (1582, 1587),\n",
       "  Annotation Vorname (1507, 1518),\n",
       "  Annotation Nachname (1519, 1527),\n",
       "  Annotation Lohnart (1758, 1762),\n",
       "  Annotation Bezeichnung (1763, 1769),\n",
       "  Annotation Betrag (1831, 1839),\n",
       "  Annotation Gesamt-Brutto (2111, 2119),\n",
       "  Annotation Sozialversicherung (2255, 2262),\n",
       "  Annotation Sozialversicherung (2269, 2274),\n",
       "  Annotation Sozialversicherung (2281, 2285),\n",
       "  Annotation Sozialversicherung (2292, 2296),\n",
       "  Annotation Steuerrechtliche Abzüge (2324, 2330),\n",
       "  Annotation Auszahlungsbetrag (2619, 2624),\n",
       "  Annotation Netto-Verdienst (3004, 3012),\n",
       "  Annotation Steuer-Brutto (3141, 3149),\n",
       "  Annotation Auszahlungsbetrag (3777, 3785)],\n",
       " '_annotation_sets': [AnnotationSet(78730) of Lohnabrechnung (63) in Gehalt.pdf: 44823.,\n",
       "  AnnotationSet(687572) of Brutto-Bezug (64) in Gehalt.pdf: 44823.,\n",
       "  AnnotationSet(292092) of Brutto-Bezug (64) in Gehalt.pdf: 44823.,\n",
       "  AnnotationSet(681346) of Steuer (3686) in Gehalt.pdf: 44823.,\n",
       "  AnnotationSet(687268) of Verdiensibescheinigung (3707) in Gehalt.pdf: 44823.],\n",
       " 'file_url': '/doc/show/44823/',\n",
       " 'is_dataset': None,\n",
       " 'dataset_status': 2,\n",
       " 'number_of_pages': 1,\n",
       " 'category': Lohnabrechnung (63),\n",
       " 'updated_at': datetime.datetime(2022, 2, 15, 14, 3, 20, 63758, tzinfo=tzoffset(None, 3600)),\n",
       " 'name': 'Gehalt.pdf',\n",
       " 'status': [2, 'Done'],\n",
       " 'project': Project 46,\n",
       " '_text': None,\n",
       " '_hocr': None,\n",
       " '_pages': None,\n",
       " 'image_paths': [],\n",
       " 'ocr_file_path': None,\n",
       " 'annotation_file_path': 'data_46\\\\documents\\\\44823\\\\annotations.json5',\n",
       " 'annotation_set_file_path': 'data_46\\\\documents\\\\44823\\\\annotation_sets.json5',\n",
       " 'txt_file_path': 'data_46\\\\documents\\\\44823\\\\document.txt',\n",
       " 'hocr_file_path': 'data_46\\\\documents\\\\44823\\\\document.hocr',\n",
       " 'pages_file_path': 'data_46\\\\documents\\\\44823\\\\pages.json5',\n",
       " 'bbox_file_path': 'data_46\\\\documents\\\\44823\\\\bbox.json5',\n",
       " 'bio_scheme_file_path': 'data_46\\\\documents\\\\44823\\\\bio_scheme.txt'}"
      ]
     },
     "execution_count": 5,
     "metadata": {},
     "output_type": "execute_result"
    }
   ],
   "source": [
    "doc.__dict__"
   ]
  },
  {
   "cell_type": "markdown",
   "metadata": {
    "pycharm": {
     "name": "#%% md\n"
    }
   },
   "source": [
    "Let's look into the first Annotation"
   ]
  },
  {
   "cell_type": "code",
   "execution_count": 6,
   "metadata": {
    "pycharm": {
     "name": "#%%\n"
    }
   },
   "outputs": [
    {
     "data": {
      "text/plain": [
       "{'id_local': 23585,\n",
       " 'is_correct': True,\n",
       " 'revised': False,\n",
       " 'normalized': None,\n",
       " 'translated_string': None,\n",
       " 'document': Gehalt.pdf: 44823,\n",
       " '_spans': [Span (66, 78), Span (159, 169)],\n",
       " 'id_': 9208623,\n",
       " 'confidence': 1,\n",
       " 'label': Austellungsdatum,\n",
       " 'label_set': Lohnabrechnung (63),\n",
       " 'annotation_set': AnnotationSet(78730) of Lohnabrechnung (63) in Gehalt.pdf: 44823.,\n",
       " 'selection_bbox': {'bottom': 49.786,\n",
       "  'page_index': 0,\n",
       "  'top': 20.481,\n",
       "  'x0': 457.991,\n",
       "  'x1': 533.908,\n",
       "  'y0': 791.894,\n",
       "  'y1': 821.199},\n",
       " 'page_number': None,\n",
       " 'top': 23.849,\n",
       " 'x0': 48.48,\n",
       " 'x1': 568.801,\n",
       " 'y0': 797.311,\n",
       " 'y1': 817.831,\n",
       " 'bottom': 44.369,\n",
       " 'bboxes': [{'bottom': 32.849,\n",
       "   'end_offset': 78,\n",
       "   'line_number': 1,\n",
       "   'offset_string': '328927/10103',\n",
       "   'offset_string_original': '328927/10103',\n",
       "   'page_index': 0,\n",
       "   'start_offset': 66,\n",
       "   'top': 23.849,\n",
       "   'x0': 462.48,\n",
       "   'x1': 533.36,\n",
       "   'y0': 808.831,\n",
       "   'y1': 817.831},\n",
       "  {'bottom': 44.369,\n",
       "   'end_offset': 169,\n",
       "   'line_number': 2,\n",
       "   'offset_string': '22.05.2018',\n",
       "   'offset_string_original': '22.05.2018',\n",
       "   'page_index': 0,\n",
       "   'start_offset': 159,\n",
       "   'top': 35.369,\n",
       "   'x0': 468.48,\n",
       "   'x1': 527.04,\n",
       "   'y0': 797.311,\n",
       "   'y1': 806.311}],\n",
       " '_tokens': [],\n",
       " '_regex': None}"
      ]
     },
     "execution_count": 6,
     "metadata": {},
     "output_type": "execute_result"
    }
   ],
   "source": [
    "first_annotation = annotations[0]\n",
    "first_annotation.__dict__"
   ]
  },
  {
   "cell_type": "markdown",
   "metadata": {
    "pycharm": {
     "name": "#%% md\n"
    }
   },
   "source": [
    "We want to change the revised status to False."
   ]
  },
  {
   "cell_type": "code",
   "execution_count": 7,
   "metadata": {
    "pycharm": {
     "name": "#%%\n"
    }
   },
   "outputs": [],
   "source": [
    "first_annotation.revised = False"
   ]
  },
  {
   "cell_type": "markdown",
   "metadata": {
    "pycharm": {
     "name": "#%% md\n"
    }
   },
   "source": [
    "Now we have it locally, but not online. So save it to save it online."
   ]
  },
  {
   "cell_type": "code",
   "execution_count": 8,
   "metadata": {
    "pycharm": {
     "name": "#%%\n"
    }
   },
   "outputs": [
    {
     "name": "stderr",
     "output_type": "stream",
     "text": [
      "2022-02-16 22:12:09,565 [konfuzio_sdk.data   ] [MainThread] [ERROR   ] [save                ][0915] You cannot update Annotations once saved online.\n"
     ]
    },
    {
     "data": {
      "text/plain": [
       "False"
      ]
     },
     "execution_count": 8,
     "metadata": {},
     "output_type": "execute_result"
    }
   ],
   "source": [
    "first_annotation.save()"
   ]
  },
  {
   "cell_type": "code",
   "execution_count": 15,
   "metadata": {
    "pycharm": {
     "name": "#%%\n"
    }
   },
   "outputs": [
    {
     "data": {
      "text/plain": [
       "False"
      ]
     },
     "execution_count": 15,
     "metadata": {},
     "output_type": "execute_result"
    }
   ],
   "source": [
    "first_annotation.revised"
   ]
  },
  {
   "cell_type": "markdown",
   "metadata": {},
   "source": [
    "## Build a Regex Tokenizer that uses the Span before and after\n",
    "\n",
    "Let's assume you use a pretty easy tokenizer which captures elements by surrounding whitespaces."
   ]
  },
  {
   "cell_type": "code",
   "execution_count": null,
   "metadata": {
    "pycharm": {
     "name": "#%%\n"
    }
   },
   "outputs": [],
   "source": [
    "num = len(set(doc.annotations(fill=True, use_correct=False)) - set(doc.annotations(use_correct=False)))\n",
    "print(f'There are {num} text offsets that are not annotated.')"
   ]
  },
  {
   "cell_type": "code",
   "execution_count": null,
   "metadata": {
    "pycharm": {
     "name": "#%%\n"
    }
   },
   "outputs": [],
   "source": [
    "# Sort any Span in the Document\n",
    "spans = []\n",
    "for annotation in doc.annotations(fill=True):\n",
    "    spans += annotation.spans\n",
    "\n",
    "spans.sort()\n",
    "# Annotations of different Labels are in the Spans\n",
    "set([span.annotation.label.name for span in spans])"
   ]
  },
  {
   "cell_type": "code",
   "execution_count": null,
   "metadata": {
    "pycharm": {
     "name": "#%%\n"
    }
   },
   "outputs": [],
   "source": [
    "proposals = []\n",
    "regex_to_remove_groupnames = re.compile('<.*?>')\n",
    "\n",
    "\n",
    "for before_span, span, after_span in iter_before_and_after(spans, before=1, after=1):  # todo test iter_before_and_after\n",
    "    if span.annotation.label.name:  # We found an annotated Span\n",
    "        before = suggest_regex_for_string(doc.text[before_span.start_offset: before_span.end_offset], replace_characters=True)\n",
    "        after = suggest_regex_for_string(doc.text[after_span.start_offset: after_span.end_offset], replace_characters=True)\n",
    "        proposal = before + span.annotation.regex() + after\n",
    "\n",
    "        # check for duplicates\n",
    "        regex_found = [re.sub(regex_to_remove_groupnames, '', reg) for reg in proposals]\n",
    "        new_regex = re.sub(regex_to_remove_groupnames, '', proposal)\n",
    "        if new_regex not in regex_found:\n",
    "            proposals.append(new_regex)"
   ]
  },
  {
   "cell_type": "code",
   "execution_count": 20,
   "metadata": {
    "pycharm": {
     "name": "#%%\n"
    }
   },
   "outputs": [
    {
     "data": {
      "text/plain": [
       "['[ ]{2,}[a-zäöüß]\\\\d\\\\d[ ]{2,}(?:(?P<Austellungsdatum_N_9208623_159>\\\\d\\\\d\\\\.\\\\d\\\\d\\\\.\\\\d\\\\d\\\\d\\\\d))/\\\\d\\\\d\\\\d\\\\d\\\\d',\n",
       " '[A-ZÄÖÜ][a-zäöüß]+[ ]{2,}[a-zäöüß]+[ ]+[A-ZÄÖÜ][a-zäöüß]+/[A-ZÄÖÜ][a-zäöüß]+[-][A-ZÄÖÜ][a-zäöüß]+[ ]{2,}[a-zäöüß]+[ ]+[A-ZÄÖÜ][a-zäöüß]+[ ]+\\\\d\\\\d\\\\d\\\\d[ ]{2,}(?:(?P<Austellungsdatum_N_9208623_159>\\\\d\\\\d\\\\.\\\\d\\\\d\\\\.\\\\d\\\\d\\\\d\\\\d))[ ]+[A-ZÄÖÜ][a-zäöüß]+:[ ]{2,}\\\\d',\n",
       " '\\n(?:(?P<Personalausweis_N_9585450_352>\\\\d\\\\d\\\\d\\\\d\\\\d))[ ]+\\\\d\\\\d\\\\d\\\\d\\\\d\\\\d[ ]+',\n",
       " '[ ]+\\\\d\\\\d\\\\d\\\\d\\\\d\\\\d[ ]+(?:(?P<Steuerklasse_N_4420022_365>\\\\d))[ ]{2,}\\\\|[ ]{2,}‚[a-zäöüß]+[ ]{2,}\\\\d\\\\d[ ]{2,}\\\\d\\\\d\\\\d[ ]{2,}\\\\d\\\\d\\\\d\\\\d[ ]{2,}\\\\d\\\\d\\\\d\\\\d',\n",
       " '[ ]{2,}[A-ZÄÖÜ][a-zäöüß]+\\\\.[-][A-ZÄÖÜ][a-zäöüß]\\\\.[ ]{2,}(?:(?P<Personalausweis_N_9585450_352>\\\\d\\\\d\\\\d\\\\d\\\\d))[ ]{2,}[a-zäöüß]\\\\d\\\\d',\n",
       " '[ ]{2,}[-][ ]+[A-ZÄÖÜ]+[a-zäöüß][-][A-ZÄÖÜ][a-zäöüß]+\\\\.:[ ]{2,}[A-ZÄÖÜ]+[a-zäöüß][ ]{2,}(?:(?P<GesamtBrutto_N_4420363_2111>\\\\d\\\\.\\\\d\\\\d\\\\d\\\\,\\\\d\\\\d)|(?P<GesamtBrutto_N_9812334_1498>\\\\d\\\\d\\\\d\\\\,\\\\d\\\\d))\\n',\n",
       " '[ ]{2,}(?:(?P<Vorname_F_4420057_1507>[A-ZÄÖÜ][a-zäöüß]+[-][A-ZÄÖÜ][a-zäöüß]+))[ ]+',\n",
       " '[ ]+(?:(?P<Nachname_F_673084_1404>[A-ZÄÖÜ][a-zäöüß]+[-][A-ZÄÖÜ][a-zäöüß]+)|(?P<Nachname_F_4420245_1519>[A-ZÄÖÜ][a-zäöüß]+))[ ]{2,}[A-ZÄÖÜ][a-zäöüß][A-ZÄÖÜ][a-zäöüß][ ]{2,}\\\\d\\\\d\\\\,\\\\d\\\\d[ ]{2,}[A-ZÄÖÜ][a-zäöüß]+[ ]{2,}',\n",
       " '[ ]{2,}[A-ZÄÖÜ][a-zäöüß][A-ZÄÖÜ][a-zäöüß][ ]{2,}\\\\d\\\\d\\\\,\\\\d\\\\d[ ]{2,}[A-ZÄÖÜ][a-zäöüß]+[ ]{2,}(?:(?P<GesamtBrutto_N_4420363_2111>\\\\d\\\\.\\\\d\\\\d\\\\d\\\\,\\\\d\\\\d)|(?P<GesamtBrutto_N_9812334_1498>\\\\d\\\\d\\\\d\\\\,\\\\d\\\\d))\\n',\n",
       " '\\n(?:(?P<Lohnart_N_4420346_1758>\\\\d\\\\d\\\\d\\\\d))[ ]+',\n",
       " '[ ]+(?:(?P<Bezeichnung_F_673122_1950>[A-ZÄÖÜ][a-zäöüß]+\\\\.[A-ZÄÖÜ]+\\\\,[A-ZÄÖÜ][a-zäöüß]+\\\\.[a-zäöüß]+\\\\.\\\\d[a-zäöüß]+\\\\,[ ]+\\\\$\\\\d[A-ZÄÖÜ][a-zäöüß]\\\\.\\\\d\\\\d[A-ZÄÖÜ]+[a-zäöüß][A-ZÄÖÜ])|(?P<Bezeichnung_F_673161_1992>[A-ZÄÖÜ][a-zäöüß]+\\\\.[A-ZÄÖÜ]+\\\\,[A-ZÄÖÜ]+\\\\,\\\\d[a-zäöüß]+\\\\,\\\\$\\\\d[A-ZÄÖÜ][a-zäöüß]\\\\.\\\\d\\\\d[A-ZÄÖÜ]+[a-zäöüß][A-ZÄÖÜ])|(?P<Bezeichnung_F_671708_1581>[A-ZÄÖÜ][a-zäöüß]+\\\\.[A-ZÄÖÜ]+\\\\,[ ]+\\\\d[a-zäöüß]+\\\\,[ ]+[A-ZÄÖÜ]\\\\$\\\\d\\\\d[a-zäöüß][ ]+[A-ZÄÖÜ]+[a-zäöüß][A-ZÄÖÜ])|(?P<Bezeichnung_F_673157_1907>[A-ZÄÖÜ][a-zäöüß]+[ ]+[A-ZÄÖÜ][a-zäöüß]+/[A-ZÄÖÜ][a-zäöüß]+\\\\,[ ]+[a-zäöüß]\\\\.[ ]+[A-ZÄÖÜ][a-zäöüß]\\\\.)|(?P<Bezeichnung_F_673135_1670>[A-ZÄÖÜ][a-zäöüß]+\\\\,[ ]+[A-ZÄÖÜ][a-zäöüß]+\\\\,[ ]+[a-zäöüß]+[-]/[a-zäöüß]+[-][a-zäöüß]+)|(?P<Bezeichnung_F_673174_1596>[A-ZÄÖÜ][a-zäöüß]+\\\\.[a-zäöüß]+\\\\.[\\\\+][ ]+[A-ZÄÖÜ]+[ ]+\\\\(\\\\d\\\\d%\\\\))|(?P<Bezeichnung_F_673154_1825>[A-ZÄÖÜ][a-zäöüß]+[ ]+[A-ZÄÖÜ][a-zäöüß]+/[A-ZÄÖÜ][a-zäöüß]+)|(?P<Bezeichnung_F_671744_1797>[A-ZÄÖÜ]+[-][A-ZÄÖÜ][a-zäöüß]+[ ]+[A-ZÄÖÜ]+\\\\,\\\\d[a-zäöüß]+)|(?P<Bezeichnung_F_673092_1677>[A-ZÄÖÜ][a-zäöüß]+\\\\,[ ]+[a-zäöüß]\\\\.[A-ZÄÖÜ][a-zäöüß]\\\\.)|(?P<Bezeichnung_F_671689_1745>[A-ZÄÖÜ][a-zäöüß]+\\\\,[ ]+[a-zäöüß]+\\\\,[ ]+[a-zäöüß]+)|(?P<Bezeichnung_F_671703_1496>[A-ZÄÖÜ][a-zäöüß]+\\\\,[ ]+[a-zäöüß]+£[a-zäöüß]+\\\\.)|(?P<Bezeichnung_F_673119_1868>[A-ZÄÖÜ][a-zäöüß]+\\\\,[ ]+[a-zäöüß]+\\\\.)|(?P<Bezeichnung_F_673171_1511>[A-ZÄÖÜ][a-zäöüß]+\\\\,[ ]+\\\\d\\\\d%)|(?P<Bezeichnung_W_671737_1787>Festlohn\\\\,[ ]+gewerblich)|(?P<Bezeichnung_F_4420348_1763>[A-ZÄÖÜ][a-zäöüß]+))[ ]{2,}[A-ZÄÖÜ][ ]{2,}[A-ZÄÖÜ][a-zäöüß]+[ ]{2,}',\n",
       " '[ ]{2,}[A-ZÄÖÜ][ ]{2,}[A-ZÄÖÜ][a-zäöüß]+[ ]{2,}(?:(?P<Betrag_N_4420349_1831>\\\\d\\\\.\\\\d\\\\d\\\\d\\\\,\\\\d\\\\d)|(?P<Betrag_N_671720_1785>\\\\d\\\\d\\\\d\\\\,\\\\d\\\\d)|(?P<Betrag_N_671745_1868>\\\\d\\\\d\\\\,\\\\d\\\\d)|(?P<Betrag_W_673120_1937>100\\\\,00[-])|(?P<Betrag_N_672724_1625>\\\\d\\\\,\\\\d\\\\d\\\\d)|(?P<Betrag_N_673136_1745>\\\\d\\\\,\\\\d\\\\d))\\n',\n",
       " '[A-ZÄÖÜ][a-zäöüß]+/[A-ZÄÖÜ][a-zäöüß]+[ ]{2,}(?:(?P<GesamtBrutto_N_4420363_2111>\\\\d\\\\.\\\\d\\\\d\\\\d\\\\,\\\\d\\\\d)|(?P<GesamtBrutto_N_9812334_1498>\\\\d\\\\d\\\\d\\\\,\\\\d\\\\d))\\n',\n",
       " '[A-ZÄÖÜ][ ]{2,}(?:(?P<Sozialversicherung_N_9592997_2245>\\\\d\\\\.\\\\d\\\\d\\\\d\\\\d\\\\d\\\\d)|(?P<Sozialversicherung_N_9585509_2255>\\\\d\\\\.\\\\d\\\\d\\\\d\\\\d\\\\d)|(?P<Sozialversicherung_N_9593083_2569>\\\\d\\\\d\\\\d\\\\d\\\\d[-])|(?P<Sozialversicherung_N_9593013_2095>\\\\d\\\\d\\\\d\\\\d\\\\d\\\\d)|(?P<Sozialversicherung_N_9593084_2581>\\\\d\\\\d\\\\d\\\\d[-])|(?P<Sozialversicherung_N_9585548_2269>\\\\d\\\\d\\\\d\\\\d\\\\d)|(?P<Sozialversicherung_N_9585604_2281>\\\\d\\\\d\\\\d\\\\d)|(?P<Sozialversicherung_N_9593056_2484>\\\\d\\\\d\\\\d))[ ]{2,}',\n",
       " '[ ]{2,}(?:(?P<Sozialversicherung_N_9592997_2245>\\\\d\\\\.\\\\d\\\\d\\\\d\\\\d\\\\d\\\\d)|(?P<Sozialversicherung_N_9585509_2255>\\\\d\\\\.\\\\d\\\\d\\\\d\\\\d\\\\d)|(?P<Sozialversicherung_N_9593083_2569>\\\\d\\\\d\\\\d\\\\d\\\\d[-])|(?P<Sozialversicherung_N_9593013_2095>\\\\d\\\\d\\\\d\\\\d\\\\d\\\\d)|(?P<Sozialversicherung_N_9593084_2581>\\\\d\\\\d\\\\d\\\\d[-])|(?P<Sozialversicherung_N_9585548_2269>\\\\d\\\\d\\\\d\\\\d\\\\d)|(?P<Sozialversicherung_N_9585604_2281>\\\\d\\\\d\\\\d\\\\d)|(?P<Sozialversicherung_N_9593056_2484>\\\\d\\\\d\\\\d))[ ]{2,}',\n",
       " '[ ]{2,}(?:(?P<Sozialversicherung_N_9592997_2245>\\\\d\\\\.\\\\d\\\\d\\\\d\\\\d\\\\d\\\\d)|(?P<Sozialversicherung_N_9585509_2255>\\\\d\\\\.\\\\d\\\\d\\\\d\\\\d\\\\d)|(?P<Sozialversicherung_N_9593083_2569>\\\\d\\\\d\\\\d\\\\d\\\\d[-])|(?P<Sozialversicherung_N_9593013_2095>\\\\d\\\\d\\\\d\\\\d\\\\d\\\\d)|(?P<Sozialversicherung_N_9593084_2581>\\\\d\\\\d\\\\d\\\\d[-])|(?P<Sozialversicherung_N_9585548_2269>\\\\d\\\\d\\\\d\\\\d\\\\d)|(?P<Sozialversicherung_N_9585604_2281>\\\\d\\\\d\\\\d\\\\d)|(?P<Sozialversicherung_N_9593056_2484>\\\\d\\\\d\\\\d))[ ]{2,}',\n",
       " '[ ]{2,}(?:(?P<Sozialversicherung_N_9592997_2245>\\\\d\\\\.\\\\d\\\\d\\\\d\\\\d\\\\d\\\\d)|(?P<Sozialversicherung_N_9585509_2255>\\\\d\\\\.\\\\d\\\\d\\\\d\\\\d\\\\d)|(?P<Sozialversicherung_N_9593083_2569>\\\\d\\\\d\\\\d\\\\d\\\\d[-])|(?P<Sozialversicherung_N_9593013_2095>\\\\d\\\\d\\\\d\\\\d\\\\d\\\\d)|(?P<Sozialversicherung_N_9593084_2581>\\\\d\\\\d\\\\d\\\\d[-])|(?P<Sozialversicherung_N_9585548_2269>\\\\d\\\\d\\\\d\\\\d\\\\d)|(?P<Sozialversicherung_N_9585604_2281>\\\\d\\\\d\\\\d\\\\d)|(?P<Sozialversicherung_N_9593056_2484>\\\\d\\\\d\\\\d))[ ]{2,}',\n",
       " '[ ]{2,}(?:(?P<Steuerrechtliche_Abzuege_N_9593086_2623>\\\\d\\\\d\\\\d\\\\,[ ]+\\\\d\\\\d[-])|(?P<Steuerrechtliche_Abzuege_N_9585606_2324>\\\\d\\\\d\\\\d\\\\,\\\\d\\\\d)|(?P<Steuerrechtliche_Abzuege_N_9593057_2515>\\\\d\\\\d\\\\,\\\\d\\\\d)|(?P<Steuerrechtliche_Abzuege_W_9593089_2109>0\\\\,00))\\n',\n",
       " '[A-ZÄÖÜ][a-zäöüß]+[ ]{2,}[A-ZÄÖÜ][a-zäöüß]+[-][A-ZÄÖÜ][a-zäöüß]+/[A-ZÄÖÜ][a-zäöüß]+[-][A-ZÄÖÜ][a-zäöüß]+[ ]{2,}(?:(?P<NettoVerdienst_N_4420350_3004>\\\\d\\\\.\\\\d\\\\d\\\\d\\\\,\\\\d\\\\d)|(?P<NettoVerdienst_N_671696_2661>\\\\d\\\\d\\\\d\\\\,\\\\d\\\\d))\\n',\n",
       " '[A-ZÄÖÜ][a-zäöüß]+[-][A-ZÄÖÜ][a-zäöüß]+[ ]{2,}(?:(?P<SteuerBrutto_N_9653072_3389>\\\\d\\\\d\\\\.\\\\d\\\\d\\\\d\\\\,\\\\d\\\\d)|(?P<SteuerBrutto_N_9595770_3080>\\\\d\\\\d\\\\.\\\\d\\\\d\\\\d\\\\d\\\\d\\\\d)|(?P<SteuerBrutto_N_9653184_3141>\\\\d\\\\d\\\\.\\\\d\\\\d\\\\d\\\\d\\\\d)|(?P<SteuerBrutto_N_9653073_2796>\\\\d\\\\.\\\\d\\\\d\\\\d\\\\d\\\\d))[ ]+[A-ZÄÖÜ]+[-][A-ZÄÖÜ][a-zäöüß]+[ ]{2,}\\\\d\\\\.\\\\d\\\\d\\\\d\\\\d\\\\d',\n",
       " '[A-ZÄÖÜ][a-zäöüß]+[ ]{2,}\\\\d\\\\d\\\\d\\\\d\\\\d[ ]{2,}(?:(?P<Auszahlungsbetrag_N_4420351_3777>\\\\d\\\\.\\\\d\\\\d\\\\d\\\\,\\\\d\\\\d)|(?P<Auszahlungsbetrag_N_673143_4074>\\\\d\\\\d\\\\,[ ]+\\\\d\\\\d[-])|(?P<Auszahlungsbetrag_N_671698_3433>\\\\d\\\\d\\\\d\\\\,\\\\d\\\\d))\\n']"
      ]
     },
     "execution_count": 20,
     "metadata": {},
     "output_type": "execute_result"
    }
   ],
   "source": [
    "proposals"
   ]
  },
  {
   "cell_type": "code",
   "execution_count": 21,
   "metadata": {
    "pycharm": {
     "name": "#%%\n"
    }
   },
   "outputs": [
    {
     "data": {
      "text/plain": [
       "'(?:[ ]+(?:(?P<Bezeichnung_F_673122_1950>[A-ZÄÖÜ][a-zäöüß]+\\\\.[A-ZÄÖÜ]+\\\\,[A-ZÄÖÜ][a-zäöüß]+\\\\.[a-zäöüß]+\\\\.\\\\d[a-zäöüß]+\\\\,[ ]+\\\\$\\\\d[A-ZÄÖÜ][a-zäöüß]\\\\.\\\\d\\\\d[A-ZÄÖÜ]+[a-zäöüß][A-ZÄÖÜ])|(?P<Bezeichnung_F_673161_1992>[A-ZÄÖÜ][a-zäöüß]+\\\\.[A-ZÄÖÜ]+\\\\,[A-ZÄÖÜ]+\\\\,\\\\d[a-zäöüß]+\\\\,\\\\$\\\\d[A-ZÄÖÜ][a-zäöüß]\\\\.\\\\d\\\\d[A-ZÄÖÜ]+[a-zäöüß][A-ZÄÖÜ])|(?P<Bezeichnung_F_671708_1581>[A-ZÄÖÜ][a-zäöüß]+\\\\.[A-ZÄÖÜ]+\\\\,[ ]+\\\\d[a-zäöüß]+\\\\,[ ]+[A-ZÄÖÜ]\\\\$\\\\d\\\\d[a-zäöüß][ ]+[A-ZÄÖÜ]+[a-zäöüß][A-ZÄÖÜ])|(?P<Bezeichnung_F_673157_1907>[A-ZÄÖÜ][a-zäöüß]+[ ]+[A-ZÄÖÜ][a-zäöüß]+/[A-ZÄÖÜ][a-zäöüß]+\\\\,[ ]+[a-zäöüß]\\\\.[ ]+[A-ZÄÖÜ][a-zäöüß]\\\\.)|(?P<Bezeichnung_F_673135_1670>[A-ZÄÖÜ][a-zäöüß]+\\\\,[ ]+[A-ZÄÖÜ][a-zäöüß]+\\\\,[ ]+[a-zäöüß]+[-]/[a-zäöüß]+[-][a-zäöüß]+)|(?P<Bezeichnung_F_673174_1596>[A-ZÄÖÜ][a-zäöüß]+\\\\.[a-zäöüß]+\\\\.[\\\\+][ ]+[A-ZÄÖÜ]+[ ]+\\\\(\\\\d\\\\d%\\\\))|(?P<Bezeichnung_F_673154_1825>[A-ZÄÖÜ][a-zäöüß]+[ ]+[A-ZÄÖÜ][a-zäöüß]+/[A-ZÄÖÜ][a-zäöüß]+)|(?P<Bezeichnung_F_671744_1797>[A-ZÄÖÜ]+[-][A-ZÄÖÜ][a-zäöüß]+[ ]+[A-ZÄÖÜ]+\\\\,\\\\d[a-zäöüß]+)|(?P<Bezeichnung_F_673092_1677>[A-ZÄÖÜ][a-zäöüß]+\\\\,[ ]+[a-zäöüß]\\\\.[A-ZÄÖÜ][a-zäöüß]\\\\.)|(?P<Bezeichnung_F_671689_1745>[A-ZÄÖÜ][a-zäöüß]+\\\\,[ ]+[a-zäöüß]+\\\\,[ ]+[a-zäöüß]+)|(?P<Bezeichnung_F_671703_1496>[A-ZÄÖÜ][a-zäöüß]+\\\\,[ ]+[a-zäöüß]+£[a-zäöüß]+\\\\.)|(?P<Bezeichnung_F_673119_1868>[A-ZÄÖÜ][a-zäöüß]+\\\\,[ ]+[a-zäöüß]+\\\\.)|(?P<Bezeichnung_F_673171_1511>[A-ZÄÖÜ][a-zäöüß]+\\\\,[ ]+\\\\d\\\\d%)|(?P<Bezeichnung_W_671737_1787>Festlohn\\\\,[ ]+gewerblich)|(?P<Bezeichnung_F_4420348_1763>[A-ZÄÖÜ][a-zäöüß]+))[ ]{2,}[A-ZÄÖÜ][ ]{2,}[A-ZÄÖÜ][a-zäöüß]+[ ]{2,}|[A-ZÄÖÜ][ ]{2,}(?:(?P<Sozialversicherung_N_9592997_2245>\\\\d\\\\.\\\\d\\\\d\\\\d\\\\d\\\\d\\\\d)|(?P<Sozialversicherung_N_9585509_2255>\\\\d\\\\.\\\\d\\\\d\\\\d\\\\d\\\\d)|(?P<Sozialversicherung_N_9593083_2569>\\\\d\\\\d\\\\d\\\\d\\\\d[-])|(?P<Sozialversicherung_N_9593013_2095>\\\\d\\\\d\\\\d\\\\d\\\\d\\\\d)|(?P<Sozialversicherung_N_9593084_2581>\\\\d\\\\d\\\\d\\\\d[-])|(?P<Sozialversicherung_N_9585548_2269>\\\\d\\\\d\\\\d\\\\d\\\\d)|(?P<Sozialversicherung_N_9585604_2281>\\\\d\\\\d\\\\d\\\\d)|(?P<Sozialversicherung_N_9593056_2484>\\\\d\\\\d\\\\d))[ ]{2,}|[ ]{2,}(?:(?P<Sozialversicherung_N_9592997_2245>\\\\d\\\\.\\\\d\\\\d\\\\d\\\\d\\\\d\\\\d)|(?P<Sozialversicherung_N_9585509_2255>\\\\d\\\\.\\\\d\\\\d\\\\d\\\\d\\\\d)|(?P<Sozialversicherung_N_9593083_2569>\\\\d\\\\d\\\\d\\\\d\\\\d[-])|(?P<Sozialversicherung_N_9593013_2095>\\\\d\\\\d\\\\d\\\\d\\\\d\\\\d)|(?P<Sozialversicherung_N_9593084_2581>\\\\d\\\\d\\\\d\\\\d[-])|(?P<Sozialversicherung_N_9585548_2269>\\\\d\\\\d\\\\d\\\\d\\\\d)|(?P<Sozialversicherung_N_9585604_2281>\\\\d\\\\d\\\\d\\\\d)|(?P<Sozialversicherung_N_9593056_2484>\\\\d\\\\d\\\\d))[ ]{2,}|[ ]{2,}(?:(?P<Sozialversicherung_N_9592997_2245>\\\\d\\\\.\\\\d\\\\d\\\\d\\\\d\\\\d\\\\d)|(?P<Sozialversicherung_N_9585509_2255>\\\\d\\\\.\\\\d\\\\d\\\\d\\\\d\\\\d)|(?P<Sozialversicherung_N_9593083_2569>\\\\d\\\\d\\\\d\\\\d\\\\d[-])|(?P<Sozialversicherung_N_9593013_2095>\\\\d\\\\d\\\\d\\\\d\\\\d\\\\d)|(?P<Sozialversicherung_N_9593084_2581>\\\\d\\\\d\\\\d\\\\d[-])|(?P<Sozialversicherung_N_9585548_2269>\\\\d\\\\d\\\\d\\\\d\\\\d)|(?P<Sozialversicherung_N_9585604_2281>\\\\d\\\\d\\\\d\\\\d)|(?P<Sozialversicherung_N_9593056_2484>\\\\d\\\\d\\\\d))[ ]{2,}|[ ]{2,}(?:(?P<Sozialversicherung_N_9592997_2245>\\\\d\\\\.\\\\d\\\\d\\\\d\\\\d\\\\d\\\\d)|(?P<Sozialversicherung_N_9585509_2255>\\\\d\\\\.\\\\d\\\\d\\\\d\\\\d\\\\d)|(?P<Sozialversicherung_N_9593083_2569>\\\\d\\\\d\\\\d\\\\d\\\\d[-])|(?P<Sozialversicherung_N_9593013_2095>\\\\d\\\\d\\\\d\\\\d\\\\d\\\\d)|(?P<Sozialversicherung_N_9593084_2581>\\\\d\\\\d\\\\d\\\\d[-])|(?P<Sozialversicherung_N_9585548_2269>\\\\d\\\\d\\\\d\\\\d\\\\d)|(?P<Sozialversicherung_N_9585604_2281>\\\\d\\\\d\\\\d\\\\d)|(?P<Sozialversicherung_N_9593056_2484>\\\\d\\\\d\\\\d))[ ]{2,}|[A-ZÄÖÜ][a-zäöüß]+[-][A-ZÄÖÜ][a-zäöüß]+[ ]{2,}(?:(?P<SteuerBrutto_N_9653072_3389>\\\\d\\\\d\\\\.\\\\d\\\\d\\\\d\\\\,\\\\d\\\\d)|(?P<SteuerBrutto_N_9595770_3080>\\\\d\\\\d\\\\.\\\\d\\\\d\\\\d\\\\d\\\\d\\\\d)|(?P<SteuerBrutto_N_9653184_3141>\\\\d\\\\d\\\\.\\\\d\\\\d\\\\d\\\\d\\\\d)|(?P<SteuerBrutto_N_9653073_2796>\\\\d\\\\.\\\\d\\\\d\\\\d\\\\d\\\\d))[ ]+[A-ZÄÖÜ]+[-][A-ZÄÖÜ][a-zäöüß]+[ ]{2,}\\\\d\\\\.\\\\d\\\\d\\\\d\\\\d\\\\d|[ ]{2,}[A-ZÄÖÜ][ ]{2,}[A-ZÄÖÜ][a-zäöüß]+[ ]{2,}(?:(?P<Betrag_N_4420349_1831>\\\\d\\\\.\\\\d\\\\d\\\\d\\\\,\\\\d\\\\d)|(?P<Betrag_N_671720_1785>\\\\d\\\\d\\\\d\\\\,\\\\d\\\\d)|(?P<Betrag_N_671745_1868>\\\\d\\\\d\\\\,\\\\d\\\\d)|(?P<Betrag_W_673120_1937>100\\\\,00[-])|(?P<Betrag_N_672724_1625>\\\\d\\\\,\\\\d\\\\d\\\\d)|(?P<Betrag_N_673136_1745>\\\\d\\\\,\\\\d\\\\d))\\n|[A-ZÄÖÜ][a-zäöüß]+[ ]{2,}[a-zäöüß]+[ ]+[A-ZÄÖÜ][a-zäöüß]+/[A-ZÄÖÜ][a-zäöüß]+[-][A-ZÄÖÜ][a-zäöüß]+[ ]{2,}[a-zäöüß]+[ ]+[A-ZÄÖÜ][a-zäöüß]+[ ]+\\\\d\\\\d\\\\d\\\\d[ ]{2,}(?:(?P<Austellungsdatum_N_9208623_159>\\\\d\\\\d\\\\.\\\\d\\\\d\\\\.\\\\d\\\\d\\\\d\\\\d))[ ]+[A-ZÄÖÜ][a-zäöüß]+:[ ]{2,}\\\\d|[ ]{2,}(?:(?P<Steuerrechtliche_Abzuege_N_9593086_2623>\\\\d\\\\d\\\\d\\\\,[ ]+\\\\d\\\\d[-])|(?P<Steuerrechtliche_Abzuege_N_9585606_2324>\\\\d\\\\d\\\\d\\\\,\\\\d\\\\d)|(?P<Steuerrechtliche_Abzuege_N_9593057_2515>\\\\d\\\\d\\\\,\\\\d\\\\d)|(?P<Steuerrechtliche_Abzuege_W_9593089_2109>0\\\\,00))\\n|[A-ZÄÖÜ][a-zäöüß]+[ ]{2,}[A-ZÄÖÜ][a-zäöüß]+[-][A-ZÄÖÜ][a-zäöüß]+/[A-ZÄÖÜ][a-zäöüß]+[-][A-ZÄÖÜ][a-zäöüß]+[ ]{2,}(?:(?P<NettoVerdienst_N_4420350_3004>\\\\d\\\\.\\\\d\\\\d\\\\d\\\\,\\\\d\\\\d)|(?P<NettoVerdienst_N_671696_2661>\\\\d\\\\d\\\\d\\\\,\\\\d\\\\d))\\n|[ ]+(?:(?P<Nachname_F_673084_1404>[A-ZÄÖÜ][a-zäöüß]+[-][A-ZÄÖÜ][a-zäöüß]+)|(?P<Nachname_F_4420245_1519>[A-ZÄÖÜ][a-zäöüß]+))[ ]{2,}[A-ZÄÖÜ][a-zäöüß][A-ZÄÖÜ][a-zäöüß][ ]{2,}\\\\d\\\\d\\\\,\\\\d\\\\d[ ]{2,}[A-ZÄÖÜ][a-zäöüß]+[ ]{2,}|[A-ZÄÖÜ][a-zäöüß]+[ ]{2,}\\\\d\\\\d\\\\d\\\\d\\\\d[ ]{2,}(?:(?P<Auszahlungsbetrag_N_4420351_3777>\\\\d\\\\.\\\\d\\\\d\\\\d\\\\,\\\\d\\\\d)|(?P<Auszahlungsbetrag_N_673143_4074>\\\\d\\\\d\\\\,[ ]+\\\\d\\\\d[-])|(?P<Auszahlungsbetrag_N_671698_3433>\\\\d\\\\d\\\\d\\\\,\\\\d\\\\d))\\n|[ ]{2,}[A-ZÄÖÜ][a-zäöüß][A-ZÄÖÜ][a-zäöüß][ ]{2,}\\\\d\\\\d\\\\,\\\\d\\\\d[ ]{2,}[A-ZÄÖÜ][a-zäöüß]+[ ]{2,}(?:(?P<GesamtBrutto_N_4420363_2111>\\\\d\\\\.\\\\d\\\\d\\\\d\\\\,\\\\d\\\\d)|(?P<GesamtBrutto_N_9812334_1498>\\\\d\\\\d\\\\d\\\\,\\\\d\\\\d))\\n|[ ]{2,}[-][ ]+[A-ZÄÖÜ]+[a-zäöüß][-][A-ZÄÖÜ][a-zäöüß]+\\\\.:[ ]{2,}[A-ZÄÖÜ]+[a-zäöüß][ ]{2,}(?:(?P<GesamtBrutto_N_4420363_2111>\\\\d\\\\.\\\\d\\\\d\\\\d\\\\,\\\\d\\\\d)|(?P<GesamtBrutto_N_9812334_1498>\\\\d\\\\d\\\\d\\\\,\\\\d\\\\d))\\n|[A-ZÄÖÜ][a-zäöüß]+/[A-ZÄÖÜ][a-zäöüß]+[ ]{2,}(?:(?P<GesamtBrutto_N_4420363_2111>\\\\d\\\\.\\\\d\\\\d\\\\d\\\\,\\\\d\\\\d)|(?P<GesamtBrutto_N_9812334_1498>\\\\d\\\\d\\\\d\\\\,\\\\d\\\\d))\\n|[ ]+\\\\d\\\\d\\\\d\\\\d\\\\d\\\\d[ ]+(?:(?P<Steuerklasse_N_4420022_365>\\\\d))[ ]{2,}\\\\|[ ]{2,}‚[a-zäöüß]+[ ]{2,}\\\\d\\\\d[ ]{2,}\\\\d\\\\d\\\\d[ ]{2,}\\\\d\\\\d\\\\d\\\\d[ ]{2,}\\\\d\\\\d\\\\d\\\\d|[ ]{2,}[A-ZÄÖÜ][a-zäöüß]+\\\\.[-][A-ZÄÖÜ][a-zäöüß]\\\\.[ ]{2,}(?:(?P<Personalausweis_N_9585450_352>\\\\d\\\\d\\\\d\\\\d\\\\d))[ ]{2,}[a-zäöüß]\\\\d\\\\d|[ ]{2,}[a-zäöüß]\\\\d\\\\d[ ]{2,}(?:(?P<Austellungsdatum_N_9208623_159>\\\\d\\\\d\\\\.\\\\d\\\\d\\\\.\\\\d\\\\d\\\\d\\\\d))/\\\\d\\\\d\\\\d\\\\d\\\\d|[ ]{2,}(?:(?P<Vorname_F_4420057_1507>[A-ZÄÖÜ][a-zäöüß]+[-][A-ZÄÖÜ][a-zäöüß]+))[ ]+|\\n(?:(?P<Personalausweis_N_9585450_352>\\\\d\\\\d\\\\d\\\\d\\\\d))[ ]+\\\\d\\\\d\\\\d\\\\d\\\\d\\\\d[ ]+|\\n(?:(?P<Lohnart_N_4420346_1758>\\\\d\\\\d\\\\d\\\\d))[ ]+)'"
      ]
     },
     "execution_count": 21,
     "metadata": {},
     "output_type": "execute_result"
    }
   ],
   "source": [
    "merge_regex(proposals)\n"
   ]
  },
  {
   "cell_type": "code",
   "execution_count": 11,
   "metadata": {
    "pycharm": {
     "name": "#%%\n"
    }
   },
   "outputs": [
    {
     "data": {
      "text/plain": [
       "' Bat:  1\\n \\nPersonal-Nr.  Geburtsdatum ski Faktor  Ki,Frbtr.Konfessi'"
      ]
     },
     "execution_count": 11,
     "metadata": {},
     "output_type": "execute_result"
    }
   ],
   "source": [
    "# You might be curious why the second Annotation has five Spans even it is one sequence of text.\n",
    "doc.text[169:236]\n",
    "# We divide any Sequence into Spans if there are Line Breaks. Line Breaks cannot be annotated so they are seperated\n",
    "# as Spans."
   ]
  },
  {
   "cell_type": "markdown",
   "metadata": {
    "pycharm": {
     "name": "#%% md\n"
    }
   },
   "source": [
    "## Build an easy tokenizer by examples\n",
    "We use the correct Annotations in one document to build a tokenizer for the overall model."
   ]
  },
  {
   "cell_type": "code",
   "execution_count": 12,
   "metadata": {
    "pycharm": {
     "name": "#%%\n"
    }
   },
   "outputs": [
    {
     "data": {
      "text/plain": [
       "['328927/10103',\n",
       " '22.05.2018',\n",
       " '00104',\n",
       " '1',\n",
       " '00104',\n",
       " '198,34',\n",
       " '10,89',\n",
       " 'Erna-Muster',\n",
       " 'Eiermann',\n",
       " '2000',\n",
       " 'Gehalt',\n",
       " '3.120,00',\n",
       " '3.120,00',\n",
       " '3.12000',\n",
       " '25732',\n",
       " '2062',\n",
       " '1417',\n",
       " '292,11',\n",
       " '2.189,07',\n",
       " '42.42950',\n",
       " '2.189,07']"
      ]
     },
     "execution_count": 12,
     "metadata": {},
     "output_type": "execute_result"
    }
   ],
   "source": [
    "positive_examples = []\n",
    "for annotation in doc.annotations():\n",
    "    for before, span in annotation.spans:\n",
    "        positive_examples.append(doc.text[span.start_offset: span.end_offset])\n",
    "\n",
    "positive_examples"
   ]
  },
  {
   "cell_type": "code",
   "execution_count": 17,
   "metadata": {
    "pycharm": {
     "name": "#%%\n"
    }
   },
   "outputs": [
    {
     "data": {
      "text/plain": [
       "'(?:[A-ZÄÖÜ][a-zäöüß]+[-][A-ZÄÖÜ][a-zäöüß]+|\\\\d\\\\d\\\\d\\\\d\\\\d\\\\d/\\\\d\\\\d\\\\d\\\\d\\\\d|\\\\d\\\\d\\\\.\\\\d\\\\d\\\\.\\\\d\\\\d\\\\d\\\\d|[A-ZÄÖÜ][a-zäöüß]+|\\\\d\\\\d\\\\.\\\\d\\\\d\\\\d\\\\d\\\\d|\\\\d\\\\.\\\\d\\\\d\\\\d\\\\,\\\\d\\\\d|\\\\d\\\\.\\\\d\\\\d\\\\d\\\\d\\\\d|\\\\d\\\\d\\\\d\\\\,\\\\d\\\\d|\\\\d\\\\d\\\\d\\\\d\\\\d|\\\\d\\\\d\\\\,\\\\d\\\\d|\\\\d\\\\d\\\\d\\\\d|\\\\d)'"
      ]
     },
     "execution_count": 17,
     "metadata": {},
     "output_type": "execute_result"
    }
   ],
   "source": [
    "tokens = set([suggest_regex_for_string(positive_example, replace_characters=True) for positive_example in positive_examples])\n",
    "tokenizer = merge_regex(tokens)\n",
    "tokenizer"
   ]
  },
  {
   "cell_type": "code",
   "execution_count": 18,
   "metadata": {
    "pycharm": {
     "name": "#%%\n"
    }
   },
   "outputs": [
    {
     "data": {
      "text/plain": [
       "{('0', 61, 62),\n",
       " ('0', 408, 409),\n",
       " ('0', 415, 416),\n",
       " ('0', 416, 417),\n",
       " ('0', 657, 658),\n",
       " ('0', 668, 669),\n",
       " ('0', 1208, 1209),\n",
       " ('0', 1386, 1387),\n",
       " ('0', 4395, 4396),\n",
       " ('00104', 79, 84),\n",
       " ('00104', 352, 357),\n",
       " ('00104', 1194, 1199),\n",
       " ('1', 176, 177),\n",
       " ('1', 365, 366),\n",
       " ('1', 619, 620),\n",
       " ('1', 652, 653),\n",
       " ('1', 656, 657),\n",
       " ('1', 658, 659),\n",
       " ('1', 665, 666),\n",
       " ('1', 1040, 1041),\n",
       " ('1', 1105, 1106),\n",
       " ('1', 1236, 1237),\n",
       " ('1', 4338, 4339),\n",
       " ('1', 4394, 4395),\n",
       " ('1', 4407, 4408),\n",
       " ('10,89', 1582, 1587),\n",
       " ('10103', 1247, 1252),\n",
       " ('10103', 1868, 1873),\n",
       " ('1111', 660, 664),\n",
       " ('12345', 1047, 1052),\n",
       " ('12345', 1095, 1100),\n",
       " ('1417', 2292, 2296),\n",
       " ('15,83', 1562, 1567),\n",
       " ('15035', 358, 363),\n",
       " ('17029', 883, 888),\n",
       " ('198,34', 1498, 1504),\n",
       " ('2', 62, 63),\n",
       " ('2', 1041, 1042),\n",
       " ('2', 1209, 1210),\n",
       " ('2', 1237, 1238),\n",
       " ('2', 3907, 3908),\n",
       " ('2', 4008, 4009),\n",
       " ('2.189,07', 3004, 3012),\n",
       " ('2.189,07', 3777, 3785),\n",
       " ('2000', 1758, 1762),\n",
       " ('2018', 136, 140),\n",
       " ('2062', 2281, 2285),\n",
       " ('22.05.2018', 159, 169),\n",
       " ('25732', 2269, 2274),\n",
       " ('26208', 2696, 2701),\n",
       " ('29016', 2705, 2710),\n",
       " ('292,11', 2324, 2330),\n",
       " ('3', 407, 408),\n",
       " ('3', 613, 614),\n",
       " ('3', 667, 668),\n",
       " ('3', 1042, 1043),\n",
       " ('3', 1385, 1386),\n",
       " ('3', 4181, 4182),\n",
       " ('3', 4339, 4340),\n",
       " ('3', 4401, 4402),\n",
       " ('3.120,00', 1831, 1839),\n",
       " ('3.120,00', 2111, 2119),\n",
       " ('3.12000', 2255, 2262),\n",
       " ('3.12000', 2658, 2665),\n",
       " ('3.12000', 2667, 2674),\n",
       " ('3.12000', 2676, 2683),\n",
       " ('3.12000', 2685, 2692),\n",
       " ('3.43267', 3165, 3172),\n",
       " ('3.94594', 3214, 3221),\n",
       " ('3000', 419, 423),\n",
       " ('328927/10103', 66, 78),\n",
       " ('3400', 430, 434),\n",
       " ('37,50', 1407, 1412),\n",
       " ('37411', 3299, 3304),\n",
       " ('3978', 2723, 2727),\n",
       " ('4', 414, 415),\n",
       " ('4', 1882, 1883),\n",
       " ('4', 3789, 3790),\n",
       " ('4', 3825, 3826),\n",
       " ('42.42950', 3033, 3041),\n",
       " ('42.42950', 3056, 3064),\n",
       " ('42.42950', 3141, 3149),\n",
       " ('4680', 2714, 2718),\n",
       " ('5', 614, 615),\n",
       " ('5', 617, 618),\n",
       " ('5', 653, 654),\n",
       " ('5', 3872, 3873),\n",
       " ('50150', 608, 613),\n",
       " ('52104', 3322, 3327),\n",
       " ('54504', 3243, 3248),\n",
       " ('6', 363, 364),\n",
       " ('6', 615, 616),\n",
       " ('6', 4006, 4007),\n",
       " ('6.81300', 3190, 3197),\n",
       " ('60450', 3745, 3750),\n",
       " ('63644', 3267, 3272),\n",
       " ('638,82', 2734, 2740),\n",
       " ('67891', 1100, 1105),\n",
       " ('7', 654, 655),\n",
       " ('7', 1603, 1604),\n",
       " ('7', 4153, 4154),\n",
       " ('8', 618, 619),\n",
       " ('8', 1604, 1605),\n",
       " ('8', 4396, 4397),\n",
       " ('9', 888, 889),\n",
       " ('90453', 1608, 1613),\n",
       " ('Abfindung', 3992, 4001),\n",
       " ('Abrechnung', 85, 95),\n",
       " ('Abrechnung', 1273, 1283),\n",
       " ('Abs', 4397, 4400),\n",
       " ('Abt', 1226, 1229),\n",
       " ('Abzüge', 2242, 2248),\n",
       " ('Abzüge', 2648, 2654),\n",
       " ('Anspr', 320, 325),\n",
       " ('Anteil', 3638, 3644),\n",
       " ('Anw', 516, 519),\n",
       " ('Anw', 742, 745),\n",
       " ('Arb', 1399, 1402),\n",
       " ('Austritt', 729, 737),\n",
       " ('Auszahlungsbetrag', 3682, 3699),\n",
       " ('Bank', 3588, 3592),\n",
       " ('Bars', 499, 503),\n",
       " ('Bat', 170, 173),\n",
       " ('Bayern', 626, 632),\n",
       " ('Beitrag', 2577, 2584),\n",
       " ('Beitrag', 2591, 2598),\n",
       " ('Beitrag', 2606, 2613),\n",
       " ('Beitrag', 2622, 2629),\n",
       " ('Beitrag', 3153, 3160),\n",
       " ('Beitrag', 3202, 3209),\n",
       " ('Beitrag', 3253, 3260),\n",
       " ('Beitrag', 3308, 3315),\n",
       " ('Beitragssatzzur', 4286, 4301),\n",
       " ('Beitragszuschlagzur', 4019, 4038),\n",
       " ('Bestandteildes', 3877, 3891),\n",
       " ('Betrag', 1751, 1757),\n",
       " ('Betrag', 3115, 3121),\n",
       " ('Beutto', 3045, 3051),\n",
       " ('Bez', 1018, 1021),\n",
       " ('Bezeichnung', 1648, 1659),\n",
       " ('Bezeichnung', 3076, 3087),\n",
       " ('Bezug', 3836, 3841),\n",
       " ('Bezug', 3854, 3859),\n",
       " ('Bezüge', 3362, 3368),\n",
       " ('Brutto', 101, 107),\n",
       " ('Brutto', 2522, 2528),\n",
       " ('Brutto', 2536, 2542),\n",
       " ('Brutto', 2549, 2555),\n",
       " ('Brutto', 2562, 2568),\n",
       " ('Brutto-Bezüge', 1623, 1636),\n",
       " ('Dariehen', 3539, 3547),\n",
       " ('Dezember', 127, 135),\n",
       " ('Die', 633, 636),\n",
       " ('Dies', 4355, 4359),\n",
       " ('Eiermann', 1519, 1527),\n",
       " ('Einheit', 1683, 1690),\n",
       " ('Einmalbezug', 3959, 3970),\n",
       " ('Einschl', 4010, 4017),\n",
       " ('Eintritt', 717, 725),\n",
       " ('Entgelibescheinigungnach', 4368, 4392),\n",
       " ('Entgeltguthaben', 4246, 4261),\n",
       " ('Eorm-Nr', 4326, 4333),\n",
       " ('Erna-Muster', 1507, 1518),\n",
       " ('Euro', 4061, 4065),\n",
       " ('Euro', 4077, 4081),\n",
       " ('Euro', 4095, 4099),\n",
       " ('Faktor', 211, 217),\n",
       " ('Faktor', 1705, 1711),\n",
       " ('Fehlz', 550, 555),\n",
       " ('Fehlz', 780, 785),\n",
       " ('Frau', 1415, 1419),\n",
       " ('Frbtr', 222, 227),\n",
       " ('Frei', 3863, 3867),\n",
       " ('Freibetrag', 260, 270),\n",
       " ('Freibetragjährl', 241, 256),\n",
       " ('Für', 1889, 1892),\n",
       " ('Geburtsdatum', 194, 206),\n",
       " ('Gegebenenfalls', 4183, 4197),\n",
       " ('Gehalt', 1763, 1769),\n",
       " ('Gesamt-Brutto', 2009, 2022),\n",
       " ('Gesamt-Brutto', 3015, 3028),\n",
       " ('Gesamt-Bruttos', 3892, 3906),\n",
       " ('Gesamtkosten', 3665, 3677),\n",
       " ('Gesundheitskas', 637, 651),\n",
       " ('Gewerbeordnung', 4412, 4426),\n",
       " ('Gleitzone', 282, 291),\n",
       " ('Hinweisezur', 1262, 1273),\n",
       " ('Hinzurechnungsbetrag', 3791, 3811),\n",
       " ('Ju', 304, 306),\n",
       " ('Ki', 219, 221),\n",
       " ('Ki', 1552, 1554),\n",
       " ('Kilometer', 3932, 3941),\n",
       " ('Kinderlose', 4043, 4053),\n",
       " ('Kirchensteuer', 2166, 2179),\n",
       " ('Kirchensteuer', 3222, 3235),\n",
       " ('Km', 3929, 3931),\n",
       " ('Konfession', 228, 238),\n",
       " ('Konto', 3700, 3705),\n",
       " ('Kosten', 3653, 3659),\n",
       " ('Kostenst', 1374, 1382),\n",
       " ('Krankenkasse', 454, 466),\n",
       " ('Krankh', 538, 544),\n",
       " ('Krankh', 766, 772),\n",
       " ('Kug-Auszahlung', 3433, 3447),\n",
       " ('Laufender', 3827, 3836),\n",
       " ('Lgesamt', 3383, 3390),\n",
       " ('Log', 1822, 1825),\n",
       " ('Lohnart', 1639, 1646),\n",
       " ('Lohnart', 3067, 3074),\n",
       " ('Lohnsteuer', 2151, 2161),\n",
       " ('Lohnsteuer', 3173, 3183),\n",
       " ('Maßgeblicher', 4274, 4286),\n",
       " ('Mehrfachbeschäftigung', 4159, 4180),\n",
       " ('Menge', 1694, 1699),\n",
       " ('Messen', 1909, 1915),\n",
       " ('Million', 4088, 4095),\n",
       " ('Mio', 4083, 4086),\n",
       " ('Mr', 982, 984),\n",
       " ('Mustermandant', 1854, 1867),\n",
       " ('Musterstraße', 1590, 1602),\n",
       " ('Nachberechnung', 4135, 4149),\n",
       " ('Netto-Abzüge', 2970, 2982),\n",
       " ('Netto-Bezüge', 108, 120),\n",
       " ('Netto-Bezüge', 2957, 2969),\n",
       " ('Netto-Lohn', 4198, 4208),\n",
       " ('Netto-Stundenlohn', 4209, 4226),\n",
       " ('Netto-Verdienst', 2889, 2904),\n",
       " ('Nr', 1189, 1191),\n",
       " ('Nr', 1231, 1233),\n",
       " ('Nummer', 440, 446),\n",
       " ('Nürnberg', 1614, 1622),\n",
       " ('Pauschalierung', 3975, 3989),\n",
       " ('Pers', 1183, 1187),\n",
       " ('Personal-Nr', 180, 191),\n",
       " ('Pfändung', 3495, 3503),\n",
       " ('Prozentsatz', 1714, 1725),\n",
       " ('Präsentationen', 1893, 1907),\n",
       " ('Rest', 3504, 3508),\n",
       " ('Rest', 3548, 3552),\n",
       " ('Resturlaub', 341, 351),\n",
       " ('Satz', 4403, 4407),\n",
       " ('Schulungen', 1917, 1927),\n",
       " ('Solidaritätszuschlag', 2182, 2202),\n",
       " ('Solidaritätszuschlag', 3273, 3293),\n",
       " ('Solz', 1570, 1574),\n",
       " ('Sonstiger', 3845, 3854),\n",
       " ('Sozialversicherung', 2030, 2048),\n",
       " ('St', 294, 296),\n",
       " ('St', 1488, 1490),\n",
       " ('St', 1554, 1556),\n",
       " ('St', 3943, 3945),\n",
       " ('St-Jahresausgl', 1469, 1483),\n",
       " ('Sta', 1002, 1005),\n",
       " ('Sta', 1023, 1026),\n",
       " ('Std', 746, 749),\n",
       " ('Std', 759, 762),\n",
       " ('Std', 774, 777),\n",
       " ('Std', 787, 790),\n",
       " ('Std', 3909, 3912),\n",
       " ('Steuer', 965, 971),\n",
       " ('Steuer', 2023, 2029),\n",
       " ('Steuer-Brutto', 2131, 2144),\n",
       " ('Steuer-Brutto', 3122, 3135),\n",
       " ('Steuerfreie', 3350, 3361),\n",
       " ('Steuerrechtliche', 2225, 2241),\n",
       " ('Stuck', 3946, 3951),\n",
       " ('Stunden', 3913, 3920),\n",
       " ('Tage', 521, 525),\n",
       " ('Tage', 533, 537),\n",
       " ('Tage', 557, 561),\n",
       " ('Tage', 3923, 3927),\n",
       " ('Tausend', 4070, 4077),\n",
       " ('Testort', 1053, 1060),\n",
       " ('Teststraße', 1030, 1040),\n",
       " ('Tg', 298, 300),\n",
       " ('Tg', 331, 333),\n",
       " ('Tg', 512, 514),\n",
       " ('Tg', 546, 548),\n",
       " ('Tsd', 4066, 4069),\n",
       " ('Ur', 306, 308),\n",
       " ('Url', 315, 318),\n",
       " ('Url', 327, 330),\n",
       " ('Urlaub', 527, 533),\n",
       " ('Urlaub', 752, 758),\n",
       " ('Verdiensibescheinigung', 2905, 2927),\n",
       " ('Versteuerung', 4119, 4131),\n",
       " ('Vfür', 4039, 4043),\n",
       " ('Vinkl', 4302, 4307),\n",
       " ('Vorjahr', 4235, 4242),\n",
       " ('Wöch', 1394, 1398),\n",
       " ('Zeitlohn', 993, 1001),\n",
       " ('Zt', 1403, 1405),\n",
       " ('Zuk', 3411, 3414),\n",
       " ('Zus', 3645, 3648),\n",
       " ('Zusatzbeitrag', 4308, 4321),\n",
       " ('Überstd', 1007, 1014)}"
      ]
     },
     "execution_count": 18,
     "metadata": {},
     "output_type": "execute_result"
    }
   ],
   "source": [
    "set([(span['value'], span['start_offset'], span['end_offset']) for span in regex_matches(doc.text, tokenizer)])"
   ]
  },
  {
   "cell_type": "markdown",
   "metadata": {},
   "source": [
    "## More Details of Annotations\n",
    "\n",
    "Keep the information of Text in a Document.\n",
    "\n",
    "Todo: the endpoint test_get_project_labels does no longer include the document annotation_sets, as the relation of\n",
    "a label and a annotation_set can be configured by a user while labeling. We might ne to model the relation of many\n",
    "Annotations to one AnnotationSet in a more explicit way.\n",
    "\n",
    "Example document: \"I earn 15 Euro per hour.\"\n",
    "\n",
    "Assume the word \"15\" should be labeled. The project contains the labels \"Amount\" and \"Tax\".\n",
    "\n",
    "# CREATE\n",
    "\n",
    "Annotations can be created by:\n",
    "\n",
    "- Human: Who is using the web interface\n",
    "- Import: A human user imports extractions and uses \"Copy extractions to annotations\" admin action\n",
    "- Training: Using the konfuzio package you create an annotation online, via an Bot user\n",
    "- Text FB: Text Feedback - External API user, sends new extraction without ID, which contains only the offset string\n",
    "- Extraction: Internal Process after we receive a new document from an External API user\n",
    "- Extraction FB: External Feedback - External API user, sends feedback to existing extraction incl. ID\n",
    "\n",
    "ID column: relates to the Annotation instance created in the database\n",
    "is_revised: A human revisor had a look at this annotation\n",
    "correct: Human claims that this annotation should be extracted in future documents\n",
    "\n",
    "The KONFUZIO package will use annotations which are revised or (no XOR) correct.\n",
    "\n",
    "| ID | Creator       | is_revised  | correct       | User      | Label   | Action  |\n",
    "|:---|:--------------|:------------|:------------- |:----------|:--------|:--------|\n",
    "| 1  | Human         | False       | True          | Human     | Amount  | ALLOWED |\n",
    "| 2  | Import        | False       | False         | None      | Amount  | ALLOWED | Extraction.created_by_import\n",
    "| 3  | Training      | False       | False         | Bot       | Amount  | ALLOWED |\n",
    "| 4  | Extraction    | False       | False         | External  | Amount  | ALLOWED | one annotation per extraction\n",
    "| X  | Text FB       | -----       | -----         | ---       | Amount  | see 2   | only create extraction\n",
    "\n",
    "# REVISE\n",
    "\n",
    "Annotations, as they heave been created, can be revised by:\n",
    "\n",
    "- Human: Who is using the web interface\n",
    "- Revise Feedback: ?\n",
    "\n",
    "## Positive Feedback will change\n",
    "\n",
    "| ID | Revisor       | is_revised  | correct       | User      | Label   | Action  |\n",
    "|:---|:--------------|:------------|:------------- |:----------|:--------|:--------|\n",
    "| 1  | Human         | NA          | NA            | NA        | Amount  | HIDDEN  |\n",
    "| 2  | Human         | True        | True          | Human     | Amount  | ALLOWED |\n",
    "| 3  | Human         | True        | True          | Bot       | Amount  | ALLOWED | -> ? does PUT update User\n",
    "| 4  | Human         | NA          | NA            | External  | Amount  | HIDDEN  |\n",
    "| 1  | Extraction FB | True        | True          | Human     | Amount  | ALLOWED |\n",
    "| 2  | Extraction FB | ----        | ----          | ----      | ----    | ----    | External user does not get ID\n",
    "| 3  | Extraction FB | ----        | ----          | ----      | ----    | ----    | External user does not get ID\n",
    "| 4  | Extraction FB | True        | True          | Bot       | Amount  | ALLOWED |\n",
    "\n",
    "As positive feedback displays the annotation in the interface but stores them as correct examples, the\n",
    "word \"15\" should NOT be labeled anew. This time the creator might choose between label \"Amount\" and \"Tax\".\n",
    "\n",
    "| ID | Creator       | is_revised  | correct       | User      | Label   | Action  |\n",
    "|:---|:--------------|:------------|:------------- |:----------|:--------|:--------|\n",
    "| 5  | Human         | False       | True          | Human     | Amount  | DENIED  |\n",
    "| 6  | Import        | True        | False         | None      | Amount  | DENIED  |\n",
    "| 7  | Training      | False       | False         | Bot       | Amount  | DENIED  |\n",
    "| 8  | Extraction FB | ?           | ?             | ?         | Amount  | DENIED  |\n",
    "| 9  | Human         | False       | True          | Human     | Tax     | DENIED  |\n",
    "| 10 | Import        | ----        | ----          | ----      | Tax     | DENIED  | External user does not get ID\n",
    "| 11 | Training      | ----        | ----          | ----      | Tax     | DENIED  | External user does not get ID\n",
    "| 12 | Extraction FB | ?           | ?             | ?         | Tax     | DENIED  |\n",
    "\n",
    "## Negative Feedback will change\n",
    "\n",
    "- The user clicks on delete button next to the annotation in the web interface.\n",
    "- Incorrect or deleted annotations will no longer be displayed in the web interface.\n",
    "\n",
    "| ID | Revisor       | is_revised  | correct       | User      | Label   | Action  |\n",
    "|:---|:--------------|:------------|:------------- |:----------|:--------|:--------|\n",
    "| 1  | Human         | DELETED     | DELETED       | DELETED   | Amount  | ALLOWED | delete revised=F, correct=T\n",
    "| 2  | Human         | True        | False         | None      | Amount  | ALLOWED | Update three fields\n",
    "| 3  | Human         | True        | False         | Bot       | Amount  | ALLOWED | Does update is_revised field\n",
    "| 4  | Human         | ?           | ?             | ?         | Amount  | ALLOWED |\n",
    "| 1  | Extraction FB | True        | False         | ?         | Amount  | ALLOWED |\n",
    "| 2  | Extraction FB | ----        | ----          | ----      | Amount  | ALLOWED | External user does not get ID\n",
    "| 3  | Extraction FB | ----        | ----          | ----      | Amount  | ALLOWED | External user does not get ID\n",
    "| 4  | Extraction FB | True        | False         | External  | Amount  | ALLOWED |\n",
    "\n",
    "As negative feedback removed any annotation from the web interface but stores them as incorrect examples, the\n",
    "word \"15\" can be labeled anew. This time the creator might choose between label \"Amount\" and \"Tax\".\n",
    "\n",
    "| ID | Creator       | is_revised  | correct       | User      | Label   | Action  |\n",
    "|:---|:--------------|:------------|:------------- |:----------|:--------|:--------|\n",
    "| 5  | Human         | False       | True          | Human     | Amount  | ?DENIED | -> in contrast to annotation 1\n",
    "| 6  | Import        | ---         | ---           | ---       | ---     | DENIED  |\n",
    "| 7  | Training      | ---         | ---           | ---       | ---     | DENIED  |\n",
    "| 8  | Extraction FB | ?           | ?             | ?         | Amount  | NA      | Need to send new document\n",
    "| 9  | Human         | False       | True          | Human     | Tax     | ALLOWED | now we have 2 annotations\n",
    "| 10 | Import        | False       | False         | None      | Tax     | ALLOWED |\n",
    "| 11 | Training      | False       | False         | Bot       | Tax     | ALLOWED |\n",
    "| 12 | Extraction FB | ?           | ?             | ?         | Tax     | NA      | Need to send new document"
   ]
  }
 ],
 "metadata": {
  "kernelspec": {
   "display_name": "Python 3 (ipykernel)",
   "language": "python",
   "name": "python3"
  },
  "language_info": {
   "codemirror_mode": {
    "name": "ipython",
    "version": 3
   },
   "file_extension": ".py",
   "mimetype": "text/x-python",
   "name": "python",
   "nbconvert_exporter": "python",
   "pygments_lexer": "ipython3",
   "version": "3.8.13"
  }
 },
 "nbformat": 4,
 "nbformat_minor": 1
}
