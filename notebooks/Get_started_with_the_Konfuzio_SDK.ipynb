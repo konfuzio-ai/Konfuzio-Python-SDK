{
  "cells": [
    {
      "cell_type": "markdown",
      "metadata": {
        "colab_type": "text",
        "id": "view-in-github"
      },
      "source": [
        "<a href=\"https://colab.research.google.com/github/konfuzio-ai/konfuzio-sdk/blob/master/notebooks/Get_started_with_the_Konfuzio_SDK.ipynb\" target=\"_parent\"><img src=\"https://colab.research.google.com/assets/colab-badge.svg\" alt=\"Open In Colab\"/></a>"
      ]
    },
    {
      "cell_type": "markdown",
      "metadata": {
        "id": "o89zv03_h8TO"
      },
      "source": [
        "# Get started with the **Konfuzio SDK** 🚀\n",
        "\n",
        "\n",
        "The [**Konfuzio SDK**](https://dev.konfuzio.com/sdk/index.html#what-is-the-konfuzio-sdk) (Konfuzio Software Development Kit) \\\n",
        "provides a [Python API](https://dev.konfuzio.com/sdk/sourcecode.html#api-reference) to interact with the [Konfuzio Server](https://dev.konfuzio.com/web/index.html#what-is-the-konfuzio-server).\n",
        "\n",
        "This **notebook shows** how to:\n",
        "- setup **credentials** you need to connect 🔑\n",
        "- **install** the SDK in Google Colab 💿\n",
        "- **initialize** a connection to the Konfuzio Server 🔗\n",
        "- **run** an example use case 🤓\n",
        "\n",
        "---\n",
        "\n"
      ]
    },
    {
      "cell_type": "code",
      "execution_count": null,
      "metadata": {
        "colab": {
          "base_uri": "https://localhost:8080/"
        },
        "id": "ElHsEZFPSQvS",
        "outputId": "4fef4182-0cee-4bf0-a80b-a6bec4f806be"
      },
      "outputs": [],
      "source": [
        "# @title ## **Credentials** { display-mode: \"form\" }\n",
        "\n",
        "# @markdown If you have no account yet, create one [here](https://app.konfuzio.com/accounts/signup/).\n",
        "# @markdown \\\n",
        "# @markdown \\\n",
        "from getpass import getpass\n",
        "\n",
        "# @markdown ### Enter user name for Konfuzio Server\n",
        "User_Name = \"\" # @param {type:\"string\"}\n",
        "\n",
        "# @markdown ### Enter server host url\n",
        "Host = \"https://app.konfuzio.com\" # @param {type:\"raw\"} #dafault: \"https://app.konfuzio.com\"\n",
        "Password = getpass('Password you use to login to Konfuzio Server: ')"
      ]
    },
    {
      "cell_type": "markdown",
      "metadata": {
        "id": "4KSyFFH-h8Ff"
      },
      "source": [
        "## **Install** 💿\n",
        "\n",
        "There are **two** installation **methods**\n",
        "1. **with** the AI-related dependencies\n",
        "  ```bash\n",
        "  pip install konfuzio_sdk\n",
        "  ```\n",
        "2. **without** the AI-related dependencies\n",
        "  ```bash\n",
        "  pip install konfuzio_sdk[ai]\n",
        "  ```\n",
        "\n",
        "By **default**, the SDK is installed **without the AI-related dependencies** like torch or transformers and allows **for using** only the **Data-related SDK concepts** but not the AI models.\n",
        "\n",
        "**Here** we install the SDK **with AI-related dependencies**, **for using** it **with and without AI components**"
      ]
    },
    {
      "cell_type": "code",
      "execution_count": null,
      "metadata": {
        "colab": {
          "base_uri": "https://localhost:8080/"
        },
        "id": "HO3u9qcUrc2l",
        "outputId": "feb57968-c609-4488-d064-6f5ece88579a"
      },
      "outputs": [],
      "source": [
        "# @title #### **Run intallation** { display-mode: \"form\" }\n",
        "\n",
        "# @markdown If you have no account yet, create one [here](https://app.konfuzio.com/accounts/signup/).\n",
        "# @markdown \\\n",
        "# @markdown \\\n",
        "Method = 'with AI dependencies' # @param [\"with AI dependencies\", \"without AI dependencies\"]\n",
        "\n",
        "print(f\"Installing Konfuzio SDK {Method}.\")\n",
        "\n",
        "if Method == 'without AI dependencies':\n",
        "  # without the AI-related dependencies\n",
        "  !pip install -q konfuzio_sdk\n",
        "else:\n",
        "  # with the AI-related dependencies\n",
        "  !pip install -q konfuzio_sdk[ai]\n",
        "print(f\"\\n[SUCCESS] SDK installed!\\n\")"
      ]
    },
    {
      "cell_type": "markdown",
      "metadata": {
        "id": "Ry-_EZU7uEpg"
      },
      "source": [
        "## Initialize 🔗\n",
        "\n",
        "**Initialize a connection** to the Konfuzio Server by passing your credentials **manually** with:\n",
        "\n",
        "```bash\n",
        "konfuzio_sdk init\n",
        "```\n",
        "\n",
        "or as an alternative **via command line arguments**:\n",
        "```bash\n",
        "konfuzio_sdk init --user {User_Name} --password {Password} --host {Host}\n",
        "```\n",
        "\n",
        "The init command will create a Token to connect to the Konfuzio Server. This will create variables `KONFUZIO_USER`, `KONFUZIO_TOKEN` and `KONFUZIO_HOST` in an .env file in your working directory.\n"
      ]
    },
    {
      "cell_type": "markdown",
      "metadata": {
        "id": "Idnwyja5yoBL"
      },
      "source": [
        "#### **Run the initialization**"
      ]
    },
    {
      "cell_type": "code",
      "execution_count": null,
      "metadata": {
        "colab": {
          "base_uri": "https://localhost:8080/"
        },
        "id": "pQPvIB_lkpMq",
        "outputId": "00f8d1f3-ea2a-402a-8337-42fe5be77a4d"
      },
      "outputs": [],
      "source": [
        "! konfuzio_sdk init --user {User_Name} --password {Password} --host {Host}"
      ]
    },
    {
      "cell_type": "markdown",
      "metadata": {
        "id": "9uJ-Vi4pysqa"
      },
      "source": [
        "\n",
        "#### **Check installation and initialization**"
      ]
    },
    {
      "cell_type": "code",
      "execution_count": null,
      "metadata": {
        "colab": {
          "base_uri": "https://localhost:8080/"
        },
        "id": "_28WTSzOix-C",
        "outputId": "f92a7716-5729-47e3-b892-7d98754f0687"
      },
      "outputs": [],
      "source": [
        "try:\n",
        "  from konfuzio_sdk import KONFUZIO_HOST, KONFUZIO_USER\n",
        "  print(f\"\\nSuccesfully initialized the server connection!\\nYou are connected with {KONFUZIO_USER} to {KONFUZIO_HOST}.\")\n",
        "except:\n",
        "  print(\"\\nYou need to restart the Google Colab Session. Go to: Runtime -> Restart Session or press Ctrl+M+. \\nThen rerun this cell and continue.\\n\")"
      ]
    },
    {
      "cell_type": "markdown",
      "metadata": {
        "id": "7AjBHmA0itiA"
      },
      "source": [
        "## **Run** 🤓\n",
        "\n",
        "Run an example use case."
      ]
    },
    {
      "cell_type": "markdown",
      "metadata": {
        "id": "O-aybQ4s2gvO"
      },
      "source": [
        "#### **Get all project names and ids**"
      ]
    },
    {
      "cell_type": "code",
      "execution_count": 2,
      "metadata": {
        "id": "4yx3ncLFz5pC"
      },
      "outputs": [],
      "source": [
        "from konfuzio_sdk.api import get_project_list"
      ]
    },
    {
      "cell_type": "code",
      "execution_count": 3,
      "metadata": {
        "id": "fcZaeqIIhYmC"
      },
      "outputs": [],
      "source": [
        "# get all projects\n",
        "projects = get_project_list()\n",
        "projects = [(p['name'], p['id']) for p in projects]"
      ]
    },
    {
      "cell_type": "code",
      "execution_count": null,
      "metadata": {
        "colab": {
          "base_uri": "https://localhost:8080/"
        },
        "id": "OZvs2HVU0A1s",
        "outputId": "a98bbd80-f445-4b92-e638-b7200ba7e39c"
      },
      "outputs": [],
      "source": [
        "# print projects and ids\n",
        "header = (\"Project Name\", \"Project ID\")\n",
        "print(f\"{header[0]:<70} {header[1]:>}\")\n",
        "for name, id in projects:\n",
        "  print(f\"{name:<70} {id:>}\")"
      ]
    },
    {
      "cell_type": "markdown",
      "metadata": {
        "id": "ccIs-R8p2qCo"
      },
      "source": [
        "#### **Get labels and documents form a specific project**"
      ]
    },
    {
      "cell_type": "code",
      "execution_count": 5,
      "metadata": {
        "id": "K74yTcFv2fQ-"
      },
      "outputs": [],
      "source": [
        "from konfuzio_sdk.data import Project"
      ]
    },
    {
      "cell_type": "code",
      "execution_count": 6,
      "metadata": {
        "id": "Vm2sRXRqhzsb"
      },
      "outputs": [],
      "source": [
        "# @title ##### Enter Project id { display-mode: \"form\" }\n",
        "project_id = 14848 # @param { type:\"string\"} # exchange with the project id of your choice\n",
        "\n",
        "if not project_id:\n",
        "  try:\n",
        "    project_id = projects[0][1]\n",
        "    print(f\"No project id entered, so using the first id which is {project_id}.\")\n",
        "  except:\n",
        "    print(f\"No project could be loaded from Konfuzio Server. Make sure that you have setup a valid Project\")"
      ]
    },
    {
      "cell_type": "code",
      "execution_count": 7,
      "metadata": {
        "id": "_3OBPYg7zGXS"
      },
      "outputs": [],
      "source": [
        "# get project\n",
        "project = Project(id_=project_id)"
      ]
    },
    {
      "cell_type": "code",
      "execution_count": null,
      "metadata": {
        "colab": {
          "base_uri": "https://localhost:8080/"
        },
        "id": "ElIZn51I3hz1",
        "outputId": "1fed41c3-dfd8-4201-ef2c-bb6c0ef0ef6c"
      },
      "outputs": [],
      "source": [
        "# list project labels\n",
        "labels = project.labels\n",
        "for label in labels:\n",
        "  print(label)"
      ]
    },
    {
      "cell_type": "code",
      "execution_count": null,
      "metadata": {
        "colab": {
          "base_uri": "https://localhost:8080/"
        },
        "id": "9RZhQRPUTNty",
        "outputId": "22778405-898d-492d-e4bb-a2d6dc666b5a"
      },
      "outputs": [],
      "source": [
        "# list project documents\n",
        "documents = project.documents\n",
        "for doc in documents:\n",
        "  print(doc)"
      ]
    },
    {
      "cell_type": "code",
      "execution_count": 9,
      "metadata": {
        "id": "YOuDGUSJhpME"
      },
      "outputs": [],
      "source": []
    }
  ],
  "metadata": {
    "colab": {
      "provenance": []
    },
    "kernelspec": {
      "display_name": "Python 3",
      "name": "python3"
    },
    "language_info": {
      "name": "python"
    }
  },
  "nbformat": 4,
  "nbformat_minor": 0
}
