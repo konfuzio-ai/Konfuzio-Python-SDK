{
  "nbformat": 4,
  "nbformat_minor": 0,
  "metadata": {
    "colab": {
      "provenance": []
    },
    "kernelspec": {
      "name": "python3",
      "display_name": "Python 3"
    },
    "language_info": {
      "name": "python"
    }
  },
  "cells": [
    {
      "cell_type": "markdown",
      "metadata": {
        "id": "view-in-github",
        "colab_type": "text"
      },
      "source": [
        "<a href=\"https://colab.research.google.com/github/konfuzio-ai/konfuzio-sdk/blob/master/notebooks/Get_started_with_the_Konfuzio_SDK.ipynb\" target=\"_parent\"><img src=\"https://colab.research.google.com/assets/colab-badge.svg\" alt=\"Open In Colab\"/></a>"
      ]
    },
    {
      "cell_type": "markdown",
      "source": [
        "# Get started with the **Konfuzio SDK** 🚀\n",
        "\n",
        "\n",
        "The [**Konfuzio SDK**](https://dev.konfuzio.com/sdk/index.html#what-is-the-konfuzio-sdk) (Konfuzio Software Development Kit) \\\n",
        "provides a [Python API](https://dev.konfuzio.com/sdk/sourcecode.html#api-reference) to interact with the [Konfuzio Server](https://dev.konfuzio.com/web/index.html#what-is-the-konfuzio-server).\n",
        "\n",
        "This **notebook shows** how to:\n",
        "- setup **credentials** you need to connect 🔑\n",
        "- **install** the SDK in Google Colab 💿\n",
        "- **initialize** a connection to the Konfuzio Server 🔗\n",
        "- **run** an example use case 🤓\n",
        "\n",
        "---\n",
        "\n"
      ],
      "metadata": {
        "id": "o89zv03_h8TO"
      }
    },
    {
      "cell_type": "code",
      "source": [
        "# @title ## **Credentials** { display-mode: \"form\" }\n",
        "\n",
        "# @markdown If you have no account yet, create one [here](https://app.konfuzio.com/accounts/signup/).\n",
        "# @markdown \\\n",
        "# @markdown \\\n",
        "from getpass import getpass\n",
        "\n",
        "# @markdown ### Enter user name for Konfuzio Server\n",
        "User_Name = \"\" # @param {type:\"string\"}\n",
        "\n",
        "# @markdown ### Enter server host url\n",
        "Host = \"https://app.konfuzio.com\" # @param {type:\"raw\"} #dafault: \"https://app.konfuzio.com\"\n",
        "Password = getpass('Password you use to login to Konfuzio Server: ')"
      ],
      "metadata": {
        "colab": {
          "base_uri": "https://localhost:8080/"
        },
        "id": "ElHsEZFPSQvS",
        "outputId": "4fef4182-0cee-4bf0-a80b-a6bec4f806be"
      },
      "execution_count": 6,
      "outputs": [
        {
          "name": "stdout",
          "output_type": "stream",
          "text": [
            "Password you use to login to Konfuzio Server: ··········\n"
          ]
        }
      ]
    },
    {
      "cell_type": "markdown",
      "source": [
        "## **Install** 💿\n",
        "\n",
        "There are **two** installation **methods**\n",
        "1. **with** the AI-related dependencies\n",
        "  ```bash\n",
        "  pip install konfuzio_sdk\n",
        "  ```\n",
        "2. **without** the AI-related dependencies\n",
        "  ```bash\n",
        "  pip install konfuzio_sdk[ai]\n",
        "  ```\n",
        "\n",
        "By **default**, the SDK is installed **without the AI-related dependencies** like torch or transformers and allows **for using** only the **Data-related SDK concepts** but not the AI models.\n",
        "\n",
        "**Here** we install the SDK **with AI-related dependencies**, **for using** it **with and without AI components**"
      ],
      "metadata": {
        "id": "4KSyFFH-h8Ff"
      }
    },
    {
      "cell_type": "code",
      "source": [
        "# @title #### **Run intallation** { display-mode: \"form\" }\n",
        "\n",
        "# @markdown If you have no account yet, create one [here](https://app.konfuzio.com/accounts/signup/).\n",
        "# @markdown \\\n",
        "# @markdown \\\n",
        "Method = 'with AI dependencies' # @param [\"with AI dependencies\", \"without AI dependencies\"]\n",
        "\n",
        "print(f\"Installing Konfuzio SDK {Method}.\")\n",
        "\n",
        "if Method == 'without AI dependencies':\n",
        "  # without the AI-related dependencies\n",
        "  !pip install -q konfuzio_sdk\n",
        "else:\n",
        "  # with the AI-related dependencies\n",
        "  !pip install -q konfuzio_sdk[ai]\n",
        "print(f\"\\n[SUCCESS] SDK installed!\\n\")"
      ],
      "metadata": {
        "colab": {
          "base_uri": "https://localhost:8080/"
        },
        "id": "HO3u9qcUrc2l",
        "outputId": "feb57968-c609-4488-d064-6f5ece88579a"
      },
      "execution_count": 7,
      "outputs": [
        {
          "output_type": "stream",
          "name": "stdout",
          "text": [
            "Installing Konfuzio SDK with AI dependencies.\n",
            "  Installing build dependencies ... \u001b[?25l\u001b[?25hdone\n",
            "  Getting requirements to build wheel ... \u001b[?25l\u001b[?25hdone\n",
            "  Preparing metadata (pyproject.toml) ... \u001b[?25l\u001b[?25hdone\n",
            "\n",
            "[SUCCESS] SDK installed!\n",
            "\n"
          ]
        }
      ]
    },
    {
      "cell_type": "markdown",
      "source": [
        "## Initialize 🔗\n",
        "\n",
        "**Initialize a connection** to the Konfuzio Server by passing your credentials **manually** with:\n",
        "\n",
        "```bash\n",
        "sudo konfuzio_sdk init\n",
        "```\n",
        "\n",
        "or as an alternative **via command line arguments**:\n",
        "```bash\n",
        "sudo konfuzio_sdk init --user {User_Name} --password {Password} --host {Host}\n",
        "```\n",
        "\n",
        "The init command will create a Token to connect to the Konfuzio Server. This will create variables `KONFUZIO_USER`, `KONFUZIO_TOKEN` and `KONFUZIO_HOST` in an .env file in your working directory.\n"
      ],
      "metadata": {
        "id": "Ry-_EZU7uEpg"
      }
    },
    {
      "cell_type": "markdown",
      "source": [
        "#### **Run the initialization**"
      ],
      "metadata": {
        "id": "Idnwyja5yoBL"
      }
    },
    {
      "cell_type": "code",
      "source": [
        "! konfuzio_sdk init --user {User_Name} --password {Password} --host {Host}"
      ],
      "metadata": {
        "colab": {
          "base_uri": "https://localhost:8080/"
        },
        "id": "pQPvIB_lkpMq",
        "outputId": "00f8d1f3-ea2a-402a-8337-42fe5be77a4d"
      },
      "execution_count": 8,
      "outputs": [
        {
          "output_type": "stream",
          "name": "stdout",
          "text": [
            "ERROR:root:A library tensorflow-cpu has not been found, so Konfuzio SDK is initialized without the AI components. To install Konfuzio SDK with all the AI-related libraries, see https://dev.konfuzio.com/sdk/get_started/index.html#install-konfuzio-sdk-package.\n",
            "ERROR:root:A library timm has not been found, so Konfuzio SDK is initialized without the AI components. To install Konfuzio SDK with all the AI-related libraries, see https://dev.konfuzio.com/sdk/get_started/index.html#install-konfuzio-sdk-package.\n",
            "[SUCCESS] SDK initialized!\n"
          ]
        }
      ]
    },
    {
      "cell_type": "markdown",
      "source": [
        "\n",
        "#### **Check installation and initialization**"
      ],
      "metadata": {
        "id": "9uJ-Vi4pysqa"
      }
    },
    {
      "cell_type": "code",
      "source": [
        "try:\n",
        "  from konfuzio_sdk import KONFUZIO_HOST, KONFUZIO_USER\n",
        "  print(f\"\\nSuccesfully initialized the server connection!\\nYou are connected with {KONFUZIO_USER} to {KONFUZIO_HOST}.\")\n",
        "except:\n",
        "  print(\"\\nYou need to restart the Google Colab Session. Go to: Runtime -> Restart Session or press Ctrl+M+. \\nThen rerun this cell and continue.\\n\")"
      ],
      "metadata": {
        "id": "_28WTSzOix-C",
        "colab": {
          "base_uri": "https://localhost:8080/"
        },
        "outputId": "f92a7716-5729-47e3-b892-7d98754f0687"
      },
      "execution_count": 1,
      "outputs": [
        {
          "output_type": "stream",
          "name": "stderr",
          "text": [
            "ERROR:root:A library tensorflow-cpu has not been found, so Konfuzio SDK is initialized without the AI components. To install Konfuzio SDK with all the AI-related libraries, see https://dev.konfuzio.com/sdk/get_started/index.html#install-konfuzio-sdk-package.\n",
            "ERROR:root:A library timm has not been found, so Konfuzio SDK is initialized without the AI components. To install Konfuzio SDK with all the AI-related libraries, see https://dev.konfuzio.com/sdk/get_started/index.html#install-konfuzio-sdk-package.\n"
          ]
        },
        {
          "output_type": "stream",
          "name": "stdout",
          "text": [
            "\n",
            "Succesfully initialized the server connection!\n",
            "You are connected with nico.engelmann@konfuzio.com to https://app.konfuzio.com.\n"
          ]
        }
      ]
    },
    {
      "cell_type": "markdown",
      "source": [
        "## **Run** 🤓\n",
        "\n",
        "Run an example use case."
      ],
      "metadata": {
        "id": "7AjBHmA0itiA"
      }
    },
    {
      "cell_type": "markdown",
      "source": [
        "#### **Get all project names and ids**"
      ],
      "metadata": {
        "id": "O-aybQ4s2gvO"
      }
    },
    {
      "cell_type": "code",
      "source": [
        "from konfuzio_sdk.api import get_project_list"
      ],
      "metadata": {
        "id": "4yx3ncLFz5pC"
      },
      "execution_count": 2,
      "outputs": []
    },
    {
      "cell_type": "code",
      "source": [
        "# get all projects\n",
        "projects = get_project_list()\n",
        "projects = [(p['name'], p['id']) for p in projects]"
      ],
      "metadata": {
        "id": "fcZaeqIIhYmC"
      },
      "execution_count": 3,
      "outputs": []
    },
    {
      "cell_type": "code",
      "source": [
        "# print projects and ids\n",
        "header = (\"Project Name\", \"Project ID\")\n",
        "print(f\"{header[0]:<70} {header[1]:>}\")\n",
        "for name, id in projects:\n",
        "  print(f\"{name:<70} {id:>}\")"
      ],
      "metadata": {
        "colab": {
          "base_uri": "https://localhost:8080/"
        },
        "id": "OZvs2HVU0A1s",
        "outputId": "a98bbd80-f445-4b92-e638-b7200ba7e39c"
      },
      "execution_count": 4,
      "outputs": [
        {
          "output_type": "stream",
          "name": "stdout",
          "text": [
            "Project Name                                                           Project ID\n",
            "_2024_02_19_Testing                                                    14927\n",
            "_2024_02_22_Test_Marketplace_Forms_alias_AWS_Textract                  14940\n",
            "_2024_02_29_Test_Paragraph_Detection                                   14955\n",
            "_2024_03_07_Annual_Report                                              15025\n",
            "Medical Questionnaire - Testing                                        14392\n",
            "Demo Konfuzio                                                          14328\n",
            "Receipt\t(Rechnungsbeleg)                                               14809\n",
            "PSM - Rechnungen                                                       14787\n",
            "_2024-01-19_Checkbox_Labeling                                          14835\n",
            "Label Sets - Test Case                                                 14845\n",
            "Label Sets - Test Case - single Labels                                 14848\n"
          ]
        }
      ]
    },
    {
      "cell_type": "markdown",
      "source": [
        "#### **Get labels and documents form a specific project**"
      ],
      "metadata": {
        "id": "ccIs-R8p2qCo"
      }
    },
    {
      "cell_type": "code",
      "source": [
        "from konfuzio_sdk.data import Project"
      ],
      "metadata": {
        "id": "K74yTcFv2fQ-"
      },
      "execution_count": 5,
      "outputs": []
    },
    {
      "cell_type": "code",
      "source": [
        "# @title ##### Enter Project id { display-mode: \"form\" }\n",
        "project_id = 14848 # @param { type:\"string\"} # exchange with the project id of your choice\n",
        "\n",
        "if not project_id:\n",
        "  try:\n",
        "    project_id = projects[0][1]\n",
        "    print(f\"No project id entered, so using the first id which is {project_id}.\")\n",
        "  except:\n",
        "    print(f\"No project could be loaded from Konfuzio Server. Make sure that you have setup a valid Project\")"
      ],
      "metadata": {
        "id": "Vm2sRXRqhzsb"
      },
      "execution_count": 6,
      "outputs": []
    },
    {
      "cell_type": "code",
      "source": [
        "# get project\n",
        "project = Project(id_=project_id)"
      ],
      "metadata": {
        "id": "_3OBPYg7zGXS"
      },
      "execution_count": 7,
      "outputs": []
    },
    {
      "cell_type": "code",
      "source": [
        "# list project labels\n",
        "labels = project.labels\n",
        "for label in labels:\n",
        "  print(label)"
      ],
      "metadata": {
        "colab": {
          "base_uri": "https://localhost:8080/"
        },
        "id": "ElIZn51I3hz1",
        "outputId": "1fed41c3-dfd8-4201-ef2c-bb6c0ef0ef6c"
      },
      "execution_count": 8,
      "outputs": [
        {
          "output_type": "stream",
          "name": "stdout",
          "text": [
            "Label: Familienname_Person1\n",
            "Label: Familienname_Person2\n",
            "Label: Familienstand_Person1\n",
            "Label: Familienstand_Person2\n",
            "Label: Geburtsdatum_Person1\n",
            "Label: Geburtsdatum_Person2\n",
            "Label: Geburtsname_Person1\n",
            "Label: Geburtsname_Person2\n",
            "Label: Geschlecht_Person1\n",
            "Label: Geschlecht_Person2\n",
            "Label: Statsangehörigkeit_Person1\n",
            "Label: Statsangehörigkeit_Person2\n",
            "Label: Vorname_Person1\n",
            "Label: Vorname_Person2\n",
            "Label: NO_LABEL\n"
          ]
        }
      ]
    },
    {
      "cell_type": "code",
      "source": [
        "# list project documents\n",
        "documents = project.documents\n",
        "for doc in documents:\n",
        "  print(doc)"
      ],
      "metadata": {
        "colab": {
          "base_uri": "https://localhost:8080/"
        },
        "id": "9RZhQRPUTNty",
        "outputId": "22778405-898d-492d-e4bb-a2d6dc666b5a"
      },
      "execution_count": 9,
      "outputs": [
        {
          "output_type": "stream",
          "name": "stdout",
          "text": [
            "Document 0f0bf07c-SGB_II_Erstantrag_Sample_13-2.png (5772916)\n",
            "Document 8c473d0c-SGB_II_Erstantrag_Sample_05-2.png (5772917)\n",
            "Document 9757b168-SGB_II_Erstantrag_Sample_06-2.png (5772919)\n",
            "Document 9871c5f2-SGB_II_Erstantrag_Sample_09-2.png (5772920)\n",
            "Document 39668e1f-SGB_II_Erstantrag_Sample_10-2.png (5772921)\n",
            "Document 0890617c-SGB_II_Erstantrag_Sample_06-2.png (5772922)\n"
          ]
        }
      ]
    },
    {
      "cell_type": "code",
      "source": [],
      "metadata": {
        "id": "YOuDGUSJhpME"
      },
      "execution_count": 9,
      "outputs": []
    }
  ]
}
