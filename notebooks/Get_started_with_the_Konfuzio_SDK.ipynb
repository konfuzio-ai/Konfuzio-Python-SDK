{
  "cells": [
    {
      "cell_type": "markdown",
      "metadata": {
        "id": "o89zv03_h8TO"
      },
      "source": [
        "# Get started with the **Konfuzio SDK** 🚀\n",
        "\n",
        "\n",
        "The [**Konfuzio SDK**](https://dev.konfuzio.com/sdk/index.html#what-is-the-konfuzio-sdk) (Konfuzio Software Development Kit) \\\n",
        "provides a [Python API](https://dev.konfuzio.com/sdk/sourcecode.html#api-reference) to interact with the [Konfuzio Server](https://dev.konfuzio.com/web/index.html#what-is-the-konfuzio-server).\n",
        "\n",
        "This **notebook** will:\n",
        "- run the **installation** of Konfuzio SDK in Google Colab 💿\n",
        "- setup **credentials** you need to connect 🔑\n",
        "- run the **initialization** for a connection to Konfuzio Server 🔗\n",
        "- provide an example use case 🤓\n",
        "\n",
        "If you don't have a Konfuzio account yet, create one [here](https://app.konfuzio.com/accounts/signup/).\n",
        "\n",
        "---\n",
        "\n"
      ]
    },
    {
      "cell_type": "code",
      "execution_count": null,
      "metadata": {
        "id": "HO3u9qcUrc2l"
      },
      "outputs": [],
      "source": [
        "%%capture\n",
        "# @title # **Installation 💿** { display-mode: \"form\" }\n",
        "\n",
        "# @markdown There are **two** installation **methods**:\n",
        "\n",
        "# @markdown 1. **without**\\\n",
        "# @markdown `pip install konfuzio_sdk` \\\n",
        "\n",
        "# @markdown 2. and **with** the **AI-related dependencies** \\\n",
        "# @markdown `pip install konfuzio_sdk[ai]`\n",
        "\n",
        "# @markdown By default, the SDK is installed without the AI-related dependencies. \\\n",
        "# @markdown This method is for the data-related SDK concepts without AI components.\n",
        "# @markdown \\\n",
        "# @markdown \\\n",
        "# @markdown Here you can install the SDK according to your needs:\n",
        "# @markdown \\\n",
        "Method = 'without AI dependencies' # @param [\"without AI dependencies\", \"with AI dependencies\"]\n",
        "\n",
        "if Method == 'without AI dependencies':\n",
        "  # without the AI-related dependencies\n",
        "  !pip install -q konfuzio_sdk\n",
        "else:\n",
        "  # with the AI-related dependencies\n",
        "  !pip install -q konfuzio_sdk[ai]"
      ]
    },
    {
      "cell_type": "code",
      "execution_count": null,
      "metadata": {
        "id": "ElHsEZFPSQvS"
      },
      "outputs": [],
      "source": [
        "# @title # **Credentials and initialization 🔗** { display-mode: \"form\" }\n",
        "\n",
        "# @markdown If you don't have a Konfuzio account yet, create one [here](https://app.konfuzio.com/accounts/signup/).\n",
        "# @markdown \\\n",
        "# @markdown \\\n",
        "from getpass import getpass\n",
        "\n",
        "# @markdown ### Enter user name for Konfuzio Server\n",
        "\n",
        "User_Name = \"\" # @param {type:\"string\"}\n",
        "\n",
        "# @markdown ### Enter server host url\n",
        "Host = \"https://app.konfuzio.com\" # @param {type:\"raw\"} #default: https://app.konfuzio.com\n",
        "Password = getpass('Password you use to login to Konfuzio Server: ')\n",
        "\n",
        "# @markdown \\\n",
        "# @markdown With the given credentials we establish a connection to the Konfuzio Server by running:\n",
        "\n",
        "# @markdown ```bash\n",
        "# @markdown konfuzio_sdk init --user {User_Name} --password {Password} --host {Host}\n",
        "# @markdown ```\n",
        "\n",
        "! konfuzio_sdk init --user {User_Name} --password {Password} --host {Host}\n",
        "\n",
        "# @markdown The init command will create a Token to connect to the Konfuzio Server. This will create variables KONFUZIO_USER, KONFUZIO_TOKEN and KONFUZIO_HOST in an .env file in your working directory."
      ]
    },
    {
      "cell_type": "code",
      "execution_count": null,
      "metadata": {
        "id": "DtcBquBKcq88"
      },
      "outputs": [],
      "source": [
        "# @title # **Initialization checks ✅** { display-mode: \"form\" }\n",
        "\n",
        "# @markdown Google Colab needs a session restart after the installation of the SDK.\n",
        "\n",
        "# @markdown To do so: \\\n",
        "# @markdown   1. open **Runtime** dropdown\n",
        "# @markdown   2. select **Restart session**\n",
        "# @markdown   3. click `Yes` and **run** this **cell**.\n",
        "\n",
        "# @markdown This cell checks the runtime environment and if the initialized connection from Konfuzio SDK to Konfuzio Server is established correctly.\n",
        "\n",
        "from IPython.display import Markdown, display\n",
        "\n",
        "try:\n",
        "  from konfuzio_sdk import KONFUZIO_HOST, KONFUZIO_USER\n",
        "  display(Markdown(\"**SUCCESS** ✅\"),\n",
        "          Markdown(f\"Konfuzio SDK is installed and Colab session was restarted.\"))\n",
        "  if KONFUZIO_USER:\n",
        "    # if user is given the initialization was successful and the user, token and host are stored within a .env file\n",
        "    display(Markdown(\"**SUCCESS** ✅\"),\n",
        "            Markdown(f\"You are connected with {KONFUZIO_USER} to {KONFUZIO_HOST}.\"))\n",
        "  else:\n",
        "    display(Markdown(\"**Connection failure** ⚠️\"),\n",
        "            Markdown(\"Something went wrong while establishing a connection to the server.\"),\n",
        "            Markdown(\"Go to: **Runtime -> Disconnect and delete runtime**. Then run all cells from top to bottom again.\"))\n",
        "except:\n",
        "  display(Markdown(\"**Restart Session** ⚠️\"),\n",
        "          Markdown(\"You need to **restart 🔄** the Google **Colab Session**.\"),\n",
        "          Markdown(\"Go to: **Runtime -> Restart session**. Then run this cell again and continue.\"))\n",
        "\n"
      ]
    },
    {
      "cell_type": "markdown",
      "metadata": {
        "id": "7AjBHmA0itiA"
      },
      "source": [
        "# **Use the Konfuzio SDK** 🤓\n",
        "\n",
        "The following example shows how to create a new Konfuzio Project, create a Document to Konfuzio Server, as well as how you can access OCR information from the document."
      ]
    },
    {
      "cell_type": "markdown",
      "metadata": {
        "id": "6TJapLA3Q7I_"
      },
      "source": [
        "### Download an example document\n",
        "First we download an example document to work with. Optionally upload your own!"
      ]
    },
    {
      "cell_type": "code",
      "execution_count": null,
      "metadata": {
        "id": "OpLaSW7F95VT"
      },
      "outputs": [],
      "source": [
        "from pathlib import Path\n",
        "from IPython.display import Image\n",
        "\n",
        "document_name = \"example_document.png\"\n",
        "! wget -q https://raw.githubusercontent.com/konfuzio-ai/konfuzio-sdk/master/tests/test_data/png.png -O {document_name}\n",
        "document_path = Path(f\"{document_name}\")\n",
        "print(f\"You have downloaded a sample document to the following path: {document_path}\")\n",
        "print(\"Here is a preview of the raw document:\")\n",
        "Image(filename=document_name, width=1000)"
      ]
    },
    {
      "cell_type": "markdown",
      "metadata": {
        "id": "wk-VuSPyRSmX"
      },
      "source": [
        "### Konfuzio SDK imports"
      ]
    },
    {
      "cell_type": "code",
      "execution_count": null,
      "metadata": {
        "id": "09vW8zwb7PmI"
      },
      "outputs": [],
      "source": [
        "from konfuzio_sdk.data import Project, Document, Bbox\n",
        "from konfuzio_sdk.api import create_new_project\n",
        "from konfuzio_sdk import KONFUZIO_HOST\n",
        "from PIL import ImageDraw"
      ]
    },
    {
      "cell_type": "markdown",
      "metadata": {
        "id": "RaR_t_VKRW55"
      },
      "source": [
        "### Create a new Konfuzio Project"
      ]
    },
    {
      "cell_type": "code",
      "execution_count": null,
      "metadata": {
        "id": "ZxFnR8K07Qa-"
      },
      "outputs": [],
      "source": [
        "project_id = create_new_project(project_name=\"My KonfuzioSDK Project\")\n",
        "project = Project(id_=project_id)\n",
        "project_url = f\"{KONFUZIO_HOST}/admin/server/document/?project={project.id_}\"\n",
        "print(f\"🎉 You have created a new Konfuzio Project via the SDK!\\n\\nClick here to view it on Konfuzio Server:\\n{project_url}\")"
      ]
    },
    {
      "cell_type": "markdown",
      "metadata": {
        "id": "TtM1dIA0RnpC"
      },
      "source": [
        "### Upload a new Document to Konfuzio Server"
      ]
    },
    {
      "cell_type": "code",
      "execution_count": null,
      "metadata": {
        "id": "IobxcwFd_aEA"
      },
      "outputs": [],
      "source": [
        "document = Document.from_file(str(document_path), project=project, sync=True)\n",
        "print(f'Document {document.id_} successfully created.')\n",
        "document_url = f\"{KONFUZIO_HOST}/d/{document.id_}/\"\n",
        "print(f\"🥳 You have created a new Document and uploaded it to Konfuzio Server!\\n\\nClick here to view it:\\n{document_url}\")"
      ]
    },
    {
      "cell_type": "markdown",
      "metadata": {
        "id": "ENKJF8TuR3Ip"
      },
      "source": [
        "### Get OCR-extracted text from the document\n",
        "\n",
        "In the previous cell, you've uploaded a Document to Konfuzio Server. \\\n",
        "The Server already did OCR processing and returned the Document with this additional information.\n",
        "\n",
        "Let's take a look! 👀"
      ]
    },
    {
      "cell_type": "code",
      "execution_count": null,
      "metadata": {
        "id": "fbggNAHeK9vr"
      },
      "outputs": [],
      "source": [
        "text = document.text\n",
        "\n",
        "display(Markdown(text))"
      ]
    },
    {
      "cell_type": "markdown",
      "metadata": {
        "id": "vsBEpxTVSBTo"
      },
      "source": [
        "### Show OCR-recognized characters of the document\n",
        "See also [here](https://dev.konfuzio.com/sdk/explanations.html#coordinates-system)."
      ]
    },
    {
      "cell_type": "code",
      "execution_count": null,
      "metadata": {
        "id": "yIgrCf98TFhs"
      },
      "outputs": [],
      "source": [
        "page_index = 0 # first page only\n",
        "page = document.pages()[page_index]\n",
        "image = page.get_image(update=True)\n",
        "image = image.convert('RGB')\n",
        "bboxes = [Bbox(b[\"x0\"], b[\"x1\"], b[\"y0\"], b[\"y1\"], page) for b in page.get_bbox().values()]\n",
        "character_bboxes = [(bbox.x0_image, bbox.y0_image, bbox.x1_image, bbox.y1_image) for bbox in bboxes]\n",
        "\n",
        "draw = ImageDraw.Draw(image)\n",
        "for bbox in character_bboxes:\n",
        "    draw.rectangle(bbox, outline='green', width=1)\n",
        "\n",
        "document_segmented_path = f\"{document_path.name}_segmented.png\"\n",
        "image.save(document_segmented_path)\n",
        "Image(filename=document_segmented_path, width=1200)"
      ]
    },
    {
      "cell_type": "markdown",
      "metadata": {
        "id": "NPo8jvUcb9Fg"
      },
      "source": [
        "# **Documentation and Tutorials** 📄\n",
        "\n",
        "Konfuzio SDK comes with an extensive documentation and accompanying tutorials. \\\n",
        "Check it out here 📣\n",
        "\n",
        "- [Development Documentation](https://dev.konfuzio.com/index.html)\n",
        "- [Python API Reference](https://dev.konfuzio.com/sdk/sourcecode.html#api-reference)\n",
        "- [SDK Tutorials](https://dev.konfuzio.com/sdk/tutorials.html#tutorials)"
      ]
    },
    {
      "cell_type": "code",
      "execution_count": null,
      "metadata": {
        "id": "yj3Jck6PceYt"
      },
      "outputs": [],
      "source": [
        "# Now you can continue writing your own python code using Konfuzio SDK.. 🧑‍💻"
      ]
    },
    {
      "cell_type": "code",
      "execution_count": null,
      "metadata": {
        "id": "4fjlOvoupQXG"
      },
      "outputs": [],
      "source": []
    }
  ],
  "metadata": {
    "colab": {
      "provenance": []
    },
    "kernelspec": {
      "display_name": "Python 3",
      "name": "python3"
    },
    "language_info": {
      "name": "python"
    }
  },
  "nbformat": 4,
  "nbformat_minor": 0
}
